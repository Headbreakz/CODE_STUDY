{
 "cells": [
  {
   "cell_type": "markdown",
   "metadata": {},
   "source": [
    "## 우유와 요거트가 담긴 장바구니\n"
   ]
  },
  {
   "cell_type": "code",
   "execution_count": null,
   "metadata": {},
   "outputs": [],
   "source": [
    "SELECT\n",
    "    DISTINCT a.CART_ID    \n",
    "FROM\n",
    "    CART_PRODUCTS a, CART_PRODUCTS b\n",
    "WHERE\n",
    "    a.CART_ID = b.CART_ID and a.NAME ='Milk' and b.NAME = 'Yogurt'\n",
    "ORDER bY\n",
    "    a.CART_ID"
   ]
  },
  {
   "cell_type": "markdown",
   "metadata": {},
   "source": [
    "## test"
   ]
  },
  {
   "cell_type": "code",
   "execution_count": null,
   "metadata": {},
   "outputs": [],
   "source": [
    "SELECT\n",
    "    ID,COUNT(USER_ID),\n",
    "    PRICE (\n",
    "        SELECT SUM(PRICE)\n",
    "        FROM PURCHASES p\n",
    "        LEFT JOIN CHARACTERS c\n",
    "        on p.time = c.name\n",
    "        where p.user_id\n",
    "        )\n",
    "FROM\n",
    "    GAME_USERS G\n",
    "LEFT JOIN\n",
    "    PURCHASES P\n",
    "on\n",
    "    G.ID = P.USER_ID   "
   ]
  },
  {
   "cell_type": "code",
   "execution_count": null,
   "metadata": {},
   "outputs": [],
   "source": [
    "select a.id,c.price \n",
    "from game_users as a \n",
    "\n",
    "left join purchases as b \n",
    "on a.ID =  b.user_id \n",
    "\n",
    "left join characters  as c \n",
    "on b.item = c.name\n",
    "\n",
    "group by a.id\n",
    "\n",
    "order by a.id \n"
   ]
  },
  {
   "cell_type": "code",
   "execution_count": null,
   "metadata": {},
   "outputs": [],
   "source": [
    "SELECT A.ID, A.CHA_NUM, A.PRICE\n",
    "FROM \n",
    "\t(SELECT PC.ID, COUNT(PC.NAME) AS CHA_NUM, SUM(CH.PRICE) AS PRICE\n",
    "\tFROM CHARACTERS AS CH\n",
    "\tJOIN PURCHASES AS PC\n",
    "\tON CH.NAME - PC.NAME\n",
    "\tGROUP BY PC.ID) A\n",
    "LEFT JOIN GAME_USER G\n",
    "ON A.ID=G.ID"
   ]
  },
  {
   "cell_type": "markdown",
   "metadata": {},
   "source": [
    "## test2"
   ]
  },
  {
   "cell_type": "code",
   "execution_count": null,
   "metadata": {},
   "outputs": [],
   "source": [
    "SELECT\n",
    "    DISTINCT USER_ID\n",
    "FROM\n",
    "    CARTS C\n",
    "LEFT JOIN\n",
    "    CART_PRODUCTS P\n",
    "ON \n",
    "    C.ID = P.ID    \n",
    "WHERE \n",
    "    P.NAME = '밀가루'\n",
    "ORDER BY\n",
    "    USER_ID"
   ]
  }
 ],
 "metadata": {
  "kernelspec": {
   "display_name": "Python 3",
   "language": "python",
   "name": "python3"
  },
  "language_info": {
   "codemirror_mode": {
    "name": "ipython",
    "version": 3
   },
   "file_extension": ".py",
   "mimetype": "text/x-python",
   "name": "python",
   "nbconvert_exporter": "python",
   "pygments_lexer": "ipython3",
   "version": "3.6.5"
  }
 },
 "nbformat": 4,
 "nbformat_minor": 4
}
