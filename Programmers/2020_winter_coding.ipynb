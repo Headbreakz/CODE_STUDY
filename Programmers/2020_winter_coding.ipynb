{
 "cells": [
  {
   "cell_type": "markdown",
   "metadata": {},
   "source": [
    "## 1"
   ]
  },
  {
   "cell_type": "code",
   "execution_count": 12,
   "metadata": {},
   "outputs": [],
   "source": [
    "def solution(n, delivery):\n",
    "    delivery.sort(key = lambda x : x[2],reverse= True)\n",
    "    result =list('?'*n)\n",
    "    a = []\n",
    "    b = []\n",
    "    c = []\n",
    "    \n",
    "    for i in delivery :\n",
    "        if i[2] == 1:\n",
    "            if i[0] not in a :\n",
    "                a.append(i[0])\n",
    "            if i[1] not in a :\n",
    "                a.append(i[1])\n",
    "        elif i[2] == 0:\n",
    "            if i[0] in a :\n",
    "                b.append(i[1])\n",
    "            elif i[1] in a :\n",
    "                b.append(i[0])\n",
    "            else:\n",
    "                c.append(i[0])\n",
    "                c.append(i[1])\n",
    "    a = list(set(a))\n",
    "    b = list(set(b))\n",
    "    c = list(set(c))\n",
    "    \n",
    "    for x in range(len(c)):\n",
    "        result[c[x]-1] ='?'\n",
    "    for x in range(len(b)):\n",
    "        result[b[x]-1] ='X'\n",
    "    for x in range(len(a)):    \n",
    "        result[a[x]-1] ='O'\n",
    "      \n",
    "    \n",
    "    return ''.join(result)"
   ]
  },
  {
   "cell_type": "markdown",
   "metadata": {},
   "source": [
    "## 2"
   ]
  },
  {
   "cell_type": "code",
   "execution_count": 182,
   "metadata": {},
   "outputs": [
    {
     "name": "stdout",
     "output_type": "stream",
     "text": [
      "hellopython\n"
     ]
    }
   ],
   "source": [
    "alpha = 'abcdefghijklmnopqrstuvwxyz'\n",
    "encrypted_text = 'qyyigoptvfb'\n",
    "key = 'abcdefghijk'\n",
    "rotation = 3\n",
    "\n",
    "a = deque(list(encrypted_text))\n",
    "\n",
    "if rotation >= 1:\n",
    "    a.rotate(-rotation)\n",
    "elif rotation <0:\n",
    "    a.rotate(abs(rotation))\n",
    "    \n",
    "result = ''\n",
    "\n",
    "for i in range(len(a)):        \n",
    "        b = ord(a[i])- alpha.index(key[i])-1\n",
    "        if b < 97:\n",
    "            b = b+26\n",
    "        result += chr(b) \n",
    "    \n",
    "print(result)"
   ]
  }
 ],
 "metadata": {
  "kernelspec": {
   "display_name": "Python 3",
   "language": "python",
   "name": "python3"
  },
  "language_info": {
   "codemirror_mode": {
    "name": "ipython",
    "version": 3
   },
   "file_extension": ".py",
   "mimetype": "text/x-python",
   "name": "python",
   "nbconvert_exporter": "python",
   "pygments_lexer": "ipython3",
   "version": "3.6.5"
  }
 },
 "nbformat": 4,
 "nbformat_minor": 4
}
