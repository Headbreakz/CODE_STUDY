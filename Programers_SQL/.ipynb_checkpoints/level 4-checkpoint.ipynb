{
 "cells": [
  {
   "cell_type": "markdown",
   "metadata": {},
   "source": [
    "## 우유와 요거트가 담긴 장바구니\n"
   ]
  },
  {
   "cell_type": "code",
   "execution_count": null,
   "metadata": {},
   "outputs": [],
   "source": [
    "SELECT\n",
    "    DISTINCT a.CART_ID    \n",
    "FROM\n",
    "    CART_PRODUCTS a, CART_PRODUCTS b\n",
    "WHERE\n",
    "    a.CART_ID = b.CART_ID and a.NAME ='Milk' and b.NAME = 'Yogurt'\n",
    "ORDER bY\n",
    "    a.CART_ID"
   ]
  },
  {
   "cell_type": "markdown",
   "metadata": {},
   "source": [
    "## test"
   ]
  },
  {
   "cell_type": "code",
   "execution_count": null,
   "metadata": {},
   "outputs": [],
   "source": [
    "SELECT\n",
    "    ID,COUNT(USER_ID),\n",
    "    PRICE (\n",
    "        SELECT SUM(PRICE)\n",
    "        FROM PURCHASES p\n",
    "        LEFT JOIN CHARACTERS c\n",
    "        on p.time = c.name\n",
    "        where p.user_id\n",
    "        )\n",
    "FROM\n",
    "    GAME_USERS G\n",
    "LEFT JOIN\n",
    "    PURCHASES P\n",
    "on\n",
    "    G.ID = P.USER_ID\n",
    "\n",
    "    \n",
    "\n",
    "    \n",
    "    "
   ]
  },
  {
   "cell_type": "markdown",
   "metadata": {},
   "source": [
    "## test2"
   ]
  },
  {
   "cell_type": "code",
   "execution_count": null,
   "metadata": {},
   "outputs": [],
   "source": [
    "SELECT\n",
    "    DISTINCT USER_ID\n",
    "FROM\n",
    "    CARTS C\n",
    "LEFT JOIN\n",
    "    CART_PRODUCTS P\n",
    "ON \n",
    "    C.ID = P.ID    \n",
    "WHERE \n",
    "    P.NAME = '밀가루'\n",
    "ORDER BY\n",
    "    USER_ID"
   ]
  }
 ],
 "metadata": {
  "kernelspec": {
   "display_name": "Python 3",
   "language": "python",
   "name": "python3"
  },
  "language_info": {
   "codemirror_mode": {
    "name": "ipython",
    "version": 3
   },
   "file_extension": ".py",
   "mimetype": "text/x-python",
   "name": "python",
   "nbconvert_exporter": "python",
   "pygments_lexer": "ipython3",
   "version": "3.6.5"
  }
 },
 "nbformat": 4,
 "nbformat_minor": 4
}
