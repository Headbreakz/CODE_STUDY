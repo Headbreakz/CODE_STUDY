{
 "cells": [
  {
   "cell_type": "markdown",
   "metadata": {},
   "source": [
    "## 프린터"
   ]
  },
  {
   "cell_type": "code",
   "execution_count": null,
   "metadata": {},
   "outputs": [],
   "source": [
    "def solution(priorities, location):\n",
    "    num_location = [i for i in range(len(priorities))]\n",
    "    num_location_list =[]\n",
    "    num_list = []\n",
    "    while priorities:\n",
    "        a = priorities.pop(0)\n",
    "        b = num_location.pop(0) \n",
    "        count = 0    \n",
    "        for j in range(len(priorities)):\n",
    "            if a < priorities[j] :\n",
    "                priorities.append(a)\n",
    "                num_location.append(b)\n",
    "                break\n",
    "            else :\n",
    "                count += 1\n",
    "        if count == len(priorities):\n",
    "            num_list.append(a)\n",
    "            num_location_list.append(b)\n",
    "\n",
    "            \n",
    "            \n",
    "    \n",
    "    answer = num_location_list.index(location)+1\n",
    "    return answer"
   ]
  },
  {
   "cell_type": "markdown",
   "metadata": {},
   "source": [
    "## 124 나라의 숫자"
   ]
  },
  {
   "cell_type": "code",
   "execution_count": null,
   "metadata": {},
   "outputs": [],
   "source": [
    "def solution(n):\n",
    "    answer = ''\n",
    "    while n > 0:\n",
    "        n -= 1\n",
    "        answer = '124'[n%3] + answer\n",
    "        n //= 3\n",
    "    return answer\n"
   ]
  },
  {
   "cell_type": "markdown",
   "metadata": {},
   "source": [
    "## 스킬트리"
   ]
  },
  {
   "cell_type": "code",
   "execution_count": null,
   "metadata": {},
   "outputs": [],
   "source": [
    "def solution(skill, skill_trees):\n",
    "    answer = 0\n",
    "    skill_list = list(skill)\n",
    "    for i in skill_trees:\n",
    "        a = list(i)\n",
    "        txt_list = []\n",
    "        for j in range(len(a)):\n",
    "            if a[j] in skill_list :\n",
    "                txt_list.append(a[j])\n",
    "        txt_list = ''.join(txt_list)        \n",
    "        if  txt_list[:len(txt_list)] == skill[:len(txt_list)]:\n",
    "            answer += 1\n",
    "    \n",
    "    return answer"
   ]
  },
  {
   "cell_type": "markdown",
   "metadata": {},
   "source": [
    "## 올바른 괄호"
   ]
  },
  {
   "cell_type": "code",
   "execution_count": null,
   "metadata": {},
   "outputs": [],
   "source": [
    "def solution(s):\n",
    "    s = list(s)\n",
    "    count = 0\n",
    "    answer = False\n",
    "\n",
    "    for i in  range(len(s)):\n",
    "        if  s[i] == '(':\n",
    "            count += 1\n",
    "        else :\n",
    "            count -= 1\n",
    "            if count < 0 :\n",
    "                break\n",
    "    if count == 0 :\n",
    "        answer = True\n",
    "    else :\n",
    "        answer = False\n",
    "    \n",
    "    return answer"
   ]
  },
  {
   "cell_type": "markdown",
   "metadata": {},
   "source": [
    "## 다음 큰 숫자"
   ]
  },
  {
   "cell_type": "code",
   "execution_count": null,
   "metadata": {},
   "outputs": [],
   "source": [
    "def solution(n):\n",
    "    answer = 0\n",
    "    num = one_count(n)\n",
    "    a = n\n",
    "    while answer == 0 :\n",
    "        a += 1        \n",
    "        num2 = one_count(a)\n",
    "\n",
    "        if num == num2 :\n",
    "            answer = 1\n",
    "    return a\n",
    "\n",
    "def one_count(n):\n",
    "    count = 0\n",
    "    num = list(format(n,'b'))\n",
    "    for i in num :\n",
    "        if i == '1':\n",
    "            count += 1\n",
    "            \n",
    "    return count"
   ]
  },
  {
   "cell_type": "markdown",
   "metadata": {},
   "source": [
    "## 예상 대진표"
   ]
  },
  {
   "cell_type": "code",
   "execution_count": 4,
   "metadata": {},
   "outputs": [],
   "source": [
    "def solution(n,a,b):\n",
    "    answer = 0\n",
    "    while a != b:\n",
    "        answer += 1\n",
    "        a = (a+1)//2\n",
    "        b = (b+1)//2\n",
    "    \n",
    "    return answer"
   ]
  },
  {
   "cell_type": "markdown",
   "metadata": {},
   "source": [
    "## 땅따먹기"
   ]
  },
  {
   "cell_type": "code",
   "execution_count": 17,
   "metadata": {},
   "outputs": [],
   "source": [
    "def solution(land):\n",
    "    for i in range(1,len(land)):\n",
    "        land[i][0]=max(land[i][0]+land[i-1][1],land[i][0]+land[i-1][2],land[i][0]+land[i-1][3])\n",
    "        land[i][1]=max(land[i][1]+land[i-1][0],land[i][1]+land[i-1][2],land[i][1]+land[i-1][3])\n",
    "        land[i][2]=max(land[i][2]+land[i-1][0],land[i][2]+land[i-1][1],land[i][2]+land[i-1][3])\n",
    "        land[i][3]=max(land[i][3]+land[i-1][0],land[i][3]+land[i-1][1],land[i][3]+land[i-1][2])\n",
    "    return max(land[i])"
   ]
  },
  {
   "cell_type": "code",
   "execution_count": 19,
   "metadata": {},
   "outputs": [],
   "source": [
    "# best\n",
    "def solution(land):\n",
    "\n",
    "    for i in range(1, len(land)):\n",
    "        for j in range(len(land[0])):\n",
    "            land[i][j] = max(land[i -1][: j] + land[i - 1][j + 1:]) + land[i][j]\n",
    "\n",
    "    return max(land[-1])"
   ]
  }
 ],
 "metadata": {
  "kernelspec": {
   "display_name": "Python 3",
   "language": "python",
   "name": "python3"
  },
  "language_info": {
   "codemirror_mode": {
    "name": "ipython",
    "version": 3
   },
   "file_extension": ".py",
   "mimetype": "text/x-python",
   "name": "python",
   "nbconvert_exporter": "python",
   "pygments_lexer": "ipython3",
   "version": "3.8.3"
  }
 },
 "nbformat": 4,
 "nbformat_minor": 4
}
