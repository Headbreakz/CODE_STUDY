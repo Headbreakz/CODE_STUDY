{
 "cells": [
  {
   "cell_type": "code",
   "execution_count": 42,
   "id": "economic-subject",
   "metadata": {},
   "outputs": [],
   "source": [
    "aa = ['a 7' ,'b 12','c 3']\n"
   ]
  },
  {
   "cell_type": "code",
   "execution_count": 7,
   "id": "parliamentary-specific",
   "metadata": {},
   "outputs": [
    {
     "data": {
      "text/plain": [
       "'7'"
      ]
     },
     "execution_count": 7,
     "metadata": {},
     "output_type": "execute_result"
    }
   ],
   "source": [
    "aa[0][2]"
   ]
  },
  {
   "cell_type": "code",
   "execution_count": 25,
   "id": "familiar-pencil",
   "metadata": {},
   "outputs": [],
   "source": [
    "aaa = {aa[0] : aa[0][2] for aa[0] in aa}"
   ]
  },
  {
   "cell_type": "code",
   "execution_count": 26,
   "id": "trying-davis",
   "metadata": {},
   "outputs": [
    {
     "data": {
      "text/plain": [
       "{'a 7': '7', 'b 12': '1', 'c 3': '3'}"
      ]
     },
     "execution_count": 26,
     "metadata": {},
     "output_type": "execute_result"
    }
   ],
   "source": [
    "aaa"
   ]
  },
  {
   "cell_type": "code",
   "execution_count": 43,
   "id": "upset-debut",
   "metadata": {},
   "outputs": [
    {
     "name": "stdout",
     "output_type": "stream",
     "text": [
      "a\n",
      "b\n",
      "c\n"
     ]
    }
   ],
   "source": [
    "for i in aa :\n",
    "    print(i[0])"
   ]
  },
  {
   "cell_type": "code",
   "execution_count": 44,
   "id": "charged-destruction",
   "metadata": {},
   "outputs": [],
   "source": [
    "a = [4,1,5,12]"
   ]
  },
  {
   "cell_type": "code",
   "execution_count": 47,
   "id": "wanted-second",
   "metadata": {},
   "outputs": [],
   "source": [
    "a.sort()"
   ]
  },
  {
   "cell_type": "code",
   "execution_count": 58,
   "id": "first-impossible",
   "metadata": {},
   "outputs": [
    {
     "data": {
      "text/plain": [
       "0.5"
      ]
     },
     "execution_count": 58,
     "metadata": {},
     "output_type": "execute_result"
    }
   ],
   "source": []
  }
 ],
 "metadata": {
  "kernelspec": {
   "display_name": "Python 3",
   "language": "python",
   "name": "python3"
  },
  "language_info": {
   "codemirror_mode": {
    "name": "ipython",
    "version": 3
   },
   "file_extension": ".py",
   "mimetype": "text/x-python",
   "name": "python",
   "nbconvert_exporter": "python",
   "pygments_lexer": "ipython3",
   "version": "3.6.5"
  }
 },
 "nbformat": 4,
 "nbformat_minor": 5
}
