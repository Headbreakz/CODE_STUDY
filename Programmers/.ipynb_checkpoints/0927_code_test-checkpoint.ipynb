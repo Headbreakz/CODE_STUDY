{
 "cells": [
  {
   "cell_type": "markdown",
   "metadata": {},
   "source": [
    "## 1"
   ]
  },
  {
   "cell_type": "code",
   "execution_count": 24,
   "metadata": {},
   "outputs": [],
   "source": [
    "m = \"kkaxbycyz\"\n",
    "k = \"abc\""
   ]
  },
  {
   "cell_type": "code",
   "execution_count": 25,
   "metadata": {},
   "outputs": [
    {
     "name": "stdout",
     "output_type": "stream",
     "text": [
      "['a', 'b', 'c']\n",
      "['a', 'b', 'c']\n",
      "['a', 'b', 'c']\n",
      "['b', 'c']\n",
      "['b', 'c']\n",
      "['c']\n",
      "['c']\n",
      "[]\n",
      "[]\n"
     ]
    }
   ],
   "source": [
    "k_list =list(k)\n",
    "answer = ''\n",
    "\n",
    "for i in m:\n",
    "    print(k_list)\n",
    "    if len(k_list) != 0 :\n",
    "        if str(i) == k_list[0]:\n",
    "            k_list.pop(0)\n",
    "        else :\n",
    "            answer += str(i)\n",
    "        \n",
    "    elif len(k_list) == 0 :\n",
    "        answer += str(i)\n",
    "        \n",
    "    "
   ]
  },
  {
   "cell_type": "code",
   "execution_count": 26,
   "metadata": {},
   "outputs": [
    {
     "data": {
      "text/plain": [
       "'kkxyyz'"
      ]
     },
     "execution_count": 26,
     "metadata": {},
     "output_type": "execute_result"
    }
   ],
   "source": [
    "answer"
   ]
  },
  {
   "cell_type": "markdown",
   "metadata": {},
   "source": [
    "## 2"
   ]
  },
  {
   "cell_type": "code",
   "execution_count": 74,
   "metadata": {},
   "outputs": [],
   "source": [
    "blocks = [[0, 50], [0, 22], [2, 10], [1, 4], [4, -13]]"
   ]
  },
  {
   "cell_type": "code",
   "execution_count": 75,
   "metadata": {},
   "outputs": [],
   "source": [
    "empty_blocks = [['']*i for i in range(1,len(blocks)+1)]"
   ]
  },
  {
   "cell_type": "code",
   "execution_count": 76,
   "metadata": {},
   "outputs": [
    {
     "data": {
      "text/plain": [
       "[[''], ['', ''], ['', '', ''], ['', '', '', ''], ['', '', '', '', '']]"
      ]
     },
     "execution_count": 76,
     "metadata": {},
     "output_type": "execute_result"
    }
   ],
   "source": [
    "empty_blocks"
   ]
  },
  {
   "cell_type": "code",
   "execution_count": 77,
   "metadata": {},
   "outputs": [],
   "source": [
    "j = 0\n",
    "for i in blocks:\n",
    "    empty_blocks[j][i[0]] = i[1]\n",
    "    j +=1"
   ]
  },
  {
   "cell_type": "code",
   "execution_count": 78,
   "metadata": {
    "scrolled": false
   },
   "outputs": [
    {
     "data": {
      "text/plain": [
       "[[50], [22, ''], ['', '', 10], ['', 4, '', ''], ['', '', '', '', -13]]"
      ]
     },
     "execution_count": 78,
     "metadata": {},
     "output_type": "execute_result"
    }
   ],
   "source": [
    "empty_blocks"
   ]
  },
  {
   "cell_type": "code",
   "execution_count": null,
   "metadata": {},
   "outputs": [],
   "source": []
  },
  {
   "cell_type": "code",
   "execution_count": 79,
   "metadata": {},
   "outputs": [],
   "source": [
    "for z in range(1,len(empty_blocks)):\n",
    "    for y in range(z+1):\n",
    "        if y == 0 :\n",
    "            if empty_blocks[z][y] == '' and empty_blocks[z][y+1] !='':\n",
    "                empty_blocks[z][y] = empty_blocks[z-1][y-1]-empty_blocks[z][y+1]\n",
    "        elif y == z:\n",
    "            if empty_blocks[z][y] == '' and empty_blocks[z][y-1] !='':\n",
    "                empty_blocks[z][y] = empty_blocks[z-1][y-1]-empty_blocks[z][y-1]\n",
    "            \n",
    "            \n",
    "        else:\n",
    "            if empty_blocks[z][y] == '' and empty_blocks[z][y-1] !='' :                \n",
    "                empty_blocks[z][y] = empty_blocks[z-1][y-1]-empty_blocks[z][y-1]\n",
    "        "
   ]
  },
  {
   "cell_type": "code",
   "execution_count": 80,
   "metadata": {},
   "outputs": [
    {
     "data": {
      "text/plain": [
       "[[50], [22, 28], [18, 4, 10], [6, 4, 0, 10], [23, -17, 21, -21, -13]]"
      ]
     },
     "execution_count": 80,
     "metadata": {},
     "output_type": "execute_result"
    }
   ],
   "source": [
    "empty_blocks"
   ]
  }
 ],
 "metadata": {
  "kernelspec": {
   "display_name": "Python 3",
   "language": "python",
   "name": "python3"
  },
  "language_info": {
   "codemirror_mode": {
    "name": "ipython",
    "version": 3
   },
   "file_extension": ".py",
   "mimetype": "text/x-python",
   "name": "python",
   "nbconvert_exporter": "python",
   "pygments_lexer": "ipython3",
   "version": "3.8.3"
  }
 },
 "nbformat": 4,
 "nbformat_minor": 4
}
