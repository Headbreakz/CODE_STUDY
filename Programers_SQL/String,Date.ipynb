{
 "cells": [
  {
   "cell_type": "markdown",
   "metadata": {},
   "source": [
    "## 루시와 엘라 찾기"
   ]
  },
  {
   "cell_type": "code",
   "execution_count": null,
   "metadata": {},
   "outputs": [],
   "source": [
    "SELECT\n",
    "    ANIMAL_ID,NAME,SEX_UPON_INTAKE\n",
    "FROM\n",
    "    ANIMAL_INS\n",
    "WHERE \n",
    "    NAME IN('Lucy','Ella', 'Pickle', 'Rogan', 'Sabrina', 'Mitty')\n",
    "ORDER BY   \n",
    "    ANIMAL_ID  "
   ]
  },
  {
   "cell_type": "markdown",
   "metadata": {},
   "source": [
    "## 이름에 el이 들어가는 동물 찾기"
   ]
  },
  {
   "cell_type": "code",
   "execution_count": null,
   "metadata": {},
   "outputs": [],
   "source": [
    "SELECT\n",
    "    ANIMAL_ID, NAME\n",
    "FROM \n",
    "    ANIMAL_INS\n",
    "WHERE\n",
    "    ANIMAL_TYPE = 'Dog'\n",
    "HAVING\n",
    "    NAME LIKE '%el%'\n",
    "ORDER BY\n",
    "    NAME"
   ]
  },
  {
   "cell_type": "markdown",
   "metadata": {},
   "source": [
    "## 중성화 여부 파악하기"
   ]
  },
  {
   "cell_type": "code",
   "execution_count": null,
   "metadata": {},
   "outputs": [],
   "source": [
    "SELECT\n",
    "    ANIMAL_ID,NAME,\n",
    "    CASE \n",
    "        WHEN SEX_UPON_INTAKE like '%Intact%' THEN 'X'\n",
    "        ELSE 'O' END as '중성화'\n",
    "    \n",
    "FROM\n",
    "    ANIMAL_INS"
   ]
  },
  {
   "cell_type": "markdown",
   "metadata": {},
   "source": [
    "## 오랜 기간 보호한 동물"
   ]
  },
  {
   "cell_type": "code",
   "execution_count": null,
   "metadata": {},
   "outputs": [],
   "source": [
    "SELECT\n",
    "    i.ANIMAL_ID,i.NAME\n",
    "FROM\n",
    "    ANIMAL_INS i\n",
    "LEFT JOIN\n",
    "    ANIMAL_OUTS o\n",
    "ON\n",
    "    i.ANIMAL_ID = o.ANIMAL_ID\n",
    "ORDER BY\n",
    "    DATEDIFF(o.DATETIME, i.DATETIME) DESC\n",
    "LIMIT \n",
    "    2"
   ]
  },
  {
   "cell_type": "markdown",
   "metadata": {},
   "source": [
    "## DATETIME에서 DATE로 변환"
   ]
  },
  {
   "cell_type": "code",
   "execution_count": null,
   "metadata": {},
   "outputs": [],
   "source": [
    "SELECT\n",
    "    ANIMAL_ID,NAME,\n",
    "    DATE_FORMAT(DATETIME,'%Y-%m-%d') 날짜\n",
    "FROM\n",
    "    ANIMAL_INS\n",
    "ORDER BY\n",
    "    ANIMAL_ID"
   ]
  }
 ],
 "metadata": {
  "kernelspec": {
   "display_name": "Python 3",
   "language": "python",
   "name": "python3"
  },
  "language_info": {
   "codemirror_mode": {
    "name": "ipython",
    "version": 3
   },
   "file_extension": ".py",
   "mimetype": "text/x-python",
   "name": "python",
   "nbconvert_exporter": "python",
   "pygments_lexer": "ipython3",
   "version": "3.6.5"
  }
 },
 "nbformat": 4,
 "nbformat_minor": 4
}
