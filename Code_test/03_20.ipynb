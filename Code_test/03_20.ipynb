{
 "cells": [
  {
   "cell_type": "code",
   "execution_count": 40,
   "id": "sharing-greece",
   "metadata": {},
   "outputs": [
    {
     "name": "stdout",
     "output_type": "stream",
     "text": [
      "3\n",
      "12:00 ~ 23:59\n",
      "11:00 ~ 18:00\n",
      "14:00 ~ 20:00\n"
     ]
    }
   ],
   "source": [
    "# -*- coding: utf-8 -*-\n",
    "# UTF-8 encoding when using korean\n",
    "N = int(input())\n",
    "\n",
    "N_list = [[0]*6 for _ in range(N)]\n",
    "\n",
    "for i in range(N):\n",
    "\ttime = list(map(str, input().split(' ~ ')))\n",
    "\tN_list[i][0], N_list[i][1] = time[0].split(':')\n",
    "\tN_list[i][2], N_list[i][3] = time[1].split(':')\n",
    "\tN_list[i][4], N_list[i][5] = int(N_list[i][0])*60 + int(N_list[i][1]), int(N_list[i][2])*60 + int(N_list[i][3])\n",
    "\n",
    "start_time = 0\n",
    "end_time = 10000000\n",
    "\n",
    "for i in  range(N):\n",
    "\tif N_list[i][4] > start_time:\n",
    "\t\tstart_time = N_list[i][4]\n",
    "\tif N_list[i][5] < end_time:\n",
    "\t\tend_time = N_list[i][5]\n",
    "\n",
    "print(str(start_time//60).zfill(2)+':'+str(start_time % 60).zfill(2)+' ~ '+str(end_time//60).zfill(2)+':'+str(end_time % 60).zfill(2))"
   ]
  }
 ],
 "metadata": {
  "kernelspec": {
   "display_name": "Python 3",
   "language": "python",
   "name": "python3"
  },
  "language_info": {
   "codemirror_mode": {
    "name": "ipython",
    "version": 3
   },
   "file_extension": ".py",
   "mimetype": "text/x-python",
   "name": "python",
   "nbconvert_exporter": "python",
   "pygments_lexer": "ipython3",
   "version": "3.6.5"
  }
 },
 "nbformat": 4,
 "nbformat_minor": 5
}
