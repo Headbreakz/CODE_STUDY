{
 "cells": [
  {
   "cell_type": "markdown",
   "metadata": {},
   "source": [
    "## 오픈 채팅방"
   ]
  },
  {
   "cell_type": "code",
   "execution_count": null,
   "metadata": {},
   "outputs": [],
   "source": [
    "def solution(record):\n",
    "    user = {}\n",
    "    answer = []\n",
    "\n",
    "    for i in record :\n",
    "        a = i.split(\" \")\n",
    "        if a[0] == 'Enter' :\n",
    "            user[a[1]] = a[2]                  \n",
    "\n",
    "        if a[0] == 'Change' :\n",
    "            user[a[1]] = a[2]\n",
    "    for i in record :\n",
    "        a = i.split(\" \")\n",
    "        if a[0] == 'Enter' :\n",
    "            answer.append(\"{}님이 들어왔습니다.\".format(user[a[1]]))                 \n",
    "\n",
    "        if a[0] == 'Leave' :\n",
    "            answer.append(\"{}님이 나갔습니다.\".format(user[a[1]]))        \n",
    "    \n",
    "    \n",
    "    return answer"
   ]
  },
  {
   "cell_type": "markdown",
   "metadata": {},
   "source": [
    "## 실패율"
   ]
  },
  {
   "cell_type": "code",
   "execution_count": null,
   "metadata": {},
   "outputs": [],
   "source": [
    "def solution(n, stages):\n",
    "    result = {}\n",
    "    user = len(stages)\n",
    "\n",
    "    for i in range(1,n+1):\n",
    "        a = stages.count(i)\n",
    "        if user == 0:\n",
    "            result[i] = 0\n",
    "        else:\n",
    "            result[i] = a/user\n",
    "            user -= a   \n",
    "\n",
    "    return sorted(result,key = lambda x : result[x],reverse=True)"
   ]
  },
  {
   "cell_type": "markdown",
   "metadata": {},
   "source": [
    "## 후보키"
   ]
  },
  {
   "cell_type": "code",
   "execution_count": null,
   "metadata": {},
   "outputs": [],
   "source": [
    "from itertools import combinations\n",
    "def solution(relation):\n",
    "    len_list = [i for i in range(1,len(relation[0])+1)]\n",
    "    total = []\n",
    "    combination_list = []\n",
    "    answer = []\n",
    "    \n",
    "    #조합\n",
    "    for i in range(1,len(len_list)+1):\n",
    "        a = list(combinations((len_list),i))    \n",
    "        combination_list.extend(a)\n",
    "    # print(combination_list)\n",
    "    \n",
    "    #가능한 조합만 저장\n",
    "    for a in combination_list :\n",
    "        list_txt = set()\n",
    "        for b in range(len(relation)):\n",
    "            txt = ''\n",
    "            for c in a :\n",
    "                txt += relation[b][c-1]\n",
    "            list_txt.add(txt)\n",
    "        if len(list_txt) == len(relation):\n",
    "            total.append(a)\n",
    "    \n",
    "    #가능한 조합에서 겹치는 것 저장\n",
    "    for i in total :    \n",
    "        for j in total :\n",
    "            if i == j :\n",
    "                continue\n",
    "            if set(i).issubset(set(j)):\n",
    "                answer.append(j)\n",
    "\n",
    "\n",
    "            \n",
    "    \n",
    "    return len(total)-len(set(answer))"
   ]
  },
  {
   "cell_type": "markdown",
   "metadata": {},
   "source": [
    "## 무지의 먹방 라이브"
   ]
  },
  {
   "cell_type": "code",
   "execution_count": null,
   "metadata": {},
   "outputs": [],
   "source": []
  },
  {
   "cell_type": "markdown",
   "metadata": {},
   "source": [
    "## 블록게임"
   ]
  }
 ],
 "metadata": {
  "kernelspec": {
   "display_name": "Python 3",
   "language": "python",
   "name": "python3"
  },
  "language_info": {
   "codemirror_mode": {
    "name": "ipython",
    "version": 3
   },
   "file_extension": ".py",
   "mimetype": "text/x-python",
   "name": "python",
   "nbconvert_exporter": "python",
   "pygments_lexer": "ipython3",
   "version": "3.8.3"
  }
 },
 "nbformat": 4,
 "nbformat_minor": 4
}
