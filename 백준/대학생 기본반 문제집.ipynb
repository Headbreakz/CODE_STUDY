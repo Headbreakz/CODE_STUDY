{
 "cells": [
  {
   "cell_type": "markdown",
   "metadata": {},
   "source": [
    "## 소수&팰린드롭"
   ]
  },
  {
   "cell_type": "code",
   "execution_count": 27,
   "metadata": {},
   "outputs": [],
   "source": [
    "# 소수 만들기\n",
    "import math\n",
    "def is_prime_number(n):\n",
    "    array = [True for i in range(n+1)]\n",
    "    \n",
    "    for i in range(2,int(math.sqrt(n))+1):\n",
    "        if array[i] == True:\n",
    "            for j in range(i+i,1000001,i):\n",
    "                if array[j] == True :\n",
    "                    array[j] = False\n",
    "            \n",
    "                \n",
    "    return array\n",
    "            "
   ]
  },
  {
   "cell_type": "code",
   "execution_count": 34,
   "metadata": {},
   "outputs": [],
   "source": [
    "#팰린드롭\n",
    "def Palindrome(n):\n",
    "    num = str(n)\n",
    "    print(num)\n",
    "    if num == num[::-1]:\n",
    "        return True\n",
    "    return False"
   ]
  },
  {
   "cell_type": "code",
   "execution_count": null,
   "metadata": {},
   "outputs": [],
   "source": [
    "#최종답\n",
    "# 소수 만들기\n",
    "import math\n",
    "def is_prime_number(n):\n",
    "    array = [True for i in range(n+1)]\n",
    "    \n",
    "    for i in range(2,int(math.sqrt(n))+1):\n",
    "        if array[i] == True:\n",
    "            for j in range(i+i,1000001,i):\n",
    "                array[j] = False\n",
    "                \n",
    "    return array\n",
    "\n",
    "#팰린드롭\n",
    "def Palindrome(n):\n",
    "    num = str(n)   \n",
    "    if num == num[::-1]:\n",
    "        return True\n",
    "    return False\n",
    "\n",
    "\n",
    "n = int(input())\n",
    "answer = 1003001\n",
    "array = is_prime_number(1000001)\n",
    "\n",
    "for i in range(n,1000001):\n",
    "    if i == 1 :\n",
    "        continue\n",
    "    if array[i] == True and Palindrome(i) == True:\n",
    "        answer = i\n",
    "        break\n",
    "print(answer)\n",
    "        \n",
    "    \n",
    "    \n",
    "  "
   ]
  },
  {
   "cell_type": "markdown",
   "metadata": {},
   "source": [
    "## 누울 자리를 찾아라"
   ]
  },
  {
   "cell_type": "code",
   "execution_count": 19,
   "metadata": {
    "scrolled": false
   },
   "outputs": [
    {
     "name": "stdout",
     "output_type": "stream",
     "text": [
      "5\n",
      "....X\n",
      "..XX.\n",
      ".....\n",
      ".XX..\n",
      "X....\n"
     ]
    }
   ],
   "source": [
    "n = int(input())\n",
    "matrix = []\n",
    "for i in range(n):\n",
    "    matrix.append(input())\n",
    "    "
   ]
  },
  {
   "cell_type": "code",
   "execution_count": 21,
   "metadata": {},
   "outputs": [
    {
     "name": "stdout",
     "output_type": "stream",
     "text": [
      "5 4\n"
     ]
    }
   ],
   "source": [
    "width_count = 0\n",
    "height_count = 0\n",
    "for a in range(n):\n",
    "    count = 0\n",
    "    num_count = 0\n",
    "    for b in range(n):\n",
    "        if matrix[a][b] == '.':\n",
    "            count += 1            \n",
    "        elif matrix[a][b] == 'X':\n",
    "            num_count = max(num_count,count)           \n",
    "            count =0\n",
    "    if num_count >= 2 or count >= 2 :\n",
    "        width_count += 1\n",
    "\n",
    "for a in range(n):\n",
    "    count = 0\n",
    "    num_count = 0\n",
    "    for b in range(n):\n",
    "        if matrix[b][a] == '.':\n",
    "            count += 1\n",
    "        elif matrix[b][a] == 'X':\n",
    "            num_count = max(num_count,count)\n",
    "            count =0\n",
    "    if num_count >= 2 or count >= 2:\n",
    "        height_count += 1\n",
    "print(width_count,end=' ')\n",
    "print(height_count)\n",
    "                    "
   ]
  }
 ],
 "metadata": {
  "kernelspec": {
   "display_name": "Python 3",
   "language": "python",
   "name": "python3"
  },
  "language_info": {
   "codemirror_mode": {
    "name": "ipython",
    "version": 3
   },
   "file_extension": ".py",
   "mimetype": "text/x-python",
   "name": "python",
   "nbconvert_exporter": "python",
   "pygments_lexer": "ipython3",
   "version": "3.8.3"
  }
 },
 "nbformat": 4,
 "nbformat_minor": 4
}
