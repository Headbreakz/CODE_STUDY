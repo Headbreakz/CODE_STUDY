{
 "cells": [
  {
   "cell_type": "code",
   "execution_count": 1,
   "id": "applicable-multiple",
   "metadata": {},
   "outputs": [],
   "source": [
    "registered_list = [\"cow\", \"cow1\", \"cow2\", \"cow3\", \"cow4\", \"cow9\", \"cow8\", \"cow7\", \"cow6\", \"cow5\"]\n",
    "new_id = \"cow\""
   ]
  },
  {
   "cell_type": "code",
   "execution_count": 5,
   "id": "complimentary-parent",
   "metadata": {},
   "outputs": [],
   "source": [
    "registered_list = [\"bird99\", \"bird98\", \"bird101\", \"gotoxy\"]\n",
    "new_id = \"bird98\""
   ]
  },
  {
   "cell_type": "code",
   "execution_count": 6,
   "id": "matched-generic",
   "metadata": {},
   "outputs": [],
   "source": [
    "if new_id not in registered_list :\n",
    "    print(new_id)"
   ]
  },
  {
   "cell_type": "code",
   "execution_count": 7,
   "id": "stock-manor",
   "metadata": {},
   "outputs": [],
   "source": [
    "def solution(registered_list, new_id):\n",
    "    if new_id not in registered_list :\n",
    "        print(new_id)\n",
    "        return new_id\n",
    "    \n",
    "    else :\n",
    "        new_id_word,new_id_number = check_id(new_id)        \n",
    "        new_id = new_id_word + str(int(new_id_number)+1)\n",
    "        solution(registered_list, new_id)"
   ]
  },
  {
   "cell_type": "code",
   "execution_count": 8,
   "id": "wanted-confusion",
   "metadata": {},
   "outputs": [],
   "source": [
    "def check_id(x) :\n",
    "    '''\n",
    "    input = new id \n",
    "    output = word , number    \n",
    "    '''\n",
    "#     global word\n",
    "#     global number\n",
    "    \n",
    "    word = ''\n",
    "    number =''\n",
    "    \n",
    "    for i in x :\n",
    "        if i.isdigit() == True :\n",
    "            number += i\n",
    "        else :\n",
    "            word += i\n",
    "    if len(number) == 0 :\n",
    "        number = 0\n",
    "    return word, number\n",
    "    \n",
    "    "
   ]
  },
  {
   "cell_type": "code",
   "execution_count": 9,
   "id": "tracked-africa",
   "metadata": {},
   "outputs": [
    {
     "name": "stdout",
     "output_type": "stream",
     "text": [
      "bird100\n"
     ]
    }
   ],
   "source": [
    "solution(registered_list, new_id)"
   ]
  },
  {
   "cell_type": "code",
   "execution_count": null,
   "id": "unable-hopkins",
   "metadata": {},
   "outputs": [],
   "source": []
  },
  {
   "cell_type": "code",
   "execution_count": 11,
   "id": "collect-procedure",
   "metadata": {},
   "outputs": [],
   "source": [
    "matrix = [0  for _ in range(30)]"
   ]
  },
  {
   "cell_type": "code",
   "execution_count": 12,
   "id": "lined-empire",
   "metadata": {},
   "outputs": [
    {
     "data": {
      "text/plain": [
       "[0,\n",
       " 0,\n",
       " 0,\n",
       " 0,\n",
       " 0,\n",
       " 0,\n",
       " 0,\n",
       " 0,\n",
       " 0,\n",
       " 0,\n",
       " 0,\n",
       " 0,\n",
       " 0,\n",
       " 0,\n",
       " 0,\n",
       " 0,\n",
       " 0,\n",
       " 0,\n",
       " 0,\n",
       " 0,\n",
       " 0,\n",
       " 0,\n",
       " 0,\n",
       " 0,\n",
       " 0,\n",
       " 0,\n",
       " 0,\n",
       " 0,\n",
       " 0,\n",
       " 0]"
      ]
     },
     "execution_count": 12,
     "metadata": {},
     "output_type": "execute_result"
    }
   ],
   "source": [
    "matrix"
   ]
  }
 ],
 "metadata": {
  "kernelspec": {
   "display_name": "Python 3",
   "language": "python",
   "name": "python3"
  },
  "language_info": {
   "codemirror_mode": {
    "name": "ipython",
    "version": 3
   },
   "file_extension": ".py",
   "mimetype": "text/x-python",
   "name": "python",
   "nbconvert_exporter": "python",
   "pygments_lexer": "ipython3",
   "version": "3.6.5"
  }
 },
 "nbformat": 4,
 "nbformat_minor": 5
}
