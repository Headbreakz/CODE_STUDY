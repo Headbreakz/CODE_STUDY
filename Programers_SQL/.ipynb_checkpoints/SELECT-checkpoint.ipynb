{
 "cells": [
  {
   "cell_type": "markdown",
   "metadata": {},
   "source": [
    "## 모든레코드 조회하기"
   ]
  },
  {
   "cell_type": "code",
   "execution_count": null,
   "metadata": {},
   "outputs": [],
   "source": [
    "SELECT\n",
    "    *\n",
    "FROM\n",
    "    ANIMAL_INS\n",
    "ORDER BY \n",
    "    ANIMAL_ID"
   ]
  },
  {
   "cell_type": "markdown",
   "metadata": {},
   "source": [
    "## 역순 정렬하기"
   ]
  },
  {
   "cell_type": "code",
   "execution_count": null,
   "metadata": {},
   "outputs": [],
   "source": [
    "SELECT\n",
    "    NAME,DATETIME\n",
    "FROM\n",
    "    ANIMAL_INS\n",
    "ORDER BY\n",
    "    ANIMAL_ID DESC"
   ]
  },
  {
   "cell_type": "markdown",
   "metadata": {},
   "source": [
    "## 아픈 동물 찾기"
   ]
  },
  {
   "cell_type": "code",
   "execution_count": null,
   "metadata": {},
   "outputs": [],
   "source": [
    "SELECT\n",
    "    ANIMAL_ID,NAME\n",
    "FROM\n",
    "    ANIMAL_INS\n",
    "WHERE\n",
    "    INTAKE_CONDITION = 'Sick'\n",
    "ORDER BY\n",
    "    ANIMAL_ID     "
   ]
  },
  {
   "cell_type": "markdown",
   "metadata": {},
   "source": [
    "## 어린 동물 찾기"
   ]
  },
  {
   "cell_type": "code",
   "execution_count": null,
   "metadata": {},
   "outputs": [],
   "source": [
    "SELECT\n",
    "    ANIMAL_ID,NAME\n",
    "FROM\n",
    "    ANIMAL_INS\n",
    "WHERE \n",
    "    INTAKE_CONDITION <> 'Aged'\n",
    "ORDER BY\n",
    "    ANIMAL_ID"
   ]
  },
  {
   "cell_type": "markdown",
   "metadata": {},
   "source": [
    "## 동물의 아이디와 이름"
   ]
  },
  {
   "cell_type": "code",
   "execution_count": null,
   "metadata": {},
   "outputs": [],
   "source": [
    "SELECT\n",
    "    ANIMAL_ID,NAME\n",
    "FROM\n",
    "    ANIMAL_INS\n",
    "ORDER BY\n",
    "    ANIMAL_ID"
   ]
  },
  {
   "cell_type": "markdown",
   "metadata": {},
   "source": [
    "## 여러 기준으로 정렬하기"
   ]
  },
  {
   "cell_type": "code",
   "execution_count": null,
   "metadata": {},
   "outputs": [],
   "source": [
    "SELECT\n",
    "    ANIMAL_ID,NAME,DATETIME\n",
    "FROM\n",
    "    ANIMAL_INS\n",
    "ORDER BY\n",
    "    NAME,DATETIME DESC"
   ]
  },
  {
   "cell_type": "markdown",
   "metadata": {},
   "source": [
    "## 상위 N개의 레코드"
   ]
  },
  {
   "cell_type": "code",
   "execution_count": null,
   "metadata": {},
   "outputs": [],
   "source": [
    "SELECT\n",
    "    NAME\n",
    "FROM\n",
    "    ANIMAL_INS\n",
    "ORDER BY\n",
    "    DATETIME\n",
    "LIMIT 1\n"
   ]
  }
 ],
 "metadata": {
  "kernelspec": {
   "display_name": "Python 3",
   "language": "python",
   "name": "python3"
  },
  "language_info": {
   "codemirror_mode": {
    "name": "ipython",
    "version": 3
   },
   "file_extension": ".py",
   "mimetype": "text/x-python",
   "name": "python",
   "nbconvert_exporter": "python",
   "pygments_lexer": "ipython3",
   "version": "3.6.5"
  }
 },
 "nbformat": 4,
 "nbformat_minor": 4
}
