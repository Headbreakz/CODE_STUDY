{
 "cells": [
  {
   "cell_type": "markdown",
   "metadata": {},
   "source": [
    "## 추석트래픽"
   ]
  },
  {
   "cell_type": "code",
   "execution_count": 6,
   "metadata": {},
   "outputs": [],
   "source": [
    "def solution(lines):\n",
    "    z = []\n",
    "    for line in lines:\n",
    "        a, b, c = line.split()\n",
    "        h, m, s = b.split(':')\n",
    "        end = (int(h)*60*60 + int(m)*60 + float(s))*1000\n",
    "        z.append((end-float(time[:-1])*1000+1, end))\n",
    "\n",
    "    length = len(z)\n",
    "    max_num = 1\n",
    "    print(z)\n",
    "    for i in range(length-1):\n",
    "        count = 1\n",
    "        for j in range(i+1, length):\n",
    "            if z[j][1] - z[i][1] >= 4000:\n",
    "                break\n",
    "            if z[j][0] - z[i][1] < 1000:\n",
    "                count += 1\n",
    "        max_num = max(max_num, count)\n",
    "    \n",
    "    return max"
   ]
  },
  {
   "cell_type": "code",
   "execution_count": null,
   "metadata": {},
   "outputs": [],
   "source": []
  }
 ],
 "metadata": {
  "kernelspec": {
   "display_name": "Python 3",
   "language": "python",
   "name": "python3"
  },
  "language_info": {
   "codemirror_mode": {
    "name": "ipython",
    "version": 3
   },
   "file_extension": ".py",
   "mimetype": "text/x-python",
   "name": "python",
   "nbconvert_exporter": "python",
   "pygments_lexer": "ipython3",
   "version": "3.8.3"
  }
 },
 "nbformat": 4,
 "nbformat_minor": 4
}
