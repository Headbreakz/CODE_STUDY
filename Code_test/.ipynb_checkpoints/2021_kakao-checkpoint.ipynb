{
 "cells": [
  {
   "cell_type": "code",
   "execution_count": 29,
   "id": "developing-thailand",
   "metadata": {},
   "outputs": [],
   "source": [
    "text_list = ['zero','one','two','three','four','five','six','seven','eight','nine']"
   ]
  },
  {
   "cell_type": "code",
   "execution_count": 30,
   "id": "defined-triumph",
   "metadata": {},
   "outputs": [],
   "source": [
    "num_list = [0,1,2,3,4,5,6,7,8,9]"
   ]
  },
  {
   "cell_type": "code",
   "execution_count": 31,
   "id": "opening-breathing",
   "metadata": {},
   "outputs": [],
   "source": [
    "s = \"one4seveneight\"\n",
    "# s = \"one\""
   ]
  },
  {
   "cell_type": "code",
   "execution_count": 32,
   "id": "minimal-backup",
   "metadata": {},
   "outputs": [],
   "source": [
    "while s.isdigit() != True:\n",
    "    for i in range(len(text_list)) :\n",
    "        if text_list[i] in s :        \n",
    "            s = s.replace(str(text_list[i]),str(num_list[i]))\n",
    "\n",
    "        "
   ]
  },
  {
   "cell_type": "code",
   "execution_count": 33,
   "id": "linear-context",
   "metadata": {},
   "outputs": [
    {
     "data": {
      "text/plain": [
       "'1478'"
      ]
     },
     "execution_count": 33,
     "metadata": {},
     "output_type": "execute_result"
    }
   ],
   "source": [
    "s"
   ]
  },
  {
   "cell_type": "code",
   "execution_count": 25,
   "id": "cutting-forward",
   "metadata": {},
   "outputs": [
    {
     "data": {
      "text/plain": [
       "False"
      ]
     },
     "execution_count": 25,
     "metadata": {},
     "output_type": "execute_result"
    }
   ],
   "source": [
    "s.isdigit()"
   ]
  },
  {
   "cell_type": "code",
   "execution_count": null,
   "id": "dramatic-connection",
   "metadata": {},
   "outputs": [],
   "source": [
    "n = 8\n",
    "k = 2\n",
    "cmd = [\"D 2\",\"C\",\"U 3\",\"C\",\"D 4\",\"C\",\"U 2\",\"Z\",\"Z\"]"
   ]
  },
  {
   "cell_type": "code",
   "execution_count": 35,
   "id": "creative-reliance",
   "metadata": {},
   "outputs": [
    {
     "data": {
      "text/plain": [
       "[0, 1, 2, 3, 4, 5, 6, 7]"
      ]
     },
     "execution_count": 35,
     "metadata": {},
     "output_type": "execute_result"
    }
   ],
   "source": [
    "n = 8\n",
    "list_num = [i for i in range(n)]"
   ]
  },
  {
   "cell_type": "code",
   "execution_count": 36,
   "id": "otherwise-sustainability",
   "metadata": {},
   "outputs": [],
   "source": [
    "def U_X(x,y):\n",
    "    _,num = x.split(' ')\n",
    "    return int(num)+y\n",
    "\n",
    "def D_X(x,y):\n",
    "    _,num = x.split(' ')\n",
    "    return y - int(num)"
   ]
  },
  {
   "cell_type": "code",
   "execution_count": 37,
   "id": "concrete-netscape",
   "metadata": {},
   "outputs": [
    {
     "ename": "IndentationError",
     "evalue": "expected an indented block (<ipython-input-37-479ba940d0cf>, line 13)",
     "output_type": "error",
     "traceback": [
      "\u001b[1;36m  File \u001b[1;32m\"<ipython-input-37-479ba940d0cf>\"\u001b[1;36m, line \u001b[1;32m13\u001b[0m\n\u001b[1;33m    elif i[0] == 'Z':\u001b[0m\n\u001b[1;37m       ^\u001b[0m\n\u001b[1;31mIndentationError\u001b[0m\u001b[1;31m:\u001b[0m expected an indented block\n"
     ]
    }
   ],
   "source": [
    "check_point = k\n",
    "remove_num = []\n",
    "pre_num = list_num\n",
    "for i in cmd :\n",
    "    if i[0] == 'U':\n",
    "        check_point = U_X(i,check_point)\n",
    "    \n",
    "    elif i[0] == 'D':\n",
    "        check_point = D_X(i,check_point)\n",
    "        \n",
    "    elif i[0] == 'C':\n",
    "        remove_num.append(check_point)\n",
    "        list_num[check_point] = -1 \n",
    "        if check_point == n-1:\n",
    "            check_point = check_point-1\n",
    "        else :\n",
    "            check_point += 1\n",
    "        \n",
    "    elif i[0] == 'Z':\n",
    "        list_num[remove_num[-1]] = remove_num[-1]\n",
    "    \n",
    "    "
   ]
  }
 ],
 "metadata": {
  "kernelspec": {
   "display_name": "Python 3",
   "language": "python",
   "name": "python3"
  },
  "language_info": {
   "codemirror_mode": {
    "name": "ipython",
    "version": 3
   },
   "file_extension": ".py",
   "mimetype": "text/x-python",
   "name": "python",
   "nbconvert_exporter": "python",
   "pygments_lexer": "ipython3",
   "version": "3.6.5"
  }
 },
 "nbformat": 4,
 "nbformat_minor": 5
}
