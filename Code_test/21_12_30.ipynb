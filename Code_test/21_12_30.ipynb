{
 "cells": [
  {
   "cell_type": "code",
   "execution_count": 4,
   "id": "varied-creator",
   "metadata": {},
   "outputs": [],
   "source": [
    "P = [\"11\",\"111\",\"11\",\"211\"]"
   ]
  },
  {
   "cell_type": "code",
   "execution_count": 8,
   "id": "closing-robin",
   "metadata": {},
   "outputs": [],
   "source": [
    "\n",
    "\n",
    "\n",
    "\n",
    "def Palin_fun(x):\n",
    "    for i in range(len(x)//2):\n",
    "        if x[i] == x[-i-1]:\n",
    "            continue\n",
    "        else:\n",
    "            return False\n",
    "    return True"
   ]
  },
  {
   "cell_type": "code",
   "execution_count": 9,
   "id": "right-glenn",
   "metadata": {},
   "outputs": [],
   "source": [
    "\n",
    "answer_list = []\n",
    "check_list = []\n",
    "for i in range(len(P)):\n",
    "    for j in range(i+1,len(P)):\n",
    "        if i == 0 :\n",
    "            if Palin_fun(P[i]+P[j]):\n",
    "                if P[j] not in answer_list:\n",
    "                    answer_list.append(P[j])\n",
    "            if Palin_fun(P[j]+P[i]):\n",
    "                if P[j] not in answer_list:\n",
    "                    answer_list.append(P[j])\n",
    "\n"
   ]
  }
 ],
 "metadata": {
  "kernelspec": {
   "display_name": "Python 3",
   "language": "python",
   "name": "python3"
  },
  "language_info": {
   "codemirror_mode": {
    "name": "ipython",
    "version": 3
   },
   "file_extension": ".py",
   "mimetype": "text/x-python",
   "name": "python",
   "nbconvert_exporter": "python",
   "pygments_lexer": "ipython3",
   "version": "3.6.5"
  }
 },
 "nbformat": 4,
 "nbformat_minor": 5
}
