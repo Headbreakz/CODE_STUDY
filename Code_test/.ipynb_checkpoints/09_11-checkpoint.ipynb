{
 "cells": [
  {
   "cell_type": "code",
   "execution_count": 41,
   "id": "tamil-easter",
   "metadata": {},
   "outputs": [],
   "source": [
    "a = [\"muzi\", \"frodo\", \"apeach\", \"neo\"]"
   ]
  },
  {
   "cell_type": "code",
   "execution_count": 42,
   "id": "disturbed-extra",
   "metadata": {},
   "outputs": [],
   "source": [
    "b = [\"muzi frodo\",\"apeach frodo\",\"frodo neo\",\"muzi neo\",\"apeach muzi\"]"
   ]
  },
  {
   "cell_type": "code",
   "execution_count": 44,
   "id": "ultimate-castle",
   "metadata": {},
   "outputs": [
    {
     "name": "stdout",
     "output_type": "stream",
     "text": [
      "['muzi', 'apeach']\n",
      "['frodo', 'muzi']\n"
     ]
    }
   ],
   "source": [
    "id_dict = {}\n",
    "\n",
    "for i in b :\n",
    "    c,d = i.split(' ')    \n",
    "    if id_dict.get(d) == None:\n",
    "        id_dict[d] = [c]\n",
    "    else :\n",
    "        id_dict[d].append(c)\n",
    "        print(id_dict[d])\n",
    "        id_dict[d] = set(id_dict[d])\n",
    "\n",
    "    \n",
    "    "
   ]
  },
  {
   "cell_type": "code",
   "execution_count": 29,
   "id": "balanced-terrorism",
   "metadata": {},
   "outputs": [
    {
     "data": {
      "text/plain": [
       "{'frodo': ['muzi', 'apeach'], 'neo': ['frodo', 'muzi'], 'muzi': ['apeach']}"
      ]
     },
     "execution_count": 29,
     "metadata": {},
     "output_type": "execute_result"
    }
   ],
   "source": [
    "id_dict"
   ]
  },
  {
   "cell_type": "code",
   "execution_count": 30,
   "id": "drawn-differential",
   "metadata": {},
   "outputs": [
    {
     "name": "stdout",
     "output_type": "stream",
     "text": [
      "['muzi', 'apeach']\n",
      "['frodo', 'muzi']\n",
      "['apeach']\n"
     ]
    }
   ],
   "source": [
    "answer_dict = {}\n",
    "for i in id_dict:\n",
    "    print(id_dict[i])\n",
    "    if len(id_dict[i]) >=2 :\n",
    "        for j in id_dict[i] :\n",
    "            if answer_dict.get(j) == None:\n",
    "                answer_dict[j] = 1\n",
    "            else :\n",
    "                answer_dict[j]+=1\n",
    "\n",
    "        \n",
    "    "
   ]
  },
  {
   "cell_type": "code",
   "execution_count": 33,
   "id": "about-creativity",
   "metadata": {},
   "outputs": [
    {
     "data": {
      "text/plain": [
       "{'muzi': 2, 'apeach': 1, 'frodo': 1}"
      ]
     },
     "execution_count": 33,
     "metadata": {},
     "output_type": "execute_result"
    }
   ],
   "source": [
    "answer_dict"
   ]
  },
  {
   "cell_type": "code",
   "execution_count": 38,
   "id": "noted-bedroom",
   "metadata": {},
   "outputs": [
    {
     "data": {
      "text/plain": [
       "dict_keys(['muzi', 'apeach', 'frodo'])"
      ]
     },
     "execution_count": 38,
     "metadata": {},
     "output_type": "execute_result"
    }
   ],
   "source": [
    "answer_dict.keys()"
   ]
  },
  {
   "cell_type": "code",
   "execution_count": 39,
   "id": "pending-nebraska",
   "metadata": {},
   "outputs": [],
   "source": [
    "answer = []\n",
    "for i in a :\n",
    "    if i in answer_dict.keys() :\n",
    "        answer.append(answer_dict[i])\n",
    "    else:\n",
    "        answer.append(0)\n",
    "    "
   ]
  },
  {
   "cell_type": "code",
   "execution_count": 118,
   "id": "precious-atlanta",
   "metadata": {},
   "outputs": [
    {
     "ename": "AttributeError",
     "evalue": "'list' object has no attribute 'split'",
     "output_type": "error",
     "traceback": [
      "\u001b[1;31m---------------------------------------------------------------------------\u001b[0m",
      "\u001b[1;31mAttributeError\u001b[0m                            Traceback (most recent call last)",
      "\u001b[1;32m<ipython-input-118-978731be48cc>\u001b[0m in \u001b[0;36m<module>\u001b[1;34m\u001b[0m\n\u001b[0;32m      1\u001b[0m \u001b[0mc\u001b[0m \u001b[1;33m=\u001b[0m \u001b[1;33m[\u001b[0m\u001b[1;36m180\u001b[0m\u001b[1;33m,\u001b[0m \u001b[1;36m5000\u001b[0m\u001b[1;33m,\u001b[0m \u001b[1;36m10\u001b[0m\u001b[1;33m,\u001b[0m \u001b[1;36m600\u001b[0m\u001b[1;33m]\u001b[0m\u001b[1;33m\u001b[0m\u001b[0m\n\u001b[1;32m----> 2\u001b[1;33m \u001b[0mz\u001b[0m\u001b[1;33m,\u001b[0m\u001b[0mx\u001b[0m\u001b[1;33m,\u001b[0m\u001b[0mc\u001b[0m\u001b[1;33m,\u001b[0m\u001b[0mv\u001b[0m \u001b[1;33m=\u001b[0m \u001b[0mc\u001b[0m\u001b[1;33m.\u001b[0m\u001b[0msplit\u001b[0m\u001b[1;33m(\u001b[0m\u001b[1;34m','\u001b[0m\u001b[1;33m)\u001b[0m\u001b[1;33m\u001b[0m\u001b[0m\n\u001b[0m",
      "\u001b[1;31mAttributeError\u001b[0m: 'list' object has no attribute 'split'"
     ]
    }
   ],
   "source": [
    "c = [180, 5000, 10, 600]\n",
    "\n"
   ]
  },
  {
   "cell_type": "code",
   "execution_count": 130,
   "id": "median-mileage",
   "metadata": {},
   "outputs": [],
   "source": [
    "a = [\"05:34 5961 IN\", \"06:00 0000 IN\", \"06:34 0000 OUT\", \"07:59 5961 OUT\", \"07:59 0148 IN\", \"18:59 0000 IN\", \"19:09 0148 OUT\", \"22:59 5961 IN\", \"23:00 5961 OUT\"]"
   ]
  },
  {
   "cell_type": "code",
   "execution_count": 136,
   "id": "pressed-waterproof",
   "metadata": {},
   "outputs": [],
   "source": [
    "a = [\"00:00 1234 IN\"]"
   ]
  },
  {
   "cell_type": "code",
   "execution_count": 137,
   "id": "temporal-farmer",
   "metadata": {},
   "outputs": [],
   "source": [
    "car_time_dict = {}\n",
    "car_state_dict = {}\n",
    "\n",
    "finish_time = '23:59'"
   ]
  },
  {
   "cell_type": "code",
   "execution_count": 138,
   "id": "twelve-peninsula",
   "metadata": {},
   "outputs": [],
   "source": [
    "def hour_to_min(x):\n",
    "    hour = int(x[:2])\n",
    "    min_ = int(x[-2:])\n",
    "    time = (hour*60)+min_\n",
    "    return time"
   ]
  },
  {
   "cell_type": "code",
   "execution_count": 139,
   "id": "narrow-subsection",
   "metadata": {},
   "outputs": [],
   "source": [
    "for i in a :\n",
    "    time,number,state = i.split(' ')\n",
    "    if state =='IN':\n",
    "        car_state_dict[number] = hour_to_min(time)\n",
    "    elif state == 'OUT':\n",
    "        car_state_dict[number] = hour_to_min(time)-car_state_dict[number]\n",
    "        \n",
    "        if car_time_dict.get(number) == None :\n",
    "            car_time_dict[number] = car_state_dict[number]\n",
    "        else :\n",
    "            car_time_dict[number] += car_state_dict[number]\n",
    "        \n",
    "        car_state_dict[number] = -1\n",
    "    \n",
    "    \n",
    "        \n",
    "    \n",
    "        "
   ]
  },
  {
   "cell_type": "code",
   "execution_count": 140,
   "id": "fixed-congress",
   "metadata": {},
   "outputs": [
    {
     "data": {
      "text/plain": [
       "{'1234': 0}"
      ]
     },
     "execution_count": 140,
     "metadata": {},
     "output_type": "execute_result"
    }
   ],
   "source": [
    "car_state_dict"
   ]
  },
  {
   "cell_type": "code",
   "execution_count": 141,
   "id": "ranging-universe",
   "metadata": {},
   "outputs": [],
   "source": [
    "for i in car_state_dict:\n",
    "    if car_state_dict[i] != -1:\n",
    "        car_state_dict[i] = hour_to_min(finish_time)-car_state_dict[i]\n",
    "        \n",
    "        if car_time_dict.get(i) == None :\n",
    "            car_time_dict[i] = car_state_dict[i]\n",
    "        else :\n",
    "            car_time_dict[i] += car_state_dict[i]\n",
    "            \n",
    "        car_state_dict[i] = -1"
   ]
  },
  {
   "cell_type": "code",
   "execution_count": 142,
   "id": "ultimate-member",
   "metadata": {},
   "outputs": [],
   "source": [
    "car_time = sorted(car_time_dict.items())"
   ]
  },
  {
   "cell_type": "code",
   "execution_count": 143,
   "id": "varying-mattress",
   "metadata": {},
   "outputs": [
    {
     "data": {
      "text/plain": [
       "[('1234', 1439)]"
      ]
     },
     "execution_count": 143,
     "metadata": {},
     "output_type": "execute_result"
    }
   ],
   "source": [
    "car_time"
   ]
  },
  {
   "cell_type": "code",
   "execution_count": 122,
   "id": "rocky-gallery",
   "metadata": {},
   "outputs": [],
   "source": [
    "import math"
   ]
  },
  {
   "cell_type": "code",
   "execution_count": 123,
   "id": "modular-republican",
   "metadata": {},
   "outputs": [
    {
     "name": "stdout",
     "output_type": "stream",
     "text": [
      "14600\n",
      "34400\n"
     ]
    }
   ],
   "source": [
    "answer = []\n",
    "for i in car_time:\n",
    "    if i[1] > 180 :\n",
    "        fee = 5000+ math.ceil((i[1]-180)/10)*600\n",
    "        print(fee)\n",
    "    else :\n",
    "        fee = 5000\n",
    "    answer.append(int(fee))"
   ]
  },
  {
   "cell_type": "code",
   "execution_count": 116,
   "id": "paperback-paraguay",
   "metadata": {},
   "outputs": [
    {
     "data": {
      "text/plain": [
       "[14240, 34400, 5000]"
      ]
     },
     "execution_count": 116,
     "metadata": {},
     "output_type": "execute_result"
    }
   ],
   "source": [
    "answer"
   ]
  },
  {
   "cell_type": "code",
   "execution_count": 166,
   "id": "contrary-supply",
   "metadata": {},
   "outputs": [
    {
     "data": {
      "text/plain": [
       "5"
      ]
     },
     "execution_count": 166,
     "metadata": {},
     "output_type": "execute_result"
    }
   ],
   "source": [
    "10//2"
   ]
  },
  {
   "cell_type": "code",
   "execution_count": 177,
   "id": "incorporate-tampa",
   "metadata": {},
   "outputs": [
    {
     "name": "stdout",
     "output_type": "stream",
     "text": [
      "2\n"
     ]
    }
   ],
   "source": [
    "for i in range(2,3):\n",
    "    print(i)"
   ]
  },
  {
   "cell_type": "code",
   "execution_count": 179,
   "id": "former-mobility",
   "metadata": {},
   "outputs": [
    {
     "data": {
      "text/plain": [
       "1"
      ]
     },
     "execution_count": 179,
     "metadata": {},
     "output_type": "execute_result"
    }
   ],
   "source": [
    "int(math.sqrt(3))"
   ]
  },
  {
   "cell_type": "code",
   "execution_count": null,
   "id": "governing-attack",
   "metadata": {},
   "outputs": [],
   "source": []
  },
  {
   "cell_type": "code",
   "execution_count": 239,
   "id": "amended-probability",
   "metadata": {},
   "outputs": [],
   "source": [
    "n = 5\n",
    "a = [2,1,1,1,0,0,0,0,0,0,0]"
   ]
  },
  {
   "cell_type": "code",
   "execution_count": 203,
   "id": "extraordinary-duncan",
   "metadata": {},
   "outputs": [],
   "source": [
    "n = 1\n",
    "a = [1,0,0,0,0,0,0,0,0,0,0]"
   ]
  },
  {
   "cell_type": "code",
   "execution_count": 207,
   "id": "emerging-steps",
   "metadata": {},
   "outputs": [],
   "source": [
    "n = 9\n",
    "a = [0,0,1,2,0,1,1,1,1,1,1]"
   ]
  },
  {
   "cell_type": "code",
   "execution_count": 221,
   "id": "written-jewelry",
   "metadata": {},
   "outputs": [],
   "source": [
    "n = 10\n",
    "a = [0,0,0,0,0,0,0,0,3,4,3]"
   ]
  },
  {
   "cell_type": "code",
   "execution_count": 240,
   "id": "voluntary-bahrain",
   "metadata": {},
   "outputs": [],
   "source": [
    "lion_list = []"
   ]
  },
  {
   "cell_type": "code",
   "execution_count": 241,
   "id": "sporting-front",
   "metadata": {},
   "outputs": [],
   "source": [
    "for i in a :\n",
    "    if i < 2 and n-i > 0 :\n",
    "        lion_list.append(i+1)\n",
    "        n = n-(i+1)        \n",
    "        if n < 0 :\n",
    "            break\n",
    "    else : \n",
    "        lion_list.append(0)\n",
    "        \n",
    "if n > 0:\n",
    "    lion_list[-1] = n"
   ]
  },
  {
   "cell_type": "code",
   "execution_count": 242,
   "id": "pacific-stupid",
   "metadata": {},
   "outputs": [
    {
     "data": {
      "text/plain": [
       "[0, 2, 2, 0, 1, 0, 0, 0, 0, 0, 0]"
      ]
     },
     "execution_count": 242,
     "metadata": {},
     "output_type": "execute_result"
    }
   ],
   "source": [
    "lion_list"
   ]
  },
  {
   "cell_type": "code",
   "execution_count": 244,
   "id": "minimal-index",
   "metadata": {},
   "outputs": [],
   "source": [
    "info_sum = 0\n",
    "answer_sum = 0\n",
    "\n",
    "for i in range(10) :\n",
    "    if (a[i] +lion_list[i]) > 0:\n",
    "        if a[i] > lion_list[i] :\n",
    "            info_sum += 11-i\n",
    "        else :\n",
    "            answer_sum += 11-i\n",
    "        \n",
    "         \n",
    "    "
   ]
  },
  {
   "cell_type": "code",
   "execution_count": 245,
   "id": "rapid-mountain",
   "metadata": {},
   "outputs": [
    {
     "data": {
      "text/plain": [
       "19"
      ]
     },
     "execution_count": 245,
     "metadata": {},
     "output_type": "execute_result"
    }
   ],
   "source": [
    "info_sum"
   ]
  },
  {
   "cell_type": "code",
   "execution_count": 246,
   "id": "subtle-portsmouth",
   "metadata": {
    "scrolled": true
   },
   "outputs": [
    {
     "data": {
      "text/plain": [
       "26"
      ]
     },
     "execution_count": 246,
     "metadata": {},
     "output_type": "execute_result"
    }
   ],
   "source": [
    "answer_sum"
   ]
  },
  {
   "cell_type": "code",
   "execution_count": 247,
   "id": "identified-bullet",
   "metadata": {},
   "outputs": [
    {
     "name": "stdout",
     "output_type": "stream",
     "text": [
      "0\n",
      "1\n",
      "2\n"
     ]
    }
   ],
   "source": [
    "for i in range(3):\n",
    "    print(i)"
   ]
  },
  {
   "cell_type": "code",
   "execution_count": 255,
   "id": "active-mouse",
   "metadata": {},
   "outputs": [
    {
     "name": "stdout",
     "output_type": "stream",
     "text": [
      "3\n",
      "4\n",
      "5\n",
      "6\n",
      "7\n",
      "8\n",
      "9\n"
     ]
    }
   ],
   "source": [
    "for i in range(3,10):\n",
    "    print(i)"
   ]
  },
  {
   "cell_type": "code",
   "execution_count": 249,
   "id": "formed-letters",
   "metadata": {},
   "outputs": [
    {
     "data": {
      "text/plain": [
       "2.5"
      ]
     },
     "execution_count": 249,
     "metadata": {},
     "output_type": "execute_result"
    }
   ],
   "source": [
    "5//2"
   ]
  },
  {
   "cell_type": "code",
   "execution_count": 250,
   "id": "overall-buffer",
   "metadata": {},
   "outputs": [],
   "source": [
    "n = 5\n",
    "a = [2,1,1,1,0,0,0,0,0,0,0]"
   ]
  },
  {
   "cell_type": "code",
   "execution_count": 256,
   "id": "laughing-apache",
   "metadata": {},
   "outputs": [
    {
     "data": {
      "text/plain": [
       "[2, 1, 1]"
      ]
     },
     "execution_count": 256,
     "metadata": {},
     "output_type": "execute_result"
    }
   ],
   "source": [
    "a[:3]"
   ]
  },
  {
   "cell_type": "code",
   "execution_count": 251,
   "id": "sunrise-arrangement",
   "metadata": {},
   "outputs": [],
   "source": [
    "min_grade = min(a[:2])"
   ]
  },
  {
   "cell_type": "code",
   "execution_count": 252,
   "id": "narrow-administration",
   "metadata": {
    "scrolled": true
   },
   "outputs": [
    {
     "data": {
      "text/plain": [
       "1"
      ]
     },
     "execution_count": 252,
     "metadata": {},
     "output_type": "execute_result"
    }
   ],
   "source": [
    "min_grade"
   ]
  },
  {
   "cell_type": "code",
   "execution_count": 276,
   "id": "covered-variety",
   "metadata": {},
   "outputs": [],
   "source": [
    "import numpy as np"
   ]
  },
  {
   "cell_type": "code",
   "execution_count": 287,
   "id": "color-million",
   "metadata": {},
   "outputs": [],
   "source": [
    "board = [[1,2,3,4,5],[6,7,8,9,10],[11,12,13,14,15],[16,17,18,19,20]]\n",
    "board = np.array(board)"
   ]
  },
  {
   "cell_type": "code",
   "execution_count": 291,
   "id": "sixth-optimum",
   "metadata": {},
   "outputs": [
    {
     "data": {
      "text/plain": [
       "array([[ 1,  2,  3,  4,  5],\n",
       "       [ 6,  7,  8,  9, 10],\n",
       "       [11, 12, 13, 14, 15],\n",
       "       [16, 17, 18, 19, 20]])"
      ]
     },
     "execution_count": 291,
     "metadata": {},
     "output_type": "execute_result"
    }
   ],
   "source": [
    "board[0:4,0:5]"
   ]
  },
  {
   "cell_type": "code",
   "execution_count": 285,
   "id": "multiple-actor",
   "metadata": {},
   "outputs": [],
   "source": [
    "board[0:4,0:3] = board[0:4,0:2]+10"
   ]
  },
  {
   "cell_type": "code",
   "execution_count": 286,
   "id": "veterinary-stewart",
   "metadata": {},
   "outputs": [
    {
     "data": {
      "text/plain": [
       "array([[11, 12,  3,  4,  5],\n",
       "       [16, 17,  8,  9, 10],\n",
       "       [21, 22, 13, 14, 15],\n",
       "       [26, 27, 18, 19, 20]])"
      ]
     },
     "execution_count": 286,
     "metadata": {},
     "output_type": "execute_result"
    }
   ],
   "source": [
    "board"
   ]
  },
  {
   "cell_type": "code",
   "execution_count": 296,
   "id": "burning-makeup",
   "metadata": {},
   "outputs": [],
   "source": [
    "board = [[5,5,5,5,5],[5,5,5,5,5],[5,5,5,5,5],[5,5,5,5,5]]\n",
    "skill = [[1,0,0,3,4,4],[1,2,0,2,3,2],[2,1,0,3,1,2],[1,0,1,3,3,1]]\n",
    "board = np.array(board)"
   ]
  },
  {
   "cell_type": "code",
   "execution_count": null,
   "id": "temporal-label",
   "metadata": {},
   "outputs": [],
   "source": [
    "for i in range()"
   ]
  },
  {
   "cell_type": "code",
   "execution_count": 258,
   "id": "chinese-disco",
   "metadata": {},
   "outputs": [],
   "source": [
    "def attack(board,x) :\n",
    "    for i in range(x[1],x[3]+1):\n",
    "        for j in range(x[2],x[4]+1):\n",
    "            board[i][j] = board[i][j] - x[5]\n",
    "    return board\n",
    "    "
   ]
  },
  {
   "cell_type": "code",
   "execution_count": null,
   "id": "rough-fourth",
   "metadata": {},
   "outputs": [],
   "source": [
    "def recover(board,x):\n",
    "    for i in range(x[1],x[3]+1):\n",
    "        for j in range(x[2],x[4]+1):\n",
    "            board[i][j] = board[i][j] + x[5]\n",
    "    return board\n",
    "    "
   ]
  },
  {
   "cell_type": "code",
   "execution_count": 297,
   "id": "fabulous-complex",
   "metadata": {},
   "outputs": [
    {
     "data": {
      "text/plain": [
       "array([[9, 9, 9, 9, 9],\n",
       "       [9, 9, 9, 9, 9],\n",
       "       [9, 9, 9, 9, 9],\n",
       "       [9, 9, 9, 9, 9]])"
      ]
     },
     "execution_count": 297,
     "metadata": {},
     "output_type": "execute_result"
    }
   ],
   "source": [
    "attack(board,skill[0])"
   ]
  },
  {
   "cell_type": "code",
   "execution_count": 292,
   "id": "cardiac-satin",
   "metadata": {},
   "outputs": [],
   "source": [
    "import numpy as np\n",
    "\n",
    "\n",
    "board = np.array(board)\n",
    "for i in skill:\n",
    "    if i[0] == 1:\n",
    "        attack(board,i)\n",
    "    elif i[0] == 2:\n",
    "        recover(board,i)\n",
    "\n",
    "\n",
    "answer = 0\n",
    "\n",
    "for i in board :\n",
    "    for j in i :\n",
    "        if j > 0 :\n",
    "            answer += 1\n",
    "return answer\n",
    "\n",
    "\n",
    "\n",
    "def attack(board,x) :\n",
    "    \n",
    "    board[x[1]:x[3]+1,x[2]:x[4]+1] = board[x[1]:x[3]+1,x[2]:x[4]+1]-x[5]\n",
    "    \n",
    "    return board\n",
    "\n",
    "def recover(board,x):\n",
    "    board[x[1]:x[3]+1,x[2]:x[4]+1] = board[x[1]:x[3]+1,x[2]:x[4]+1]+bx[5]\n",
    "    return board\n",
    "    "
   ]
  },
  {
   "cell_type": "code",
   "execution_count": null,
   "id": "organic-newsletter",
   "metadata": {},
   "outputs": [],
   "source": []
  }
 ],
 "metadata": {
  "kernelspec": {
   "display_name": "Python 3",
   "language": "python",
   "name": "python3"
  },
  "language_info": {
   "codemirror_mode": {
    "name": "ipython",
    "version": 3
   },
   "file_extension": ".py",
   "mimetype": "text/x-python",
   "name": "python",
   "nbconvert_exporter": "python",
   "pygments_lexer": "ipython3",
   "version": "3.6.5"
  }
 },
 "nbformat": 4,
 "nbformat_minor": 5
}
