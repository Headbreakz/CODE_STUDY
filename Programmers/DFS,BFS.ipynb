{
 "cells": [
  {
   "cell_type": "markdown",
   "metadata": {},
   "source": [
    "## 타겟 넘버"
   ]
  },
  {
   "cell_type": "code",
   "execution_count": null,
   "metadata": {},
   "outputs": [],
   "source": [
    "def solution(numbers, target):\n",
    "    b = [0]\n",
    "    for i in numbers :\n",
    "        c = []\n",
    "        for j in b:\n",
    "            c.append(j+i)\n",
    "            c.append(j-i)\n",
    "        b = c\n",
    "\n",
    "    d = b.count(target)\n",
    "    \n",
    "    return d"
   ]
  },
  {
   "cell_type": "code",
   "execution_count": null,
   "metadata": {},
   "outputs": [],
   "source": [
    "#best\n",
    "def solution(numbers, target):\n",
    "    if not numbers and target == 0 :\n",
    "        return 1\n",
    "    elif not numbers:\n",
    "        return 0\n",
    "    else:\n",
    "        return solution(numbers[1:], target-numbers[0]) + solution(numbers[1:], target+numbers[0])"
   ]
  },
  {
   "cell_type": "code",
   "execution_count": null,
   "metadata": {},
   "outputs": [],
   "source": [
    "#best\n",
    "from itertools import product\n",
    "def solution(numbers, target):\n",
    "    l = [(x, -x) for x in numbers]\n",
    "    s = list(map(sum, product(*l)))\n",
    "    return s.count(target)"
   ]
  },
  {
   "cell_type": "markdown",
   "metadata": {},
   "source": [
    "## 네트워크"
   ]
  },
  {
   "cell_type": "code",
   "execution_count": null,
   "metadata": {},
   "outputs": [],
   "source": [
    "def solution(n, computers):\n",
    "    visited = [[0]*n for _ in range(n)]\n",
    "    newlist =[]\n",
    "    for i in range(n):\n",
    "        if set(bfs(i,computers)) not in newlist :\n",
    "            newlist.append(set(bfs(i,computers)))\n",
    "    \n",
    "    \n",
    "    return len(newlist)\n",
    "\n",
    "def bfs(start,computers):\n",
    "    queue =[start]\n",
    "    visited = [start]\n",
    "    \n",
    "    while queue :\n",
    "        n = queue.pop(0)\n",
    "        \n",
    "        for a in range(len(computers[start])):\n",
    "            if computers[n][a] == 1 and (a not in visited) :\n",
    "                queue.append(a)\n",
    "                visited.append(a)\n",
    "    return visited\n",
    "\n",
    "def dfs(start,visited):\n",
    "    visited +=[start]\n",
    "    \n",
    "    for a in range(len(computers[start])):\n",
    "        if computers[start][a] == 1 and (a not in visited):\n",
    "            dfs(a,visited)\n",
    "    return visited"
   ]
  },
  {
   "cell_type": "markdown",
   "metadata": {},
   "source": [
    "## 단어 변환"
   ]
  },
  {
   "cell_type": "code",
   "execution_count": null,
   "metadata": {},
   "outputs": [],
   "source": [
    "def solution(begin, target, words):\n",
    "    answer = bfs(begin,target,words)\n",
    "    return answer\n",
    "\n",
    "\n",
    "def bfs(begin,target,words):\n",
    "    if target not in words:\n",
    "        return 0\n",
    "    \n",
    "    queue = [begin]\n",
    "    visited = [begin]\n",
    "    total_count = 0\n",
    "    \n",
    "    while queue :\n",
    "        n = queue.pop(0)\n",
    "        \n",
    "\n",
    "        for a in words:      \n",
    "            \n",
    "            count = 0            \n",
    "            for i in range(len(n)):\n",
    "                if n[i] != a[i] :\n",
    "                    count += 1\n",
    "                if count == 2:\n",
    "                    break                \n",
    "\n",
    "            if count == 1 :\n",
    "                queue.append(a)\n",
    "                visited.append(a)\n",
    "                words.remove(a)\n",
    "        \n",
    "        total_count += 1\n",
    "\n",
    "        if target in visited :\n",
    "            return total_count\n",
    "        \n",
    "\n",
    "    return 0"
   ]
  },
  {
   "cell_type": "markdown",
   "metadata": {},
   "source": [
    "## 여행 경로"
   ]
  },
  {
   "cell_type": "code",
   "execution_count": 35,
   "metadata": {},
   "outputs": [],
   "source": [
    "tickets = [['ICN', 'SFO'], ['ICN', 'ATL'], ['SFO', 'ATL'], ['ATL', 'ICN'], ['ATL','SFO']]\n",
    "\n"
   ]
  },
  {
   "cell_type": "code",
   "execution_count": 36,
   "metadata": {},
   "outputs": [
    {
     "name": "stdout",
     "output_type": "stream",
     "text": [
      "{'ICN': ['SFO', 'ATL'], 'SFO': ['ATL'], 'ATL': ['ICN', 'SFO']}\n"
     ]
    }
   ],
   "source": [
    "routes = {}\n",
    "for t in tickets:\n",
    "    # 출발 공항이 키, value는 갈 수 있는 공항 들어있는 리스트\n",
    "    routes[t[0]] = routes.get(t[0], []) + [t[1]]\n",
    "    \n",
    "print(routes) "
   ]
  },
  {
   "cell_type": "code",
   "execution_count": 37,
   "metadata": {},
   "outputs": [
    {
     "name": "stdout",
     "output_type": "stream",
     "text": [
      "ICN\n",
      "SFO\n",
      "ATL\n",
      "{'ICN': ['SFO', 'ATL'], 'SFO': ['ATL'], 'ATL': ['SFO', 'ICN']}\n"
     ]
    }
   ],
   "source": [
    "for r in routes:\n",
    "    print(r)\n",
    "    routes[r].sort(reverse=True)\n",
    "print(routes)\n",
    "        "
   ]
  },
  {
   "cell_type": "code",
   "execution_count": 29,
   "metadata": {
    "scrolled": true
   },
   "outputs": [
    {
     "name": "stdout",
     "output_type": "stream",
     "text": [
      "['ICN', 'ATL']\n",
      "['ICN', 'ATL', 'ICN']\n",
      "['ICN', 'ATL', 'ICN', 'SFO']\n",
      "['ICN', 'ATL', 'ICN', 'SFO', 'ATL']\n",
      "['ICN', 'ATL', 'ICN', 'SFO', 'ATL', 'SFO']\n"
     ]
    },
    {
     "data": {
      "text/plain": [
       "['ICN', 'ATL', 'ICN', 'SFO', 'ATL', 'SFO']"
      ]
     },
     "execution_count": 29,
     "metadata": {},
     "output_type": "execute_result"
    }
   ],
   "source": [
    "stack = [\"ICN\"]  # 빈 걸로 초기화할 수도 있지만 무조건 ICN은 넣어서 시작하므로\n",
    "path = []  # 가려고 하는 경로 표현\n",
    "while len(stack) > 0:  # stack이 다 없어질 때까지\n",
    "    top = stack[-1]\n",
    "    # 어떤 공항에서 출발하는 표가 한장도 없다면 또는 있었는데, 다 써버렸다면\n",
    "    if top not in routes or len(routes[top]) == 0:\n",
    "        path.append(stack.pop())\n",
    "    else:\n",
    "        stack.append(routes[top][-1])  # 역순으로 정렬을 해놨으니, 가장 앞서는\n",
    "        # -1 직전까지 슬라이스를 해서, 떼어낸다. pop을 적용해도 된다.\n",
    "        routes[top] = routes[top][:-1]"
   ]
  }
 ],
 "metadata": {
  "kernelspec": {
   "display_name": "Python 3",
   "language": "python",
   "name": "python3"
  },
  "language_info": {
   "codemirror_mode": {
    "name": "ipython",
    "version": 3
   },
   "file_extension": ".py",
   "mimetype": "text/x-python",
   "name": "python",
   "nbconvert_exporter": "python",
   "pygments_lexer": "ipython3",
   "version": "3.8.5"
  }
 },
 "nbformat": 4,
 "nbformat_minor": 4
}
