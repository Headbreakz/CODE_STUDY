{
 "cells": [
  {
   "cell_type": "markdown",
   "metadata": {},
   "source": [
    "## 1"
   ]
  },
  {
   "cell_type": "code",
   "execution_count": null,
   "metadata": {
    "scrolled": true
   },
   "outputs": [],
   "source": [
    "def solution(n):\n",
    "    num = list(convert(n,3))\n",
    "    new_num = ''\n",
    "\n",
    "    for i in range(len(num)-1,-1,-1):        \n",
    "        new_num += num[i]\n",
    "\n",
    "    answer = list(str(int(new_num)))\n",
    "    total_answer = 0\n",
    "    count = 0\n",
    "    \n",
    "    for i in range(len(answer)-1,-1,-1):           \n",
    "        total_answer += int(answer[i])*(3**count)    \n",
    "        count += 1\n",
    "    \n",
    "    return total_answer\n",
    "\n",
    "def convert(n, base):\n",
    "    T = \"0123456789ABCDEF\"\n",
    "    q, r = divmod(n, base)\n",
    "    if q == 0:\n",
    "        return T[r]\n",
    "    else:\n",
    "        return convert(q, base) + T[r]"
   ]
  },
  {
   "cell_type": "markdown",
   "metadata": {},
   "source": [
    "## 2"
   ]
  },
  {
   "cell_type": "code",
   "execution_count": 27,
   "metadata": {},
   "outputs": [],
   "source": [
    "def solution(arr):\n",
    "    def quadtree(x, y, n):\n",
    "\n",
    "        if(n == 1):\n",
    "            return str(arr[x][y])\n",
    "    \n",
    "        result = []\n",
    "        for i in range(x, x + n):\n",
    "            for j in range(y, y + n):\n",
    " \n",
    "                if(arr[i][j] != arr[x][y]):\n",
    "                    \n",
    "                    result.extend(quadtree(x, y, n//2))\n",
    "                    result.extend(quadtree(x, y + n//2, n//2))\n",
    "                    result.extend(quadtree(x + n//2, y, n//2))\n",
    "                    result.extend(quadtree(x + n//2, y + n//2, n//2))\n",
    "                    \n",
    "                    \n",
    "                    return result\n",
    "            \n",
    "        return str(arr[x][y])\n",
    "    x = quadtree(0,0,len(arr))\n",
    "    total_answer = [0,0]\n",
    "    for i in x :\n",
    "        if i == '0' :\n",
    "            total_answer[0] += 1\n",
    "        elif i == '1':\n",
    "            total_answer[1] += 1\n",
    "    \n",
    "    return total_answer"
   ]
  },
  {
   "cell_type": "markdown",
   "metadata": {},
   "source": [
    "## 4"
   ]
  },
  {
   "cell_type": "code",
   "execution_count": 59,
   "metadata": {},
   "outputs": [],
   "source": [
    "def solution(s):\n",
    "    s = list(s)\n",
    "    s_len = len(s)\n",
    "    answer = 0\n",
    "    if s_len < 2 :\n",
    "        answer = 0\n",
    "    else :\n",
    "        for j in range(len(s)):            \n",
    "            for i in range(1+j,len(s)+1):\n",
    "                if i-j < 4:                    \n",
    "                    answer += len(set(s[j:i]))-1\n",
    "                else:\n",
    "                    answer += len(set(s[j:1]))\n",
    "\n",
    "    return answer"
   ]
  },
  {
   "cell_type": "code",
   "execution_count": 60,
   "metadata": {},
   "outputs": [
    {
     "data": {
      "text/plain": [
       "8"
      ]
     },
     "execution_count": 60,
     "metadata": {},
     "output_type": "execute_result"
    }
   ],
   "source": [
    "answer"
   ]
  }
 ],
 "metadata": {
  "kernelspec": {
   "display_name": "Python 3",
   "language": "python",
   "name": "python3"
  },
  "language_info": {
   "codemirror_mode": {
    "name": "ipython",
    "version": 3
   },
   "file_extension": ".py",
   "mimetype": "text/x-python",
   "name": "python",
   "nbconvert_exporter": "python",
   "pygments_lexer": "ipython3",
   "version": "3.8.3"
  }
 },
 "nbformat": 4,
 "nbformat_minor": 4
}
