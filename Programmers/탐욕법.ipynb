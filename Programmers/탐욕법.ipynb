{
 "cells": [
  {
   "cell_type": "markdown",
   "metadata": {},
   "source": [
    "### 체육복"
   ]
  },
  {
   "cell_type": "code",
   "execution_count": null,
   "metadata": {},
   "outputs": [],
   "source": [
    "def solution(n, lost, reserve):\n",
    "    n_reserve = [j for j in reserve if j not in lost]\n",
    "    n_lost = [k for k in lost if k not in reserve]\n",
    "\n",
    "    print(n_reserve)\n",
    "    print(n_lost)\n",
    "    for i in n_reserve:\n",
    "        if (i-1) in n_lost:       \n",
    "            n_lost.remove(i-1)\n",
    "        elif i+1 in n_lost:        \n",
    "            n_lost.remove(i+1)\n",
    "\n",
    "    answer = n - len(n_lost)\n",
    "    \n",
    "    return answer"
   ]
  },
  {
   "cell_type": "markdown",
   "metadata": {},
   "source": [
    "### 조이스틱"
   ]
  },
  {
   "cell_type": "code",
   "execution_count": 140,
   "metadata": {},
   "outputs": [
    {
     "name": "stdout",
     "output_type": "stream",
     "text": [
      "4\n",
      "3\n",
      "5\n",
      "4\n",
      "3\n"
     ]
    }
   ],
   "source": [
    "name = 'ABAAAAAAAABB'\n",
    "alphabet_list = ['A','B','C','D','E','F','G','H','I','J','K','L','M','N',\n",
    "             'O','P','Q','R','S','T','U','V','W','X','Y','Z']\n",
    "\n",
    "start_name='A'*len(name)\n",
    "count = 0\n",
    "del_count= 0\n",
    "point = 0\n",
    "\n",
    "\n",
    "\n",
    "for i in range(len(name)):\n",
    "    count += min(alphabet_list.index(name[i]),len(alphabet_list)-alphabet_list.index(name[i]))\n",
    "    \n",
    "for i in range(1,len(name)):\n",
    "    if name[-i] == 'A':  \n",
    "        point = i\n",
    "        new_name =list(map(str,(name[-i+1:]+name[:-i+1])))\n",
    "#         print(new_name)\n",
    "        for j in range(1,len(new_name)):\n",
    "            if new_name[-j] =='A':\n",
    "\n",
    "                del_count +=1\n",
    "            else :\n",
    "                break\n",
    "        break\n",
    "\n",
    "    else :\n",
    "        continue\n",
    "new_name =new_name[:len(name)-del_count]\n",
    "print(len(new_name))\n",
    "print(point)\n",
    "move = min(((len(new_name)-point)*2+point-1),(point*2+(len(new_name)-point)))\n",
    "\n",
    "print(move)\n",
    "print(count)"
   ]
  }
 ],
 "metadata": {
  "kernelspec": {
   "display_name": "Python 3",
   "language": "python",
   "name": "python3"
  },
  "language_info": {
   "codemirror_mode": {
    "name": "ipython",
    "version": 3
   },
   "file_extension": ".py",
   "mimetype": "text/x-python",
   "name": "python",
   "nbconvert_exporter": "python",
   "pygments_lexer": "ipython3",
   "version": "3.8.3"
  }
 },
 "nbformat": 4,
 "nbformat_minor": 4
}
