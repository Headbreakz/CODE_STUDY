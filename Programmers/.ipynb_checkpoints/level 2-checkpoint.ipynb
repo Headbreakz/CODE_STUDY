{
 "cells": [
  {
   "cell_type": "markdown",
   "metadata": {},
   "source": [
    "## 프린터"
   ]
  },
  {
   "cell_type": "code",
   "execution_count": 66,
   "metadata": {},
   "outputs": [],
   "source": [
    "def solution(priorities, location):\n",
    "    num_location = [i for i in range(len(priorities))]\n",
    "    num_location_list =[]\n",
    "    num_list = []\n",
    "    while priorities:\n",
    "        a = priorities.pop(0)\n",
    "        b = num_location.pop(0) \n",
    "        count = 0    \n",
    "        for j in range(len(priorities)):\n",
    "            if a < priorities[j] :\n",
    "                priorities.append(a)\n",
    "                num_location.append(b)\n",
    "                break\n",
    "            else :\n",
    "                count += 1\n",
    "        if count == len(priorities):\n",
    "            num_list.append(a)\n",
    "            num_location_list.append(b)\n",
    "\n",
    "            \n",
    "            \n",
    "    \n",
    "    answer = num_location_list.index(location)+1\n",
    "    return answer"
   ]
  },
  {
   "cell_type": "markdown",
   "metadata": {},
   "source": [
    "## 124 나라의 숫자"
   ]
  },
  {
   "cell_type": "code",
   "execution_count": 63,
   "metadata": {},
   "outputs": [],
   "source": [
    "def solution(n):\n",
    "    answer = ''\n",
    "    while n > 0:\n",
    "        n -= 1\n",
    "        answer = '124'[n%3] + answer\n",
    "        n //= 3\n",
    "    return answer\n"
   ]
  },
  {
   "cell_type": "markdown",
   "metadata": {},
   "source": [
    "## 스킬트리"
   ]
  },
  {
   "cell_type": "code",
   "execution_count": 94,
   "metadata": {},
   "outputs": [],
   "source": [
    "def solution(skill, skill_trees):\n",
    "    answer = 0\n",
    "    skill_list = list(skill)\n",
    "    for i in skill_trees:\n",
    "        a = list(i)\n",
    "        txt_list = []\n",
    "        for j in range(len(a)):\n",
    "            if a[j] in skill_list :\n",
    "                txt_list.append(a[j])\n",
    "        txt_list = ''.join(txt_list)        \n",
    "        if  txt_list[:len(txt_list)] == skill[:len(txt_list)]:\n",
    "            answer += 1\n",
    "    \n",
    "    return answer"
   ]
  }
 ],
 "metadata": {
  "kernelspec": {
   "display_name": "Python 3",
   "language": "python",
   "name": "python3"
  },
  "language_info": {
   "codemirror_mode": {
    "name": "ipython",
    "version": 3
   },
   "file_extension": ".py",
   "mimetype": "text/x-python",
   "name": "python",
   "nbconvert_exporter": "python",
   "pygments_lexer": "ipython3",
   "version": "3.8.3"
  }
 },
 "nbformat": 4,
 "nbformat_minor": 4
}
