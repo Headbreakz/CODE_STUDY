{
 "cells": [
  {
   "cell_type": "code",
   "execution_count": 1,
   "id": "featured-furniture",
   "metadata": {},
   "outputs": [],
   "source": [
    "goods = [\"pencil\",\"cilicon\",\"contrabase\",\"picturelist\"]"
   ]
  },
  {
   "cell_type": "code",
   "execution_count": 33,
   "id": "powerful-timer",
   "metadata": {},
   "outputs": [],
   "source": [
    "def solution(goods):\n",
    "    answer = []\n",
    "    return answer\n",
    "\n",
    "def split_words(x):\n",
    "    '''\n",
    "    x : string , 1 word\n",
    "    '''\n",
    "    div_word = []\n",
    "    for j in range(1,len(x)+1):\n",
    "        for i in range(len(x)):\n",
    "            if x[i:i+j] not in div_word:\n",
    "                div_word.append(x[i:i+j])\n",
    "    return div_word\n",
    "    \n",
    "    "
   ]
  },
  {
   "cell_type": "code",
   "execution_count": 24,
   "id": "seven-decision",
   "metadata": {
    "scrolled": false
   },
   "outputs": [],
   "source": [
    "answer = []\n",
    "for i in goods :\n",
    "    \n",
    "    new_goods = []\n",
    "    unique_word = []\n",
    "    div_word = split_words(i)    \n",
    "    \n",
    "    \n",
    "    for j in goods :        \n",
    "        if i != j :\n",
    "            new_goods.append(j)\n",
    "    \n",
    "    for q in div_word :   \n",
    "        check_div_word = 0        \n",
    "        for p in new_goods:                          \n",
    "            if q in p :\n",
    "                check_div_word = 1        \n",
    "        if check_div_word == 0 :           \n",
    "            if len(unique_word) != 0 :\n",
    "                if len(unique_word[-1]) == len(q):\n",
    "                    unique_word.append(q)\n",
    "                else :\n",
    "                    break          \n",
    "            else :\n",
    "                unique_word.append(q)         \n",
    "            \n",
    "     \n",
    "    unique_word.sort()\n",
    "    unique_word_txt = ''\n",
    "    if len(unique_word) == 0 :\n",
    "        unique_word_txt = 'None'\n",
    "    else :\n",
    "        unique_word_txt = ' '.join(unique_word)\n",
    "    answer.append(unique_word_txt)             \n",
    "                \n",
    "    "
   ]
  },
  {
   "cell_type": "code",
   "execution_count": 25,
   "id": "starting-grenada",
   "metadata": {
    "scrolled": true
   },
   "outputs": [
    {
     "data": {
      "text/plain": [
       "['en nc pe', 'ico ili lic', 'a b', 'u']"
      ]
     },
     "execution_count": 25,
     "metadata": {},
     "output_type": "execute_result"
    }
   ],
   "source": [
    "answer"
   ]
  },
  {
   "cell_type": "code",
   "execution_count": null,
   "id": "demonstrated-foundation",
   "metadata": {},
   "outputs": [],
   "source": []
  },
  {
   "cell_type": "code",
   "execution_count": 60,
   "id": "sealed-problem",
   "metadata": {},
   "outputs": [
    {
     "data": {
      "text/plain": [
       "1"
      ]
     },
     "execution_count": 60,
     "metadata": {},
     "output_type": "execute_result"
    }
   ],
   "source": [
    "a = [1,2,3,4,5,6]\n",
    "a.pop(0)\n"
   ]
  },
  {
   "cell_type": "code",
   "execution_count": 80,
   "id": "random-console",
   "metadata": {},
   "outputs": [
    {
     "data": {
      "text/plain": [
       "['1', '2', '4', 2, 2, 2, '1', '5']"
      ]
     },
     "execution_count": 80,
     "metadata": {},
     "output_type": "execute_result"
    }
   ],
   "source": [
    "arr = [\"1\",\"2\",\"4\",\"3\",\"3\",\"4\",\"1\",\"5\"]\n",
    "\n",
    "for i in range(3,6):\n",
    "    arr[i] =2\n",
    "    \n",
    "arr\n"
   ]
  },
  {
   "cell_type": "code",
   "execution_count": 89,
   "id": "union-alloy",
   "metadata": {},
   "outputs": [],
   "source": [
    "arr = [\"1\",\"2\",\"4\",\"3\",\"3\",\"4\",\"1\",\"5\"]\n",
    "processes = [\"read 1 3 1 2\",\"read 2 6 4 7\",\"write 4 3 3 5 2\",\"read 5 2 2 5\",\"write 6 1 3 3 9\", \"read 9 1 0 7\"]"
   ]
  },
  {
   "cell_type": "code",
   "execution_count": 96,
   "id": "surprised-neighborhood",
   "metadata": {},
   "outputs": [
    {
     "name": "stdout",
     "output_type": "stream",
     "text": [
      "[]\n",
      "0\n",
      "['read']\n",
      "3\n",
      "['read']\n",
      "8\n",
      "[]\n",
      "11\n",
      "['read']\n",
      "13\n",
      "[]\n",
      "14\n"
     ]
    }
   ],
   "source": [
    "time = 0\n",
    "processes_ing = []\n",
    "processes_write_wait = []\n",
    "processes_read_wait = []\n",
    "answer = []\n",
    "\n",
    "for i in range(len(processes)):\n",
    "    processes_split = processes[i].split(' ')\n",
    "    \n",
    "    if i == 0 :\n",
    "        processes_ing.append(processes_split[0])\n",
    "        time = time +int(processes_split[2])\n",
    "        if processes_split[0] == 'read':\n",
    "            answer.append(''.join(arr[int(processes_split[3]):int(processes_split[4])+1]))\n",
    "    \n",
    "    else:\n",
    "        \n",
    "        if processes_ing[0] == 'read':\n",
    "            \n",
    "        \n",
    "\n",
    "\n",
    "\n",
    "\n",
    "\n",
    "\n",
    "\n",
    "\n",
    "\n",
    "\n",
    "\n",
    "\n",
    "for i in processes :\n",
    "    processes_split = i.split(' ')\n",
    "    print(processes_ing)\n",
    "    print(time)\n",
    "    \n",
    "    if len(processes_ing) == 0 :\n",
    "        processes_ing.append(processes_split[0])\n",
    "        time = time +int(processes_split[2])\n",
    "        if processes_split[0] == 'read':\n",
    "            answer.append(''.join(arr[int(processes_split[3]):int(processes_split[4])+1]))\n",
    "        \n",
    "    \n",
    "    elif len(processes_ing) == 0 and len(processes_write_wait) != 0 and len(processes_read_wait) == 0 :\n",
    "        processes_split = processes_write_wait.pop(0).split(' ')\n",
    "        if time >= int(processes_split[1]):\n",
    "            time = time + int(processes_split[2])            \n",
    "        else :\n",
    "            time = int(processes_split[1]) + int(processes_split[2])\n",
    "        for i in range(int(processes_split[3]),int(processes_split[4])+1):\n",
    "            arr[i] = processes_split[4]\n",
    "        processes_ing.pop()        \n",
    "         \n",
    "        \n",
    "    elif len(processes_ing) == 0 and len(processes_read_wait) != 0:\n",
    "        processes_split = processes_read_wait.pop(0).split(' ')    \n",
    "        if time >= int(processes_split[1]):\n",
    "            time = time + int(processes_split[2])  \n",
    "        else :\n",
    "            time = int(processes_split[1]) + int(processes_split[2])            \n",
    "       \n",
    "        answer.append(''.join(arr[int(processes_split[3]):int(processes_split[4])+1]))\n",
    "        \n",
    "\n",
    "        \n",
    "    elif processes_ing[-1] =='read' and processes_split[0] == 'read' :\n",
    "        if time >= int(processes_split[1]) :\n",
    "            time = int(processes_split[2]) + int(processes_split[1])\n",
    "        else :\n",
    "            time = time + int(processes_split[2])\n",
    "        answer.append(''.join(arr[int(processes_split[3]):int(processes_split[4])+1]))\n",
    "    \n",
    "    elif processes_ing[-1] =='write' and processes_split[0] == 'read' :\n",
    "        processes_read_wait.append(i)\n",
    "    \n",
    "    elif processes_split[0] == 'write' and time >= int(processes_split[1]):\n",
    "        processes_ing.pop()        \n",
    "        processes_ing.append(processes_split[0])\n",
    "        time = time + int(processes_split[2])            \n",
    "        \n",
    "        for i in range(int(processes_split[3]),int(processes_split[4])+1):\n",
    "            arr[i] = processes_split[4]\n",
    "    \n",
    "    \n",
    "        \n",
    "        \n",
    "        \n",
    "        \n",
    "    \n",
    "    \n",
    "    \n",
    "        \n",
    "        \n",
    "    \n",
    "    "
   ]
  },
  {
   "cell_type": "code",
   "execution_count": 97,
   "id": "authorized-gossip",
   "metadata": {},
   "outputs": [
    {
     "data": {
      "text/plain": [
       "['24', '3415', '4555', '12435515']"
      ]
     },
     "execution_count": 97,
     "metadata": {},
     "output_type": "execute_result"
    }
   ],
   "source": [
    "answer"
   ]
  },
  {
   "cell_type": "code",
   "execution_count": 92,
   "id": "liquid-motorcycle",
   "metadata": {},
   "outputs": [
    {
     "data": {
      "text/plain": [
       "-4"
      ]
     },
     "execution_count": 92,
     "metadata": {},
     "output_type": "execute_result"
    }
   ],
   "source": [
    "time"
   ]
  },
  {
   "cell_type": "code",
   "execution_count": 36,
   "id": "baking-nirvana",
   "metadata": {},
   "outputs": [],
   "source": [
    "a = \"read 1 3 1 2\""
   ]
  },
  {
   "cell_type": "code",
   "execution_count": null,
   "id": "noted-supply",
   "metadata": {},
   "outputs": [],
   "source": [
    "from itertools import combinations\n",
    "import itertools\n",
    "\n",
    "def solution(n, m, k, records):\n",
    "    n_list = [0 for x in range(1, n+1)]\n",
    "    n_list\n",
    "\n",
    "    final_combi_answer = []\n",
    "\n",
    "    for r in records:\n",
    "        for init_i in set(r):\n",
    "        n_list[init_i-1] = 1\n",
    "        if len(set(r)) < m:\n",
    "        for rev_i in range(m-len(set(r))):\n",
    "            for rev_j in range(len(n_list)):\n",
    "            rev_no = len(n_list) - rev_j -1\n",
    "            if n_list[rev_no] == 1 and rev_no != len(n_list):\n",
    "                n_list[rev_no+1] = 1\n",
    "                break\n",
    "\n",
    "        num_i = 1\n",
    "        for n_list_i in range(len(n_list)):\n",
    "        if n_list[n_list_i] == 1:\n",
    "            n_list[n_list_i] = num_i\n",
    "            num_i+=1\n",
    "        \n",
    "     \n",
    "\n",
    "        # combination numbers of list\n",
    "        combi_m = [x for x in range(1,m+1)]\n",
    "        combi_result = list(combinations(combi_m, len(set((r)))))\n",
    "        combi_result = [[item for item in combi_i] for combi_i in combi_result]\n",
    "\n",
    "        answer_tmp = []\n",
    "\n",
    "        for per_n in combi_result:\n",
    "        if (max(per_n) - min(per_n)) == (max(set(r))- min(set(r))):\n",
    "            answer_tmp.append(per_n)\n",
    "\n",
    "        answer_tmp_numfirst = []\n",
    "        if 1 in set(r):\n",
    "        for per_n in combi_result:\n",
    "            if 1 in per_n:\n",
    "            answer_tmp_numfirst.append(per_n)\n",
    "\n",
    "        if len(answer_tmp_numfirst) >0:\n",
    "        answer = answer_tmp_numfirst\n",
    "        else:\n",
    "        answer = answer_tmp\n",
    "        \n",
    "        if len(answer) > 0:\n",
    "        final_combi_answer.append(answer)\n",
    "\n",
    "        n_list = [0 for x in range(1, n+1)]\n",
    "\n",
    "\n",
    "    answer_len_num = len(final_combi_answer)\n",
    "    if answer_len_num > 1:\n",
    "        final_combi_answer = [y for x in final_combi_answer for y in x]\n",
    "        dups = {tuple(x) for x in final_combi_answer if final_combi_answer.count(x) == answer_len_num}\n",
    "        answer_combi_final = list(itertools.chain(*[list(x) for x in dups]))\n",
    "\n",
    "    elif answer_len_num == 1:\n",
    "        answer_combi_final = sorted(final_combi_answer)[-1][-1]\n",
    "\n",
    "    else:\n",
    "        answer_combi_final = final_combi_answer\n",
    "\n",
    "\n",
    "    answer = []\n",
    "    rankorder_answer = [0] * len(records[-1])\n",
    "\n",
    "    rankorder_answer = [sorted(set(records[-1])).index(x) for x in records[-1]]\n",
    "    for i in rankorder_answer:\n",
    "        answer.append(answer_combi_final[i])\n",
    "\n",
    "    return answer"
   ]
  }
 ],
 "metadata": {
  "kernelspec": {
   "display_name": "Python 3",
   "language": "python",
   "name": "python3"
  },
  "language_info": {
   "codemirror_mode": {
    "name": "ipython",
    "version": 3
   },
   "file_extension": ".py",
   "mimetype": "text/x-python",
   "name": "python",
   "nbconvert_exporter": "python",
   "pygments_lexer": "ipython3",
   "version": "3.6.5"
  }
 },
 "nbformat": 4,
 "nbformat_minor": 5
}
