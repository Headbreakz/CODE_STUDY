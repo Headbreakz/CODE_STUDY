{
 "cells": [
  {
   "cell_type": "markdown",
   "metadata": {},
   "source": [
    "## 타겟 넘버"
   ]
  },
  {
   "cell_type": "code",
   "execution_count": 10,
   "metadata": {},
   "outputs": [],
   "source": [
    "def solution(numbers, target):\n",
    "    b = [0]\n",
    "    for i in numbers :\n",
    "        c = []\n",
    "        for j in b:\n",
    "            c.append(j+i)\n",
    "            c.append(j-i)\n",
    "        b = c\n",
    "\n",
    "    d = b.count(target)\n",
    "    \n",
    "    return d"
   ]
  },
  {
   "cell_type": "code",
   "execution_count": null,
   "metadata": {},
   "outputs": [],
   "source": [
    "#best\n",
    "def solution(numbers, target):\n",
    "    if not numbers and target == 0 :\n",
    "        return 1\n",
    "    elif not numbers:\n",
    "        return 0\n",
    "    else:\n",
    "        return solution(numbers[1:], target-numbers[0]) + solution(numbers[1:], target+numbers[0])"
   ]
  },
  {
   "cell_type": "code",
   "execution_count": null,
   "metadata": {},
   "outputs": [],
   "source": [
    "#best\n",
    "from itertools import product\n",
    "def solution(numbers, target):\n",
    "    l = [(x, -x) for x in numbers]\n",
    "    s = list(map(sum, product(*l)))\n",
    "    return s.count(target)"
   ]
  },
  {
   "cell_type": "markdown",
   "metadata": {},
   "source": [
    "## 네트워크"
   ]
  },
  {
   "cell_type": "code",
   "execution_count": 26,
   "metadata": {},
   "outputs": [],
   "source": [
    "def solution(n, computers):\n",
    "    visited = [[0]*n for _ in range(n)]\n",
    "    newlist =[]\n",
    "    for i in range(n):\n",
    "        if set(bfs(i,computers)) not in newlist :\n",
    "            newlist.append(set(bfs(i,computers)))\n",
    "    \n",
    "    \n",
    "    return len(newlist)\n",
    "\n",
    "def bfs(start,computers):\n",
    "    queue =[start]\n",
    "    visited = [start]\n",
    "    \n",
    "    while queue :\n",
    "        n = queue.pop(0)\n",
    "        \n",
    "        for a in range(len(computers[start])):\n",
    "            if computers[n][a] == 1 and (a not in visited) :\n",
    "                queue.append(a)\n",
    "                visited.append(a)\n",
    "    return visited\n",
    "\n",
    "def dfs(start,visited):\n",
    "    visited +=[start]\n",
    "    \n",
    "    for a in range(len(computers[start])):\n",
    "        if computers[start][a] == 1 and (a not in visited):\n",
    "            dfs(a,visited)\n",
    "    return visited"
   ]
  },
  {
   "cell_type": "markdown",
   "metadata": {},
   "source": [
    "## 단어 변환"
   ]
  },
  {
   "cell_type": "code",
   "execution_count": 99,
   "metadata": {},
   "outputs": [],
   "source": [
    "def solution(begin, target, words):\n",
    "    answer = bfs(begin,target,words)\n",
    "    return answer\n",
    "\n",
    "\n",
    "def bfs(begin,target,words):\n",
    "    if target not in words:\n",
    "        return 0\n",
    "    \n",
    "    queue = [begin]\n",
    "    visited = [begin]\n",
    "    total_count = 0\n",
    "    \n",
    "    while queue :\n",
    "        n = queue.pop(0)\n",
    "        \n",
    "\n",
    "        for a in words:      \n",
    "            \n",
    "            count = 0            \n",
    "            for i in range(len(n)):\n",
    "                if n[i] != a[i] :\n",
    "                    count += 1\n",
    "                if count == 2:\n",
    "                    break                \n",
    "\n",
    "            if count == 1 :\n",
    "                queue.append(a)\n",
    "                visited.append(a)\n",
    "                words.remove(a)\n",
    "        \n",
    "        total_count += 1\n",
    "\n",
    "        if target in visited :\n",
    "            return total_count\n",
    "        \n",
    "\n",
    "    return 0"
   ]
  }
 ],
 "metadata": {
  "kernelspec": {
   "display_name": "Python 3",
   "language": "python",
   "name": "python3"
  },
  "language_info": {
   "codemirror_mode": {
    "name": "ipython",
    "version": 3
   },
   "file_extension": ".py",
   "mimetype": "text/x-python",
   "name": "python",
   "nbconvert_exporter": "python",
   "pygments_lexer": "ipython3",
   "version": "3.8.5"
  }
 },
 "nbformat": 4,
 "nbformat_minor": 4
}
