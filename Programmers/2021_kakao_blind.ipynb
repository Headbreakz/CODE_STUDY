{
 "cells": [
  {
   "cell_type": "markdown",
   "metadata": {},
   "source": [
    "## 1"
   ]
  },
  {
   "cell_type": "code",
   "execution_count": null,
   "metadata": {},
   "outputs": [],
   "source": [
    "a = \"abcdefghijklmn.p\"\n",
    "a = a.lower()\n",
    "a = list(map(str,a))\n",
    "count = 0\n",
    "\n",
    "\n",
    "\n",
    "for i in range(len(a)):    \n",
    "    \n",
    "    if a[i].isalpha() == True or a[i].isdigit() == True or a[i] == '-' or a[i] == '_':\n",
    "        count = 0\n",
    "        continue\n",
    "    elif a[i] == '.' :\n",
    "        count += 1\n",
    "        if count >= 2:\n",
    "            a[i] = ''\n",
    "    else:\n",
    "        a[i]=''\n",
    "        \n",
    "        \n",
    "a = ''.join(a)\n",
    "print(a)\n"
   ]
  },
  {
   "cell_type": "code",
   "execution_count": null,
   "metadata": {},
   "outputs": [],
   "source": [
    "a = list(map(str,a))\n",
    "if len(a) > 0 :\n",
    "    if a[0] == '.':\n",
    "        a.pop(0)\n",
    "if len(a) > 0 :\n",
    "    if a[-1] == '.':\n",
    "        a.pop()\n",
    "        \n",
    "if len(a) == 0:\n",
    "    a.append('a')\n",
    "    \n",
    "if len(a) >= 16:\n",
    "    a = a[:15]    \n",
    "\n",
    "        \n",
    "if a[-1] == '.':\n",
    "    a.pop() \n",
    "\n",
    "    \n",
    "if len(a) <=2 :\n",
    "    while len(a) < 3 :\n",
    "        a.append(a[-1])\n",
    "    "
   ]
  },
  {
   "cell_type": "code",
   "execution_count": null,
   "metadata": {
    "scrolled": true
   },
   "outputs": [],
   "source": [
    "a = ''.join(a)\n",
    "print(a)"
   ]
  },
  {
   "cell_type": "markdown",
   "metadata": {},
   "source": [
    "## 2"
   ]
  },
  {
   "cell_type": "code",
   "execution_count": null,
   "metadata": {},
   "outputs": [],
   "source": [
    "from itertools import combinations"
   ]
  },
  {
   "cell_type": "code",
   "execution_count": null,
   "metadata": {},
   "outputs": [],
   "source": [
    "a = [\"XYZ\", \"XWY\", \"WXA\"]\n",
    "a_1 = []\n",
    "for i in a :\n",
    "    a_1.append(''.join(sorted(list(i))))\n",
    "    print(a)\n",
    "\n",
    "course = [2, 3, 4]"
   ]
  },
  {
   "cell_type": "code",
   "execution_count": null,
   "metadata": {},
   "outputs": [],
   "source": [
    "a = a_1"
   ]
  },
  {
   "cell_type": "code",
   "execution_count": null,
   "metadata": {},
   "outputs": [],
   "source": [
    "answer =[]\n",
    "for i in range(len(a)):\n",
    "    for j in range(i,len(a)):\n",
    "        if i == j :\n",
    "            continue        \n",
    "        answer.append((''.join(sorted(list(set(a[i])&set(a[j]))))))\n",
    "        "
   ]
  },
  {
   "cell_type": "code",
   "execution_count": null,
   "metadata": {},
   "outputs": [],
   "source": [
    "answer"
   ]
  },
  {
   "cell_type": "code",
   "execution_count": null,
   "metadata": {},
   "outputs": [],
   "source": [
    "answer_count =[]\n",
    "# answer_count ={}\n",
    "for i in course:    \n",
    "    for j in range(len(answer)):\n",
    "        if len(answer[j]) == i and answer[j] not in answer_count:\n",
    "            answer_count.append(answer[j])\n",
    "            \n",
    "\n",
    "    \n"
   ]
  },
  {
   "cell_type": "code",
   "execution_count": null,
   "metadata": {
    "scrolled": false
   },
   "outputs": [],
   "source": [
    "answer_count"
   ]
  },
  {
   "cell_type": "code",
   "execution_count": null,
   "metadata": {},
   "outputs": [],
   "source": [
    "num_list = []\n",
    "for i in course:\n",
    "    for j in a:        \n",
    "        num = (list(combinations(list(j),i)))           \n",
    "        num_list.extend(num)"
   ]
  },
  {
   "cell_type": "code",
   "execution_count": null,
   "metadata": {},
   "outputs": [],
   "source": [
    "num_list"
   ]
  },
  {
   "cell_type": "code",
   "execution_count": null,
   "metadata": {},
   "outputs": [],
   "source": [
    "new_num_list = []\n",
    "for i in range(len(num_list)):\n",
    "    num_ = ''\n",
    "    for j in range(len(num_list[i])):\n",
    "        num_ += num_list[i][j]\n",
    "    new_num_list.append(num_)\n",
    "    "
   ]
  },
  {
   "cell_type": "code",
   "execution_count": null,
   "metadata": {},
   "outputs": [],
   "source": [
    "new_num_list"
   ]
  },
  {
   "cell_type": "code",
   "execution_count": null,
   "metadata": {},
   "outputs": [],
   "source": [
    "answer = {}\n",
    "for i in answer_count :\n",
    "    for j in new_num_list :\n",
    "        if i == j and i not in answer:\n",
    "            answer[i] = 1\n",
    "        elif i == j and i in answer:\n",
    "            answer[i] += 1"
   ]
  },
  {
   "cell_type": "code",
   "execution_count": null,
   "metadata": {},
   "outputs": [],
   "source": [
    "answer"
   ]
  },
  {
   "cell_type": "code",
   "execution_count": null,
   "metadata": {},
   "outputs": [],
   "source": [
    "for i in answer:\n",
    "    print(answer[i])"
   ]
  },
  {
   "cell_type": "code",
   "execution_count": null,
   "metadata": {},
   "outputs": [],
   "source": [
    "course = [2,3,5]\n",
    "answer_1 = []\n",
    "\n",
    "for i in course:\n",
    "    max = 0\n",
    "    for j in answer :\n",
    "        if len(j) == i and answer[j] >=max :\n",
    "            max = answer[j]\n",
    "    print(max)\n",
    "    for z in answer :\n",
    "        if len(z) == i and answer[z] == max:\n",
    "            answer_1.append(z)\n",
    "            \n",
    "    \n",
    "    "
   ]
  },
  {
   "cell_type": "markdown",
   "metadata": {},
   "source": [
    "## 3"
   ]
  },
  {
   "cell_type": "code",
   "execution_count": null,
   "metadata": {},
   "outputs": [],
   "source": [
    "a = [\"java backend junior pizza 150\",\"python frontend senior chicken 210\",\"python frontend senior chicken 150\",\"cpp backend senior pizza 260\",\"java backend junior chicken 80\",\"python backend senior chicken 50\"]"
   ]
  },
  {
   "cell_type": "code",
   "execution_count": null,
   "metadata": {},
   "outputs": [],
   "source": [
    "a_list = []\n",
    "for i in a:\n",
    "    a_list.append(list(map(str,i.split(' '))))"
   ]
  },
  {
   "cell_type": "code",
   "execution_count": null,
   "metadata": {},
   "outputs": [],
   "source": [
    "a_list"
   ]
  },
  {
   "cell_type": "code",
   "execution_count": null,
   "metadata": {},
   "outputs": [],
   "source": [
    "query = [\"java and backend and junior and pizza 100\",\"python and frontend and senior and chicken 200\",\"cpp and - and senior and pizza 250\",\"- and backend and senior and - 150\",\"- and - and - and chicken 100\",\"- and - and - and - 150\"]"
   ]
  },
  {
   "cell_type": "code",
   "execution_count": null,
   "metadata": {},
   "outputs": [],
   "source": [
    "query_list = []\n",
    "for i in query:\n",
    "    a = (list(map(str,i.split(' '))))\n",
    "    \n",
    "    \n",
    "    for j in range(len(a)):\n",
    "        if a[j] =='and':\n",
    "            a[j] =','\n",
    "    a[-1]=','+a[-1]\n",
    "    a =(''.join(a))\n",
    "    \n",
    "    query_list.append(list(map(str,a.split(','))))\n",
    "    "
   ]
  },
  {
   "cell_type": "code",
   "execution_count": null,
   "metadata": {
    "scrolled": true
   },
   "outputs": [],
   "source": [
    "query_list"
   ]
  },
  {
   "cell_type": "code",
   "execution_count": null,
   "metadata": {},
   "outputs": [],
   "source": [
    "answer = [0  for _ in range(len(query))]"
   ]
  },
  {
   "cell_type": "code",
   "execution_count": null,
   "metadata": {},
   "outputs": [],
   "source": [
    "for i in range(len(query_list)):\n",
    "    for q in range(len(a_list)):\n",
    "        count = 0\n",
    "        for j in range(len(a_list[q])-1):        \n",
    "            if query_list[i][j] == a_list[q][j] or query_list[i][j] == '-' :\n",
    "                count += 1\n",
    "\n",
    "        if int(query_list[i][-1]) <= int(a_list[q][-1]):\n",
    "            count += 1\n",
    "\n",
    "\n",
    "        if count == 5 :\n",
    "            answer[i] += 1\n",
    "    \n",
    "    \n",
    "        "
   ]
  },
  {
   "cell_type": "code",
   "execution_count": null,
   "metadata": {
    "scrolled": true
   },
   "outputs": [],
   "source": [
    "answer"
   ]
  },
  {
   "cell_type": "markdown",
   "metadata": {},
   "source": [
    "## 5"
   ]
  },
  {
   "cell_type": "code",
   "execution_count": null,
   "metadata": {},
   "outputs": [],
   "source": [
    "play_time = \"02:03:55\"\n",
    "adv_time = \"00:14:15\"\n",
    "logs = [\"01:20:15-01:45:14\", \"00:40:31-01:00:00\", \"00:25:50-00:48:29\", \"01:30:59-01:53:29\", \"01:37:44-02:02:30\"]\n"
   ]
  },
  {
   "cell_type": "code",
   "execution_count": null,
   "metadata": {},
   "outputs": [],
   "source": [
    "time = []\n",
    "for i in logs:\n",
    "    a = i.split(\"-\")\n",
    "    time_line = []\n",
    "    for j in range(len(a)):\n",
    "        h,m,s = a[j].split(\":\")\n",
    "        total_time = (int(h)*3660)+(int(m)*60)+int(s)\n",
    "        time_line.append(total_time)\n",
    "    time.append(time_line)"
   ]
  },
  {
   "cell_type": "code",
   "execution_count": null,
   "metadata": {},
   "outputs": [],
   "source": [
    "time"
   ]
  },
  {
   "cell_type": "code",
   "execution_count": null,
   "metadata": {},
   "outputs": [],
   "source": [
    "min_time = 999999\n",
    "for i in time :\n",
    "    if i[0] < min_time:\n",
    "        min_time = i[0]\n",
    "    "
   ]
  },
  {
   "cell_type": "code",
   "execution_count": null,
   "metadata": {},
   "outputs": [],
   "source": [
    "h,m,s = play_time.split(\":\")\n",
    "play_time = (int(h)*3660)+(int(m)*60)+int(s)\n",
    "\n",
    "h1,m1,s1 = adv_time.split(\":\")\n",
    "adv_time = (int(h1)*3660)+(int(m1)*60)+int(s1)\n"
   ]
  },
  {
   "cell_type": "code",
   "execution_count": null,
   "metadata": {
    "scrolled": true
   },
   "outputs": [],
   "source": [
    "play_time"
   ]
  },
  {
   "cell_type": "code",
   "execution_count": null,
   "metadata": {},
   "outputs": [],
   "source": [
    "adv_time"
   ]
  },
  {
   "cell_type": "code",
   "execution_count": null,
   "metadata": {},
   "outputs": [],
   "source": [
    "play_time_list = [0 for _ in range(play_time)]"
   ]
  },
  {
   "cell_type": "code",
   "execution_count": null,
   "metadata": {},
   "outputs": [],
   "source": [
    "play_time_list"
   ]
  },
  {
   "cell_type": "code",
   "execution_count": null,
   "metadata": {},
   "outputs": [],
   "source": [
    "for i in range(min_time,play_time):\n",
    "    adv_time1 = i+adv_time\n",
    "#     print(adv_time1)\n",
    "    for j in time :        \n",
    "        if j[0] <= i and j[1] <= adv_time1 and j[1] >= i:\n",
    "            play_time_list[i] += abs(j[1]-i)\n",
    "        elif j[0] >= i and j[1] >= adv_time1 and j[0] <= adv_time1 :\n",
    "            play_time_list[i] += abs(adv_time1-j[0])\n",
    "        elif j[0] <= i and j[1] >= adv_time1  :\n",
    "            play_time_list[i] += abs(adv_time1-i)\n",
    "        elif j[0] >= i and j[1] <= adv_time1 :\n",
    "            play_time_list[i] += abs(j[1]-j[0])\n",
    "    adv_time1 = 0\n",
    "            \n",
    "            "
   ]
  },
  {
   "cell_type": "code",
   "execution_count": null,
   "metadata": {
    "scrolled": true
   },
   "outputs": [],
   "source": [
    "max(play_time_list)"
   ]
  },
  {
   "cell_type": "code",
   "execution_count": null,
   "metadata": {
    "scrolled": false
   },
   "outputs": [],
   "source": [
    "answer = play_time_list.index(max(play_time_list))"
   ]
  },
  {
   "cell_type": "code",
   "execution_count": null,
   "metadata": {},
   "outputs": [],
   "source": [
    "answer "
   ]
  },
  {
   "cell_type": "code",
   "execution_count": null,
   "metadata": {},
   "outputs": [],
   "source": [
    "time = ''"
   ]
  },
  {
   "cell_type": "code",
   "execution_count": null,
   "metadata": {},
   "outputs": [],
   "source": [
    "time += str(answer//3660).zfill(2)+':'"
   ]
  },
  {
   "cell_type": "code",
   "execution_count": null,
   "metadata": {},
   "outputs": [],
   "source": [
    "time += str((answer-(hour*3660))//60).zfill(2)+\":\""
   ]
  },
  {
   "cell_type": "code",
   "execution_count": null,
   "metadata": {},
   "outputs": [],
   "source": [
    "time += str((answer-(hour*3660))%60).zfill(2)"
   ]
  },
  {
   "cell_type": "code",
   "execution_count": null,
   "metadata": {},
   "outputs": [],
   "source": [
    "time"
   ]
  },
  {
   "cell_type": "markdown",
   "metadata": {},
   "source": [
    "## 4"
   ]
  },
  {
   "cell_type": "code",
   "execution_count": 57,
   "metadata": {},
   "outputs": [],
   "source": [
    "n = 6\n",
    "s = 4\n",
    "a = 6\n",
    "b= 2"
   ]
  },
  {
   "cell_type": "code",
   "execution_count": 58,
   "metadata": {},
   "outputs": [],
   "source": [
    "fares= [[4, 1, 10], [3, 5, 24], [5, 6, 2], [3, 1, 41], [5, 1, 24], [4, 6, 50], [2, 4, 66], [2, 3, 22], [1, 6, 25]]"
   ]
  },
  {
   "cell_type": "code",
   "execution_count": 74,
   "metadata": {},
   "outputs": [],
   "source": [
    "matrix = [[float('INF')]*(n+1) for _ in range((n+1))]"
   ]
  },
  {
   "cell_type": "code",
   "execution_count": 75,
   "metadata": {},
   "outputs": [],
   "source": [
    "for i in range(1, n+1):\n",
    "        for j in range(1,n+1):\n",
    "            if i==j:\n",
    "                matrix[i][j] =0"
   ]
  },
  {
   "cell_type": "code",
   "execution_count": 76,
   "metadata": {},
   "outputs": [],
   "source": [
    "for i in fares:\n",
    "    a,b,c = i\n",
    "    matrix[a][b] = c\n",
    "    matrix[b][a] = c"
   ]
  },
  {
   "cell_type": "code",
   "execution_count": 77,
   "metadata": {},
   "outputs": [
    {
     "data": {
      "text/plain": [
       "[[inf, inf, inf, inf, inf, inf, inf],\n",
       " [inf, 0, inf, 41, 10, 24, 25],\n",
       " [inf, inf, 0, 22, 66, inf, inf],\n",
       " [inf, 41, 22, 0, inf, 24, inf],\n",
       " [inf, 10, 66, inf, 0, inf, 50],\n",
       " [inf, 24, inf, 24, inf, 0, 2],\n",
       " [inf, 25, inf, inf, 50, 2, 0]]"
      ]
     },
     "execution_count": 77,
     "metadata": {},
     "output_type": "execute_result"
    }
   ],
   "source": [
    "matrix"
   ]
  },
  {
   "cell_type": "code",
   "execution_count": 78,
   "metadata": {},
   "outputs": [],
   "source": [
    "for a in range(1,n+1):\n",
    "    for b in range(1,n+1):\n",
    "        for c in range(1,n+1):\n",
    "            matrix[b][c] = min(matrix[b][c],matrix[b][a]+matrix[a][c])"
   ]
  },
  {
   "cell_type": "code",
   "execution_count": 79,
   "metadata": {},
   "outputs": [
    {
     "data": {
      "text/plain": [
       "[[inf, inf, inf, inf, inf, inf, inf],\n",
       " [inf, 0, 63, 41, 10, 24, 25],\n",
       " [inf, 63, 0, 22, 66, 46, 48],\n",
       " [inf, 41, 22, 0, 51, 24, 26],\n",
       " [inf, 10, 66, 51, 0, 34, 35],\n",
       " [inf, 24, 46, 24, 34, 0, 2],\n",
       " [inf, 25, 48, 26, 35, 2, 0]]"
      ]
     },
     "execution_count": 79,
     "metadata": {},
     "output_type": "execute_result"
    }
   ],
   "source": [
    "matrix"
   ]
  },
  {
   "cell_type": "code",
   "execution_count": 65,
   "metadata": {},
   "outputs": [],
   "source": [
    "answer = matrix[s][a]+matrix[s][b]"
   ]
  },
  {
   "cell_type": "code",
   "execution_count": 81,
   "metadata": {},
   "outputs": [
    {
     "data": {
      "text/plain": [
       "35"
      ]
     },
     "execution_count": 81,
     "metadata": {},
     "output_type": "execute_result"
    }
   ],
   "source": [
    "answer"
   ]
  }
 ],
 "metadata": {
  "kernelspec": {
   "display_name": "Python 3",
   "language": "python",
   "name": "python3"
  },
  "language_info": {
   "codemirror_mode": {
    "name": "ipython",
    "version": 3
   },
   "file_extension": ".py",
   "mimetype": "text/x-python",
   "name": "python",
   "nbconvert_exporter": "python",
   "pygments_lexer": "ipython3",
   "version": "3.8.3"
  }
 },
 "nbformat": 4,
 "nbformat_minor": 4
}
