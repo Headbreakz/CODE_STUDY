{
 "cells": [
  {
   "cell_type": "markdown",
   "metadata": {},
   "source": [
    "### 더 맵게"
   ]
  },
  {
   "cell_type": "code",
   "execution_count": 36,
   "metadata": {},
   "outputs": [],
   "source": [
    "import heapq\n",
    "def solution(scoville, K):\n",
    "    heapq.heapify(scoville)\n",
    "    count = 0\n",
    "    \n",
    "    \n",
    "    while   scoville[0] < K:\n",
    "        try :\n",
    "\n",
    "            min1 = heapq.heappop(scoville)\n",
    "            min2 = heapq.heappop(scoville)\n",
    "            heapq.heappush(scoville,min1+min2*2)   \n",
    "            count +=1\n",
    "        except :\n",
    "            return -1\n",
    "    return count"
   ]
  }
 ],
 "metadata": {
  "kernelspec": {
   "display_name": "Python 3",
   "language": "python",
   "name": "python3"
  },
  "language_info": {
   "codemirror_mode": {
    "name": "ipython",
    "version": 3
   },
   "file_extension": ".py",
   "mimetype": "text/x-python",
   "name": "python",
   "nbconvert_exporter": "python",
   "pygments_lexer": "ipython3",
   "version": "3.8.3"
  }
 },
 "nbformat": 4,
 "nbformat_minor": 4
}
