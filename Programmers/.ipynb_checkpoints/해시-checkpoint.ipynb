{
 "cells": [
  {
   "cell_type": "markdown",
   "metadata": {},
   "source": [
    "#### 해시\n",
    "\n",
    "* key-value 쌍으로 데이터를 저장하는 자료구조"
   ]
  },
  {
   "cell_type": "code",
   "execution_count": 1,
   "metadata": {},
   "outputs": [],
   "source": [
    "#완주하지 못한 선수\n",
    "\n",
    "def solution(participant, completion): \n",
    "    a ={}\n",
    "    \n",
    "    for i in participant:\n",
    "        if a.get(i) == None:\n",
    "            a[i] = 1\n",
    "        else :\n",
    "            a[i] += 1\n",
    "    for j in completion:\n",
    "        if a.get(j) != None :\n",
    "            a[j] -= 1\n",
    "            if a[j] == 0:\n",
    "                del a[j]\n",
    "                \n",
    "    return list(a.keys())[0]"
   ]
  },
  {
   "cell_type": "code",
   "execution_count": 9,
   "metadata": {},
   "outputs": [
    {
     "data": {
      "text/plain": [
       "{'leo': 1, 'kiki': 1, 'eden': 1}"
      ]
     },
     "execution_count": 9,
     "metadata": {},
     "output_type": "execute_result"
    }
   ],
   "source": [
    "participant=['leo', 'kiki', 'eden']\n",
    "completion=['eden', 'kiki']\n",
    "a ={}\n",
    "    \n",
    "for i in participant:\n",
    "    if a.get(i) == None:\n",
    "        a[i] = 1\n",
    "    else :\n",
    "        a[i] += 1\n",
    "a"
   ]
  }
 ],
 "metadata": {
  "kernelspec": {
   "display_name": "Python 3",
   "language": "python",
   "name": "python3"
  },
  "language_info": {
   "codemirror_mode": {
    "name": "ipython",
    "version": 3
   },
   "file_extension": ".py",
   "mimetype": "text/x-python",
   "name": "python",
   "nbconvert_exporter": "python",
   "pygments_lexer": "ipython3",
   "version": "3.7.6"
  }
 },
 "nbformat": 4,
 "nbformat_minor": 4
}
