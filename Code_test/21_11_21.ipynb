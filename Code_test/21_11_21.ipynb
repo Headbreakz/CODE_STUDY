{
 "cells": [
  {
   "cell_type": "code",
   "execution_count": 16,
   "id": "level-medline",
   "metadata": {},
   "outputs": [],
   "source": [
    "n = 5"
   ]
  },
  {
   "cell_type": "code",
   "execution_count": 17,
   "id": "vietnamese-young",
   "metadata": {},
   "outputs": [
    {
     "name": "stdout",
     "output_type": "stream",
     "text": [
      "30\n",
      "44\n",
      "46\n"
     ]
    }
   ],
   "source": [
    "answer = 0\n",
    "for i in range(1,n):\n",
    "    \n",
    "    answer += i*i\n",
    "print(answer)\n",
    "for j in range(1,n-1):\n",
    "    \n",
    "    answer += j*j\n",
    "print(answer)    \n",
    "answer += n-3\n",
    "\n",
    "print(answer)"
   ]
  },
  {
   "cell_type": "code",
   "execution_count": 18,
   "id": "technological-script",
   "metadata": {},
   "outputs": [
    {
     "name": "stdout",
     "output_type": "stream",
     "text": [
      "30\n",
      "44\n",
      "47\n",
      "47\n"
     ]
    }
   ],
   "source": [
    "answer = 0\n",
    "for i in range(1,n):\n",
    "    \n",
    "    answer += i*i\n",
    "print(answer)\n",
    "for j in range(1,n-1):\n",
    "    \n",
    "    answer += j*j\n",
    "print(answer)    \n",
    "for j in range(1,n-2):\n",
    "    \n",
    "    answer += j\n",
    "print(answer) \n",
    "\n",
    "print(answer)"
   ]
  },
  {
   "cell_type": "code",
   "execution_count": null,
   "id": "stupid-briefs",
   "metadata": {},
   "outputs": [],
   "source": [
    "25\n",
    "16\n",
    "9\n",
    "4\n",
    "1\n",
    "\n",
    "= 45"
   ]
  },
  {
   "cell_type": "code",
   "execution_count": null,
   "id": "disturbed-concrete",
   "metadata": {},
   "outputs": [],
   "source": [
    "16\n",
    "9\n",
    "4\n",
    "1\n",
    "\n",
    "= 30\n"
   ]
  },
  {
   "cell_type": "code",
   "execution_count": null,
   "id": "remarkable-worst",
   "metadata": {},
   "outputs": [],
   "source": [
    "9\n",
    "4\n",
    "1\n"
   ]
  },
  {
   "cell_type": "code",
   "execution_count": null,
   "id": "embedded-iraqi",
   "metadata": {},
   "outputs": [],
   "source": [
    "4\n",
    "1"
   ]
  },
  {
   "cell_type": "code",
   "execution_count": null,
   "id": "moved-freeware",
   "metadata": {},
   "outputs": [],
   "source": [
    "1"
   ]
  },
  {
   "cell_type": "code",
   "execution_count": 24,
   "id": "august-athletics",
   "metadata": {},
   "outputs": [
    {
     "name": "stdout",
     "output_type": "stream",
     "text": [
      "1\n",
      "1\n",
      "2\n"
     ]
    }
   ],
   "source": [
    "for i in range(1,3):\n",
    "    for j in range(1,i+1):\n",
    "        print(j)"
   ]
  }
 ],
 "metadata": {
  "kernelspec": {
   "display_name": "Python 3",
   "language": "python",
   "name": "python3"
  },
  "language_info": {
   "codemirror_mode": {
    "name": "ipython",
    "version": 3
   },
   "file_extension": ".py",
   "mimetype": "text/x-python",
   "name": "python",
   "nbconvert_exporter": "python",
   "pygments_lexer": "ipython3",
   "version": "3.6.5"
  }
 },
 "nbformat": 4,
 "nbformat_minor": 5
}
