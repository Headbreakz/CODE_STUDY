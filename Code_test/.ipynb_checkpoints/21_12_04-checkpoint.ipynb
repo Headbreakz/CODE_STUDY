{
 "cells": [
  {
   "cell_type": "code",
   "execution_count": 34,
   "id": "peaceful-defensive",
   "metadata": {},
   "outputs": [],
   "source": [
    "n = 3\n",
    "recipes = [\"SPAGHETTI 3\", \"FRIEDRICE 2\", \"PIZZA 8\"]\n",
    "orders = [\"PIZZA 1\", \"FRIEDRICE 2\", \"SPAGHETTI 4\", \"SPAGHETTI 6\", \"PIZZA 7\", \"SPAGHETTI 8\"]"
   ]
  },
  {
   "cell_type": "code",
   "execution_count": 32,
   "id": "cloudy-direction",
   "metadata": {},
   "outputs": [],
   "source": [
    "def Find_fire(x):\n",
    "    '''\n",
    "    x : 화구 리스트\n",
    "    \n",
    "    '''\n",
    "    # 화구 중 최소값\n",
    "    min_fire = min(x)\n",
    "\n",
    "    # 화구 위치\n",
    "    fire_number = x.index(min_fire)\n",
    "\n",
    "    return fire_number"
   ]
  },
  {
   "cell_type": "code",
   "execution_count": 37,
   "id": "imposed-flashing",
   "metadata": {},
   "outputs": [
    {
     "name": "stdout",
     "output_type": "stream",
     "text": [
      "[9, 0, 0]\n",
      "[9, 4, 0]\n",
      "[9, 4, 7]\n",
      "[9, 13, 7]\n",
      "[9, 13, 22]\n",
      "[12, 13, 22]\n"
     ]
    }
   ],
   "source": [
    "\n",
    "    \n",
    "Fire = [0 for _ in range(n)]\n",
    "Final_order = len(orders)\n",
    "check_number = 0\n",
    "\n",
    "# 레시피 리스트 - 딕셔너리 변환\n",
    "recipes_dict = {}\n",
    "\n",
    "for i in recipes:\n",
    "    food, food_time = i.split(' ')\n",
    "    recipes_dict[food] = food_time\n",
    "    \n",
    "\n",
    "for i in orders:\n",
    "    food, order_number = i.split(' ')\n",
    "    # 화구 위치 찾기\n",
    "    fire_number = Find_fire(Fire)\n",
    "    if Fire[fire_number] > int(order_number) :\n",
    "        Fire[fire_number] = Fire[fire_number]+ int(recipes_dict.get(food)) \n",
    "    \n",
    "    elif Fire[fire_number] <= int(order_number) :\n",
    "        Fire[fire_number] = Fire[fire_number]+ int(recipes_dict.get(food)) + int(order_number)\n",
    "    \n",
    "    print(Fire)\n",
    "    if order_number == Final_order :\n",
    "        check_number = fire_number        \n",
    "\n",
    "answer = Fire[check_number]\n"
   ]
  },
  {
   "cell_type": "code",
   "execution_count": 24,
   "id": "running-canada",
   "metadata": {},
   "outputs": [
    {
     "data": {
      "text/plain": [
       "5"
      ]
     },
     "execution_count": 24,
     "metadata": {},
     "output_type": "execute_result"
    }
   ],
   "source": [
    "answer"
   ]
  },
  {
   "cell_type": "code",
   "execution_count": 53,
   "id": "unnecessary-worry",
   "metadata": {},
   "outputs": [],
   "source": [
    "drum = [\"######\",\">#*###\",\"####*#\",\"#<#>>#\",\">#*#*<\",\"######\"]\n",
    "\n"
   ]
  },
  {
   "cell_type": "code",
   "execution_count": 54,
   "id": "driving-diary",
   "metadata": {},
   "outputs": [
    {
     "name": "stdout",
     "output_type": "stream",
     "text": [
      "[0, 0]\n",
      "#\n",
      "[1, 0]\n",
      "[1, 1]\n",
      "[2, 1]\n",
      "[3, 1]\n",
      "[3, 0]\n",
      "[4, 0]\n",
      "[4, 1]\n",
      "[5, 1]\n",
      "[6, 1]\n",
      "[0, 1]\n",
      "#\n",
      "[1, 1]\n",
      "[2, 1]\n",
      "[3, 1]\n",
      "[3, 0]\n",
      "[4, 0]\n",
      "[4, 1]\n",
      "[5, 1]\n",
      "[6, 1]\n",
      "[0, 2]\n",
      "#\n",
      "[1, 2]\n",
      "[2, 2]\n",
      "[3, 2]\n",
      "[4, 2]\n",
      "[0, 3]\n",
      "#\n",
      "[1, 3]\n",
      "[2, 3]\n",
      "[3, 3]\n",
      "[3, 4]\n",
      "[3, 5]\n",
      "[4, 5]\n",
      "[4, 4]\n",
      "[5, 4]\n",
      "[6, 4]\n",
      "[0, 4]\n",
      "#\n",
      "[1, 4]\n",
      "[2, 4]\n",
      "[0, 5]\n",
      "#\n",
      "[1, 5]\n",
      "[2, 5]\n",
      "[3, 5]\n",
      "[4, 5]\n",
      "[4, 4]\n",
      "[5, 4]\n",
      "[6, 4]\n"
     ]
    }
   ],
   "source": [
    "drum = drum +['0' * len(drum[0])]\n",
    "\n",
    "#총 게임 횟수\n",
    "start_count = len(drum[0])\n",
    "#현재 게임 수\n",
    "now_count = 0\n",
    "# * 확인\n",
    "stop_count = 0\n",
    "# 정답\n",
    "answer = 0 \n",
    "\n",
    "for i in range(len(drum[0])):\n",
    "    position = [0,i]\n",
    "    start_point = drum[position[0]][position[1]]\n",
    "    print(position)\n",
    "    print(start_point)\n",
    "    point = start_point\n",
    "    while point != '0':\n",
    "        if point =='#':\n",
    "            position[0] += 1\n",
    "\n",
    "        if point =='>':\n",
    "            if 0<= position[1]+ 1 < len(drum[0]):\n",
    "                position[1] += 1\n",
    "\n",
    "        if point =='<':\n",
    "            if 0<= position[1] - 1 < len(drum[0]):\n",
    "                position[1] -= 1\n",
    "\n",
    "        if point =='*':\n",
    "            if stop_count == 1 :\n",
    "                stop_count = 0\n",
    "                break\n",
    "            else :\n",
    "                stop_count += 1\n",
    "                position[0] += 1\n",
    "        print(position)\n",
    "        point = drum[position[0]][position[1]]\n",
    "        if point =='0':\n",
    "            answer += 1\n",
    "\n",
    "    "
   ]
  },
  {
   "cell_type": "code",
   "execution_count": 55,
   "id": "individual-median",
   "metadata": {},
   "outputs": [
    {
     "data": {
      "text/plain": [
       "4"
      ]
     },
     "execution_count": 55,
     "metadata": {},
     "output_type": "execute_result"
    }
   ],
   "source": [
    "answer"
   ]
  }
 ],
 "metadata": {
  "kernelspec": {
   "display_name": "Python 3",
   "language": "python",
   "name": "python3"
  },
  "language_info": {
   "codemirror_mode": {
    "name": "ipython",
    "version": 3
   },
   "file_extension": ".py",
   "mimetype": "text/x-python",
   "name": "python",
   "nbconvert_exporter": "python",
   "pygments_lexer": "ipython3",
   "version": "3.6.5"
  }
 },
 "nbformat": 4,
 "nbformat_minor": 5
}
