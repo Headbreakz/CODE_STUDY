{
 "cells": [
  {
   "cell_type": "markdown",
   "metadata": {},
   "source": [
    "## 1"
   ]
  },
  {
   "cell_type": "code",
   "execution_count": 1,
   "metadata": {},
   "outputs": [],
   "source": [
    "def solution(numbers):\n",
    "    answer = []\n",
    "    for i in range(len(numbers)):\n",
    "        for j in range(i,len(numbers)):\n",
    "            if i == j :\n",
    "                continue\n",
    "            a = numbers[i]+numbers[j]\n",
    "\n",
    "            if a in answer:\n",
    "                continue\n",
    "            else:\n",
    "                answer.append(a)\n",
    "    answer.sort()\n",
    "    return answer"
   ]
  },
  {
   "cell_type": "markdown",
   "metadata": {},
   "source": [
    "## 2"
   ]
  },
  {
   "cell_type": "markdown",
   "metadata": {},
   "source": [
    "## 3"
   ]
  },
  {
   "cell_type": "code",
   "execution_count": 82,
   "metadata": {},
   "outputs": [],
   "source": [
    "def solution(a):\n",
    "    answer_count = []\n",
    "\n",
    "    for j in range(len(a)):\n",
    "        left =a[:j]\n",
    "        right = a[j:]\n",
    "        if len(right) != 0 :        \n",
    "            right_min = min(right)\n",
    "            if right_min not in answer_count:\n",
    "                answer_count.append(right_min)\n",
    "        if len(left) != 0 :    \n",
    "            left_min = min(left)\n",
    "            if left_min not in answer_count:\n",
    "                answer_count.append(left_min)\n",
    "\n",
    "\n",
    "    answer = len(answer_count)\n",
    "    return answer     \n",
    "        \n",
    "        \n",
    "    "
   ]
  }
 ],
 "metadata": {
  "kernelspec": {
   "display_name": "Python 3",
   "language": "python",
   "name": "python3"
  },
  "language_info": {
   "codemirror_mode": {
    "name": "ipython",
    "version": 3
   },
   "file_extension": ".py",
   "mimetype": "text/x-python",
   "name": "python",
   "nbconvert_exporter": "python",
   "pygments_lexer": "ipython3",
   "version": "3.8.3"
  }
 },
 "nbformat": 4,
 "nbformat_minor": 4
}
