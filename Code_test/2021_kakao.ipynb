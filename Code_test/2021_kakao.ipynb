{
 "cells": [
  {
   "cell_type": "code",
   "execution_count": 29,
   "id": "senior-provincial",
   "metadata": {},
   "outputs": [],
   "source": [
    "text_list = ['zero','one','two','three','four','five','six','seven','eight','nine']"
   ]
  },
  {
   "cell_type": "code",
   "execution_count": 30,
   "id": "continuing-lecture",
   "metadata": {},
   "outputs": [],
   "source": [
    "num_list = [0,1,2,3,4,5,6,7,8,9]"
   ]
  },
  {
   "cell_type": "code",
   "execution_count": 31,
   "id": "norman-glucose",
   "metadata": {},
   "outputs": [],
   "source": [
    "s = \"one4seveneight\"\n",
    "# s = \"one\""
   ]
  },
  {
   "cell_type": "code",
   "execution_count": 32,
   "id": "buried-earthquake",
   "metadata": {},
   "outputs": [],
   "source": [
    "while s.isdigit() != True:\n",
    "    for i in range(len(text_list)) :\n",
    "        if text_list[i] in s :        \n",
    "            s = s.replace(str(text_list[i]),str(num_list[i]))\n",
    "\n",
    "        "
   ]
  },
  {
   "cell_type": "code",
   "execution_count": 33,
   "id": "romantic-release",
   "metadata": {},
   "outputs": [
    {
     "data": {
      "text/plain": [
       "'1478'"
      ]
     },
     "execution_count": 33,
     "metadata": {},
     "output_type": "execute_result"
    }
   ],
   "source": [
    "s"
   ]
  },
  {
   "cell_type": "code",
   "execution_count": 25,
   "id": "immediate-ghana",
   "metadata": {},
   "outputs": [
    {
     "data": {
      "text/plain": [
       "False"
      ]
     },
     "execution_count": 25,
     "metadata": {},
     "output_type": "execute_result"
    }
   ],
   "source": [
    "s.isdigit()"
   ]
  },
  {
   "cell_type": "code",
   "execution_count": 289,
   "id": "continuous-recipient",
   "metadata": {},
   "outputs": [],
   "source": [
    "n = 8\n",
    "k = 2\n",
    "cmd = [\"D 2\",\"C\",\"U 3\",\"C\",\"D 4\",\"C\",\"U 2\",\"Z\",\"Z\"]"
   ]
  },
  {
   "cell_type": "code",
   "execution_count": 329,
   "id": "detected-bundle",
   "metadata": {},
   "outputs": [],
   "source": [
    "n = 8\n",
    "k = 2\n",
    "cmd = [\"D 2\", \"C\", \"U 3\", \"C\", \"D 4\", \"C\", \"U 2\", \"Z\", \"Z\", \"U 1\", \"C\"]"
   ]
  },
  {
   "cell_type": "code",
   "execution_count": 331,
   "id": "medium-impact",
   "metadata": {},
   "outputs": [],
   "source": [
    "n = 8\n",
    "list_num = [i for i in range(n)]"
   ]
  },
  {
   "cell_type": "code",
   "execution_count": 330,
   "id": "hazardous-mongolia",
   "metadata": {},
   "outputs": [],
   "source": [
    "def U_X(x,y,list_num):\n",
    "    x = int(x)\n",
    "    count = list_num[y-x:y].count(-1)        \n",
    "    return y - x - count\n",
    "\n",
    "def D_X(x,y,list_num):\n",
    "    x = int(x)\n",
    "    count = list_num[y+1:y+x].count(-1)    \n",
    "    return y + x + count"
   ]
  },
  {
   "cell_type": "code",
   "execution_count": 332,
   "id": "motivated-atmosphere",
   "metadata": {
    "scrolled": true
   },
   "outputs": [
    {
     "name": "stdout",
     "output_type": "stream",
     "text": [
      "2\n",
      "[0, 1, 2, 3, 4, 5, 6, 7]\n",
      "---------------------------\n",
      "4\n",
      "[0, 1, 2, 3, 4, 5, 6, 7]\n",
      "---------------------------\n",
      "5\n",
      "[0, 1, 2, 3, -1, 5, 6, 7]\n",
      "---------------------------\n",
      "1\n",
      "[0, 1, 2, 3, -1, 5, 6, 7]\n",
      "---------------------------\n",
      "2\n",
      "[0, -1, 2, 3, -1, 5, 6, 7]\n",
      "---------------------------\n",
      "7\n",
      "[0, -1, 2, 3, -1, 5, 6, 7]\n",
      "---------------------------\n",
      "6\n",
      "[0, -1, 2, 3, -1, 5, 6, -1]\n",
      "---------------------------\n",
      "3\n",
      "[0, -1, 2, 3, -1, 5, 6, -1]\n",
      "---------------------------\n",
      "3\n",
      "[0, -1, 2, 3, -1, 5, 6, 7]\n",
      "---------------------------\n",
      "3\n",
      "[0, 1, 2, 3, -1, 5, 6, 7]\n",
      "---------------------------\n",
      "2\n",
      "[0, 1, 2, 3, -1, 5, 6, 7]\n",
      "---------------------------\n"
     ]
    }
   ],
   "source": [
    "answer = ''\n",
    "check_point = k\n",
    "final_point = 0\n",
    "list_num = [i for i in range(n)]\n",
    "remove_num = []\n",
    "pre_num = list_num.copy()    \n",
    "\n",
    "for i in cmd :    \n",
    "    print(check_point)\n",
    "    print(list_num)\n",
    "    print(\"---------------------------\")\n",
    "    if i[0] == 'U':\n",
    "        check_point = U_X(i[-1],check_point,list_num)\n",
    "\n",
    "    elif i[0] == 'D':\n",
    "        check_point = D_X(i[-1],check_point,list_num)\n",
    "\n",
    "    elif i[0] == 'C':\n",
    "        remove_num.append(check_point)\n",
    "        list_num[check_point] = -1     \n",
    "        if check_point == n-final_point+1:           \n",
    "            for i in range(check_point-1,0,-1):\n",
    "                if list_num[i] != -1 :\n",
    "                    check_point = i\n",
    "                    break\n",
    "        else:\n",
    "            check_point += 1\n",
    "        final_point += 1\n",
    "\n",
    "    elif i[0] == 'Z':        \n",
    "        list_num[remove_num[-1]] = remove_num[-1]\n",
    "        remove_num.pop()\n",
    "        final_point += -1"
   ]
  },
  {
   "cell_type": "code",
   "execution_count": 319,
   "id": "polyphonic-assist",
   "metadata": {},
   "outputs": [
    {
     "data": {
      "text/plain": [
       "[0, 1, -1, 3, -1, 5, 6, 7]"
      ]
     },
     "execution_count": 319,
     "metadata": {},
     "output_type": "execute_result"
    }
   ],
   "source": [
    "list_num"
   ]
  },
  {
   "cell_type": "code",
   "execution_count": 284,
   "id": "higher-breakdown",
   "metadata": {},
   "outputs": [],
   "source": [
    "answer =''\n",
    "for i,j in zip(list_num,pre_num):\n",
    "    if i == j :\n",
    "        answer +='O'\n",
    "    else :\n",
    "        answer +='X'\n",
    "    "
   ]
  },
  {
   "cell_type": "code",
   "execution_count": 285,
   "id": "permanent-circumstances",
   "metadata": {
    "scrolled": true
   },
   "outputs": [
    {
     "data": {
      "text/plain": [
       "'OOOOXOOO'"
      ]
     },
     "execution_count": 285,
     "metadata": {},
     "output_type": "execute_result"
    }
   ],
   "source": [
    "answer"
   ]
  },
  {
   "cell_type": "code",
   "execution_count": 314,
   "id": "proved-karaoke",
   "metadata": {},
   "outputs": [
    {
     "data": {
      "text/plain": [
       "2"
      ]
     },
     "execution_count": 314,
     "metadata": {},
     "output_type": "execute_result"
    }
   ],
   "source": [
    "check_point"
   ]
  },
  {
   "cell_type": "code",
   "execution_count": 244,
   "id": "finite-airline",
   "metadata": {},
   "outputs": [],
   "source": [
    "a = [[\"POOOP\", \"OXXOX\", \"OPXPX\", \"OOXOX\", \"POXXP\"], [\"POOPX\", \"OXPXP\", \"PXXXO\", \"OXXXO\", \"OOOPP\"], [\"PXOPX\", \"OXOXP\", \"OXPXX\", \"OXXXP\", \"POOXX\"], [\"OOOXX\", \"XOOOX\", \"OOOXX\", \"OXOOX\", \"OOOOO\"], [\"PXPXP\", \"XPXPX\", \"PXPXP\", \"XPXPX\", \"PXPXP\"]]"
   ]
  },
  {
   "cell_type": "code",
   "execution_count": 240,
   "id": "reserved-representation",
   "metadata": {},
   "outputs": [
    {
     "data": {
      "text/plain": [
       "'O'"
      ]
     },
     "execution_count": 240,
     "metadata": {},
     "output_type": "execute_result"
    }
   ],
   "source": [
    "a[0][1]"
   ]
  },
  {
   "cell_type": "code",
   "execution_count": 248,
   "id": "advised-execution",
   "metadata": {},
   "outputs": [],
   "source": [
    "def fun(places,x):\n",
    "    visited = [[0]*5 for _ in range(5)]\n",
    "    dx = [0,0,-1,1]\n",
    "    dy = [-1,1,0,0]\n",
    "    queue = [x]    \n",
    "    answer = 1\n",
    "    while queue and answer == 1 :\n",
    "        x,y = queue.pop(0)\n",
    "        visited[x][y] = 1\n",
    "        for i in range(4):\n",
    "            nx = x + dx[i]\n",
    "            ny = y + dy[i]\n",
    "            if 0 <= nx < 5 and 0 <=ny < 5 :                \n",
    "                if places[nx][ny] == 'O':                    \n",
    "                    for j in range(4):\n",
    "                        nx_1 = nx + dx[j]\n",
    "                        ny_1 = ny + dy[j]\n",
    "                        if 0 <= nx_1 < 5 and 0 <=ny_1 < 5 :\n",
    "                            if places[nx_1][ny_1] =='P' and visited[nx_1][ny_1] == 0:\n",
    "                                answer = 0                                                              \n",
    "                elif places[nx][ny] =='P':\n",
    "                    answer = 0                            \n",
    "    return answer\n",
    "\n",
    "def solution(places):\n",
    "    answer_list = []\n",
    "    for i in places :\n",
    "        answer = 1\n",
    "        for a in range(5):\n",
    "            for b in range(5):\n",
    "                if i[a][b] =='P':\n",
    "                    answer = fun(i,(a,b))        \n",
    "        answer_list.append(answer)\n",
    "    \n",
    "    return answer_list"
   ]
  },
  {
   "cell_type": "code",
   "execution_count": 249,
   "id": "economic-dimension",
   "metadata": {},
   "outputs": [
    {
     "data": {
      "text/plain": [
       "[1, 0, 1, 1, 1]"
      ]
     },
     "execution_count": 249,
     "metadata": {},
     "output_type": "execute_result"
    }
   ],
   "source": [
    "solution(a)"
   ]
  },
  {
   "cell_type": "code",
   "execution_count": 250,
   "id": "rotary-beverage",
   "metadata": {},
   "outputs": [
    {
     "name": "stdout",
     "output_type": "stream",
     "text": [
      "1\n"
     ]
    }
   ],
   "source": [
    "word = (1,2)\n",
    "a,b = word\n",
    "print(a)"
   ]
  },
  {
   "cell_type": "code",
   "execution_count": 251,
   "id": "strategic-tracker",
   "metadata": {},
   "outputs": [
    {
     "name": "stdout",
     "output_type": "stream",
     "text": [
      "7\n",
      "6\n",
      "5\n",
      "4\n",
      "3\n",
      "2\n",
      "1\n"
     ]
    }
   ],
   "source": [
    "for i in range(7,0,-1):\n",
    "    print(i)"
   ]
  }
 ],
 "metadata": {
  "kernelspec": {
   "display_name": "Python 3",
   "language": "python",
   "name": "python3"
  },
  "language_info": {
   "codemirror_mode": {
    "name": "ipython",
    "version": 3
   },
   "file_extension": ".py",
   "mimetype": "text/x-python",
   "name": "python",
   "nbconvert_exporter": "python",
   "pygments_lexer": "ipython3",
   "version": "3.6.5"
  }
 },
 "nbformat": 4,
 "nbformat_minor": 5
}
