{
 "cells": [
  {
   "cell_type": "markdown",
   "metadata": {},
   "source": [
    "### 체육복"
   ]
  },
  {
   "cell_type": "code",
   "execution_count": null,
   "metadata": {},
   "outputs": [],
   "source": [
    "def solution(n, lost, reserve):\n",
    "    n_reserve = [j for j in reserve if j not in lost]\n",
    "    n_lost = [k for k in lost if k not in reserve]\n",
    "\n",
    "    print(n_reserve)\n",
    "    print(n_lost)\n",
    "    for i in n_reserve:\n",
    "        if (i-1) in n_lost:       \n",
    "            n_lost.remove(i-1)\n",
    "        elif i+1 in n_lost:        \n",
    "            n_lost.remove(i+1)\n",
    "\n",
    "    answer = n - len(n_lost)\n",
    "    \n",
    "    return answer"
   ]
  },
  {
   "cell_type": "markdown",
   "metadata": {},
   "source": [
    "### 큰 수 만들기"
   ]
  },
  {
   "cell_type": "code",
   "execution_count": null,
   "metadata": {},
   "outputs": [],
   "source": []
  }
 ],
 "metadata": {
  "kernelspec": {
   "display_name": "Python 3",
   "language": "python",
   "name": "python3"
  },
  "language_info": {
   "codemirror_mode": {
    "name": "ipython",
    "version": 3
   },
   "file_extension": ".py",
   "mimetype": "text/x-python",
   "name": "python",
   "nbconvert_exporter": "python",
   "pygments_lexer": "ipython3",
   "version": "3.8.5"
  }
 },
 "nbformat": 4,
 "nbformat_minor": 4
}
