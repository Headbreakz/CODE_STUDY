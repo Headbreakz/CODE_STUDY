{
 "cells": [
  {
   "cell_type": "markdown",
   "metadata": {},
   "source": [
    "## 2"
   ]
  },
  {
   "cell_type": "code",
   "execution_count": null,
   "metadata": {},
   "outputs": [],
   "source": [
    "def solution(p,n):\n",
    "    a,b = p.split(\" \")\n",
    "    h,m,s = map(int,b.split(':'))\n",
    "    time = 0\n",
    "    if a == 'PM' :\n",
    "        if h < 12: \n",
    "            time = ((h+12)*3600)+(m*60)+(s+n)\n",
    "        else :\n",
    "            time = ((h)*3600)+(m*60)+(s+n)\n",
    "    else :\n",
    "        if h < 12 :\n",
    "            time = (h*3600)+(m*60)+(s+n)\n",
    "        else :\n",
    "            h = h-12\n",
    "            time = (h*3600)+(m*60)+(s+n)\n",
    "        \n",
    "    \n",
    "    total_hour,total_min,total_sec = time//3600,(time%3600)//60,(time%3600)%60 \n",
    "    \n",
    "    while total_hour >=24 :\n",
    "        total_hour = total_hour - 24\n",
    "    \n",
    "        \n",
    "    answer = str(total_hour).zfill(2)+':'+str(total_min).zfill(2)+\":\"+str(total_sec).zfill(2)       \n",
    "\n",
    "   \n",
    "    return answer"
   ]
  }
 ],
 "metadata": {
  "kernelspec": {
   "display_name": "Python 3",
   "language": "python",
   "name": "python3"
  },
  "language_info": {
   "codemirror_mode": {
    "name": "ipython",
    "version": 3
   },
   "file_extension": ".py",
   "mimetype": "text/x-python",
   "name": "python",
   "nbconvert_exporter": "python",
   "pygments_lexer": "ipython3",
   "version": "3.8.3"
  }
 },
 "nbformat": 4,
 "nbformat_minor": 4
}
