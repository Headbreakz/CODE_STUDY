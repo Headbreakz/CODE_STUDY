{
 "cells": [
  {
   "cell_type": "markdown",
   "metadata": {},
   "source": [
    "## 고양이와 개는 몇마리 있을까"
   ]
  },
  {
   "cell_type": "code",
   "execution_count": null,
   "metadata": {},
   "outputs": [],
   "source": [
    "SELECT\n",
    "    ANIMAL_TYPE, COUNT(ANIMAL_TYPE)\n",
    "FROM\n",
    "    ANIMAL_INS\n",
    "GROUP BY\n",
    "    ANIMAL_TYPE\n",
    "HAVING\n",
    "    ANIMAL_TYPE = 'cat' or ANIMAL_TYPE = 'dog'\n",
    "ORDER BY\n",
    "    ANIMAL_TYPE\n"
   ]
  },
  {
   "cell_type": "markdown",
   "metadata": {},
   "source": [
    "## 동명 동물 수 찾기"
   ]
  },
  {
   "cell_type": "code",
   "execution_count": null,
   "metadata": {},
   "outputs": [],
   "source": [
    "SELECT\n",
    "   NAME, COUNT(NAME)\n",
    "FROM\n",
    "    ANIMAL_INS\n",
    "WHERE\n",
    "    NAME IS NOT NULL\n",
    "GROUP BY\n",
    "    NAME\n",
    "HAVING\n",
    "    COUNT(NAME) > 1\n",
    "ORDER BY\n",
    "    NAME "
   ]
  },
  {
   "cell_type": "markdown",
   "metadata": {},
   "source": [
    "## 입양 시간 구하기"
   ]
  },
  {
   "cell_type": "code",
   "execution_count": null,
   "metadata": {},
   "outputs": [],
   "source": [
    "SELECT\n",
    "    HOUR(DATETIME) AS HOUR , COUNT(HOUR(DATETIME))\n",
    "FROM \n",
    "    ANIMAL_OUTS \n",
    "GROUP BY\n",
    "    HOUR\n",
    "HAVING\n",
    "    HOUR BETWEEN 9 AND 19\n",
    "ORDER BY\n",
    "    HOUR"
   ]
  },
  {
   "cell_type": "markdown",
   "metadata": {},
   "source": [
    "## 입양 시간 구하기2"
   ]
  },
  {
   "cell_type": "code",
   "execution_count": null,
   "metadata": {},
   "outputs": [],
   "source": []
  }
 ],
 "metadata": {
  "kernelspec": {
   "display_name": "Python 3",
   "language": "python",
   "name": "python3"
  },
  "language_info": {
   "codemirror_mode": {
    "name": "ipython",
    "version": 3
   },
   "file_extension": ".py",
   "mimetype": "text/x-python",
   "name": "python",
   "nbconvert_exporter": "python",
   "pygments_lexer": "ipython3",
   "version": "3.6.5"
  }
 },
 "nbformat": 4,
 "nbformat_minor": 4
}
