{
 "cells": [
  {
   "cell_type": "code",
   "execution_count": 43,
   "id": "competitive-virginia",
   "metadata": {},
   "outputs": [],
   "source": [
    "coin = [1,5,10,50,100,500]\n",
    "costs= [2, 11, 20, 100, 200, 600]\n",
    "\n",
    "use_coin = [coin[0]]\n",
    "use_costs = [costs[0]]\n",
    "\n",
    "for i in range(5):\n",
    "    div_value = coin[i+1]// coin[i]    \n",
    "    if costs[i+1] <= (costs[i]* div_value):\n",
    "        use_coin.append(coin[i+1])\n",
    "        use_costs.append(costs[i+1])\n",
    "    \n",
    "result = 0\n",
    "money = 1999\n",
    "\n",
    "for i in range(len(use_coin)-1,-1,-1) :\n",
    "    money_value = money // use_coin[i]\n",
    "    \n",
    "    result = result + (money_value * use_costs[i])\n",
    "    \n",
    "    money = money - (use_coin[i]*money_value)\n",
    "    \n"
   ]
  },
  {
   "cell_type": "code",
   "execution_count": 196,
   "id": "worthy-struggle",
   "metadata": {},
   "outputs": [],
   "source": [
    "n =6\n",
    "\n",
    "clockwise = False \n",
    "\n"
   ]
  },
  {
   "cell_type": "code",
   "execution_count": 197,
   "id": "addressed-zimbabwe",
   "metadata": {},
   "outputs": [],
   "source": [
    "dx = [1,0,-1,0]\n",
    "dy = [0,1,0,-1]\n",
    "\n",
    "if clockwise == False:\n",
    "    dx = [0,-1,0,1]\n",
    "    dy = [1,0,-1,0]"
   ]
  },
  {
   "cell_type": "code",
   "execution_count": 201,
   "id": "stopped-estonia",
   "metadata": {},
   "outputs": [],
   "source": [
    "matrix = [[0 for _ in range(n)] for _ in range(n)]\n",
    "\n",
    "matrix[0][0] = 1\n",
    "matrix[0][n-1] = 1\n",
    "matrix[n-1][0] =1\n",
    "matrix[n-1][n-1] = 1\n",
    "\n",
    "start_0 = [0,0]\n",
    "start_1 = [0,n-1]\n",
    "start_2 = [n-1,n-1]\n",
    "start_3 = [n-1 ,0]"
   ]
  },
  {
   "cell_type": "code",
   "execution_count": 203,
   "id": "official-shock",
   "metadata": {
    "collapsed": true
   },
   "outputs": [
    {
     "name": "stdout",
     "output_type": "stream",
     "text": [
      "0\n",
      "1\n",
      "2\n",
      "3\n",
      "4\n",
      "5\n",
      "6\n",
      "7\n",
      "8\n",
      "9\n",
      "10\n",
      "11\n",
      "12\n",
      "13\n",
      "14\n",
      "15\n",
      "16\n",
      "17\n",
      "18\n",
      "19\n",
      "20\n",
      "21\n",
      "22\n",
      "23\n",
      "24\n",
      "25\n",
      "26\n",
      "27\n",
      "28\n",
      "29\n",
      "30\n",
      "31\n",
      "32\n",
      "33\n",
      "34\n",
      "35\n"
     ]
    }
   ],
   "source": [
    "value = 1\n",
    "clockwise_True = 0\n",
    "for i in range(n*n):    \n",
    "    print(i)\n",
    "    while matrix[start_0[0]+dy[(i)%4]][start_0[1]+dx[(i)%4]] == 0 :        \n",
    "            matrix[start_0[0]+dy[(i)%4]][start_0[1]+dx[(i)%4]] = value + 1\n",
    "            matrix[start_1[0]+dy[(i+1)%4]][start_1[1]+dx[(i+1)%4]] = value + 1\n",
    "            matrix[start_2[0]+dy[(i+2)%4]][start_2[1]+dx[(i+2)%4]] = value + 1\n",
    "            matrix[start_3[0]+dy[(i+3)%4]][start_3[1]+dx[(i+3)%4]] = value + 1\n",
    "            \n",
    "            value = value + 1\n",
    "            \n",
    "            start_0 = [start_0[0]+dy[(i)%4],start_0[1]+dx[(i)%4]]\n",
    "            start_1 = [start_1[0]+dy[(i+1)%4],start_1[1]+dx[(i+1)%4]]\n",
    "            start_2 = [start_2[0]+dy[(i+2)%4],start_2[1]+dx[(i+2)%4]]\n",
    "            start_3 = [start_3[0]+dy[(i+3)%4] ,start_3[1]+dx[(i+3)%4]] \n",
    "            print(start_0)\n",
    "            \n",
    "            \n",
    "\n",
    "    \n",
    "        "
   ]
  },
  {
   "cell_type": "code",
   "execution_count": 336,
   "id": "august-galaxy",
   "metadata": {},
   "outputs": [],
   "source": [
    "def count_load (x,y) :\n",
    "    width = x\n",
    "    height = y\n",
    "    matrix = [[0 for _ in range(width+1)] for _ in range(height+1)]\n",
    "    for i in range(height+1):\n",
    "        matrix[i][0] = 1\n",
    "    for i in range(width +1):\n",
    "        matrix[-1][i] = 1\n",
    "    for i in range(height,-1,-1):\n",
    "        for j in range(width+1):\n",
    "            if matrix[i][j] == 0 :\n",
    "                matrix[i][j] = matrix[i+1][j] + matrix[i][j-1]\n",
    "    return matrix[0][width]\n",
    "\n",
    "        \n",
    "\n",
    "    "
   ]
  },
  {
   "cell_type": "code",
   "execution_count": 332,
   "id": "passing-council",
   "metadata": {},
   "outputs": [],
   "source": [
    "width = 17\n",
    "height = 19"
   ]
  },
  {
   "cell_type": "code",
   "execution_count": 333,
   "id": "miniature-champion",
   "metadata": {},
   "outputs": [],
   "source": [
    "matrix = [[0 for _ in range(width+1)] for _ in range(height+1)]\n"
   ]
  },
  {
   "cell_type": "code",
   "execution_count": 334,
   "id": "different-kuwait",
   "metadata": {},
   "outputs": [],
   "source": [
    "for i in range(height+1):\n",
    "    matrix[i][0] = 1\n",
    "for i in range(width +1):\n",
    "    matrix[-1][i] = 1"
   ]
  },
  {
   "cell_type": "code",
   "execution_count": 335,
   "id": "mysterious-special",
   "metadata": {},
   "outputs": [],
   "source": [
    "for i in range(height,-1,-1):\n",
    "    for j in range(width+1):\n",
    "        if matrix[i][j] == 0 :\n",
    "            matrix[i][j] = matrix[i+1][j] + matrix[i][j-1]\n",
    "        \n",
    "        "
   ]
  },
  {
   "cell_type": "code",
   "execution_count": 302,
   "id": "detailed-grocery",
   "metadata": {},
   "outputs": [
    {
     "data": {
      "text/plain": [
       "[[1, 3, 6], [1, 2, 3], [1, 1, 1]]"
      ]
     },
     "execution_count": 302,
     "metadata": {},
     "output_type": "execute_result"
    }
   ],
   "source": [
    "matrix"
   ]
  },
  {
   "cell_type": "code",
   "execution_count": 359,
   "id": "royal-globe",
   "metadata": {},
   "outputs": [],
   "source": [
    "diagonals = [[16,19],[17,18]]"
   ]
  },
  {
   "cell_type": "code",
   "execution_count": 360,
   "id": "turkish-number",
   "metadata": {},
   "outputs": [],
   "source": [
    "left_up = count_load(diagonals[0][0],diagonals[0][1]) \n",
    "right_down =  count_load(diagonals[1][0],diagonals[1][1]) "
   ]
  },
  {
   "cell_type": "code",
   "execution_count": 361,
   "id": "lyric-shade",
   "metadata": {},
   "outputs": [
    {
     "data": {
      "text/plain": [
       "4059928950"
      ]
     },
     "execution_count": 361,
     "metadata": {},
     "output_type": "execute_result"
    }
   ],
   "source": [
    "left_up"
   ]
  },
  {
   "cell_type": "code",
   "execution_count": 362,
   "id": "tamil-germany",
   "metadata": {
    "scrolled": true
   },
   "outputs": [
    {
     "data": {
      "text/plain": [
       "4537567650"
      ]
     },
     "execution_count": 362,
     "metadata": {},
     "output_type": "execute_result"
    }
   ],
   "source": [
    "right_down"
   ]
  },
  {
   "cell_type": "code",
   "execution_count": 366,
   "id": "therapeutic-pharmacy",
   "metadata": {},
   "outputs": [
    {
     "data": {
      "text/plain": [
       "8597496600"
      ]
     },
     "execution_count": 366,
     "metadata": {},
     "output_type": "execute_result"
    }
   ],
   "source": [
    "left_up+right_down"
   ]
  },
  {
   "cell_type": "code",
   "execution_count": 371,
   "id": "vocational-microwave",
   "metadata": {},
   "outputs": [],
   "source": [
    "width = 51 - 16\n",
    "height = 37 - 20\n",
    "matrix = [[0 for _ in range(width+1)] for _ in range(height+1)]\n",
    "for i in range(height+1):\n",
    "    matrix[i][0] = 1\n",
    "for i in range(width +1):\n",
    "    matrix[-1][i] = 1\n",
    "for i in range(height,-1,-1):\n",
    "    for j in range(width+1):\n",
    "        if matrix[i][j] == 0 :\n",
    "            matrix[i][j] = matrix[i+1][j] + matrix[i][j-1]\n",
    "        \n",
    "        "
   ]
  },
  {
   "cell_type": "code",
   "execution_count": 372,
   "id": "broken-spice",
   "metadata": {},
   "outputs": [
    {
     "data": {
      "text/plain": [
       "21945588357420"
      ]
     },
     "execution_count": 372,
     "metadata": {},
     "output_type": "execute_result"
    }
   ],
   "source": [
    "matrix[0][width]"
   ]
  },
  {
   "cell_type": "code",
   "execution_count": 367,
   "id": "reduced-bedroom",
   "metadata": {},
   "outputs": [
    {
     "data": {
      "text/plain": [
       "366872180282062845390000"
      ]
     },
     "execution_count": 367,
     "metadata": {},
     "output_type": "execute_result"
    }
   ],
   "source": [
    "(8597496600 *42671977361650)"
   ]
  },
  {
   "cell_type": "code",
   "execution_count": 370,
   "id": "conscious-character",
   "metadata": {},
   "outputs": [
    {
     "data": {
      "text/plain": [
       "310017719595076498005000"
      ]
     },
     "execution_count": 370,
     "metadata": {},
     "output_type": "execute_result"
    }
   ],
   "source": [
    "76360380541900*4059928950"
   ]
  },
  {
   "cell_type": "code",
   "execution_count": 327,
   "id": "another-repair",
   "metadata": {},
   "outputs": [
    {
     "data": {
      "text/plain": [
       "99579591790845629463000"
      ]
     },
     "execution_count": 327,
     "metadata": {},
     "output_type": "execute_result"
    }
   ],
   "source": [
    "21945588357420*4537567650"
   ]
  },
  {
   "cell_type": "code",
   "execution_count": 373,
   "id": "geological-impossible",
   "metadata": {},
   "outputs": [
    {
     "data": {
      "text/plain": [
       "776469491667984972858000"
      ]
     },
     "execution_count": 373,
     "metadata": {},
     "output_type": "execute_result"
    }
   ],
   "source": [
    "366872180282062845390000+310017719595076498005000+99579591790845629463000"
   ]
  },
  {
   "cell_type": "code",
   "execution_count": 374,
   "id": "utility-lithuania",
   "metadata": {},
   "outputs": [
    {
     "data": {
      "text/plain": [
       "3225685"
      ]
     },
     "execution_count": 374,
     "metadata": {},
     "output_type": "execute_result"
    }
   ],
   "source": [
    "776469491667984972858000%10000019"
   ]
  }
 ],
 "metadata": {
  "kernelspec": {
   "display_name": "Python 3",
   "language": "python",
   "name": "python3"
  },
  "language_info": {
   "codemirror_mode": {
    "name": "ipython",
    "version": 3
   },
   "file_extension": ".py",
   "mimetype": "text/x-python",
   "name": "python",
   "nbconvert_exporter": "python",
   "pygments_lexer": "ipython3",
   "version": "3.6.5"
  }
 },
 "nbformat": 4,
 "nbformat_minor": 5
}
