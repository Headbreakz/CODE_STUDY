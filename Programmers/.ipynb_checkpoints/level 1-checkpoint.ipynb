{
 "cells": [
  {
   "cell_type": "markdown",
   "metadata": {},
   "source": [
    "## 2016년"
   ]
  },
  {
   "cell_type": "code",
   "execution_count": null,
   "metadata": {},
   "outputs": [],
   "source": [
    "def solution(a, b):\n",
    "    month = [31,29,31,30,31,30,31,31,30,31,30,31]\n",
    "    week = ['FRI','SAT','SUN','MON','TUE','WED','THU']\n",
    "    day = 0\n",
    "    for i in range(a-1):\n",
    "        day += month[i]\n",
    "    day += b\n",
    "    \n",
    "    answer = week[(day%7)-1]\n",
    "    return answer"
   ]
  },
  {
   "cell_type": "markdown",
   "metadata": {},
   "source": [
    "## 가운데 글자 가져오기"
   ]
  },
  {
   "cell_type": "code",
   "execution_count": null,
   "metadata": {},
   "outputs": [],
   "source": [
    "def solution(s):\n",
    "    if len(s)%2 == 1:\n",
    "        answer = s[(len(s)//2)]\n",
    "    else :\n",
    "        answer = s[(len(s)//2)-1:(len(s)//2)+1]\n",
    "    \n",
    "    return answer"
   ]
  },
  {
   "cell_type": "markdown",
   "metadata": {},
   "source": [
    "## 같은 숫자는 싫어"
   ]
  },
  {
   "cell_type": "code",
   "execution_count": null,
   "metadata": {},
   "outputs": [],
   "source": [
    "def solution(arr):\n",
    "    num = [-1]\n",
    "    for i in range(len(arr)):\n",
    "        if arr[i] != num[-1]:\n",
    "            num.append(arr[i])\n",
    "    num.pop(0)\n",
    "    \n",
    "    return num"
   ]
  },
  {
   "cell_type": "markdown",
   "metadata": {},
   "source": [
    "## 나누어 떨어지는 숫자 배열"
   ]
  },
  {
   "cell_type": "code",
   "execution_count": null,
   "metadata": {},
   "outputs": [],
   "source": [
    "def solution(arr, divisor):\n",
    "    answer = []\n",
    "    for i in arr :\n",
    "        if i%divisor == 0:\n",
    "            answer.append(i)\n",
    "    \n",
    "    answer.sort()\n",
    "            \n",
    "    if len(answer) == 0 :\n",
    "        answer = [-1]\n",
    "    return answer"
   ]
  },
  {
   "cell_type": "markdown",
   "metadata": {},
   "source": [
    "## 두 정수 사이의 합"
   ]
  },
  {
   "cell_type": "code",
   "execution_count": null,
   "metadata": {},
   "outputs": [],
   "source": [
    "def solution(a, b):\n",
    "    answer = []\n",
    "    \n",
    "    if a > b :\n",
    "        a,b = b,a+1\n",
    "    else :\n",
    "        a,b = a,b+1\n",
    "        \n",
    "    for i in range(a,b):\n",
    "        answer.append(i)\n",
    "    \n",
    "    \n",
    "    return sum(answer)"
   ]
  },
  {
   "cell_type": "markdown",
   "metadata": {},
   "source": [
    "## 문자열 내 마음대로 정렬하기"
   ]
  },
  {
   "cell_type": "code",
   "execution_count": null,
   "metadata": {},
   "outputs": [],
   "source": [
    "def solution(strings, n):\n",
    "    strings.sort()\n",
    "    answer = sorted(strings, key = lambda x : x[n])\n",
    "    \n",
    "    return answer"
   ]
  },
  {
   "cell_type": "markdown",
   "metadata": {},
   "source": [
    "## 문자열 내 p와 y의 개수"
   ]
  },
  {
   "cell_type": "code",
   "execution_count": null,
   "metadata": {},
   "outputs": [],
   "source": [
    "def solution(s):\n",
    "    c = s.upper()\n",
    "    a = c.count('P')\n",
    "    b = c.count('Y')\n",
    "    \n",
    "    if a == 0 and b == 0 :\n",
    "        return True\n",
    "    \n",
    "    if a == b :\n",
    "        return True\n",
    "    else :\n",
    "        return False    \n",
    "    "
   ]
  },
  {
   "cell_type": "markdown",
   "metadata": {},
   "source": [
    "## 문자열 내림차순으로 배치하기"
   ]
  },
  {
   "cell_type": "code",
   "execution_count": null,
   "metadata": {},
   "outputs": [],
   "source": [
    "def solution(s):\n",
    "    s = list(map(str,s))\n",
    "    s.sort()\n",
    "    s.reverse()\n",
    "    s = ''.join(s)\n",
    "        \n",
    "    return s"
   ]
  },
  {
   "cell_type": "markdown",
   "metadata": {},
   "source": [
    "## 문자열 다루기 기본"
   ]
  },
  {
   "cell_type": "code",
   "execution_count": null,
   "metadata": {},
   "outputs": [],
   "source": [
    "def solution(s):\n",
    "    if (len(s) == 4  or len(s)==6) and s.isdigit() ==True :\n",
    "        return True\n",
    "    else :\n",
    "        return False    "
   ]
  },
  {
   "cell_type": "markdown",
   "metadata": {},
   "source": [
    "## 서울에서 김서방 찾기"
   ]
  },
  {
   "cell_type": "code",
   "execution_count": null,
   "metadata": {},
   "outputs": [],
   "source": [
    "def solution(seoul):\n",
    "    answer = '김서방은 %d에 있다' %(seoul.index('Kim'))\n",
    "    return answer"
   ]
  },
  {
   "cell_type": "markdown",
   "metadata": {},
   "source": [
    "## 소수 찾기"
   ]
  },
  {
   "cell_type": "code",
   "execution_count": null,
   "metadata": {},
   "outputs": [],
   "source": [
    "import math\n",
    "\n",
    "def solution(n):\n",
    "    a = set(range(2,n+1))\n",
    "    \n",
    "    for i in range(2,n+1):\n",
    "        if i in a :\n",
    "            a -= set(range(2*i,n+1,i))\n",
    "    \n",
    "    return len(a)"
   ]
  },
  {
   "cell_type": "markdown",
   "metadata": {},
   "source": [
    "## 수박수박수박수박수?"
   ]
  },
  {
   "cell_type": "code",
   "execution_count": null,
   "metadata": {},
   "outputs": [],
   "source": [
    "def solution(n):\n",
    "    a = ''\n",
    "    for i in range(1,n+1):\n",
    "        if i%2 == 1:\n",
    "            a += ''.join('수')\n",
    "        else :\n",
    "            a += ''.join('박')\n",
    "    return a"
   ]
  },
  {
   "cell_type": "markdown",
   "metadata": {},
   "source": [
    "## 문자열을 정수로 바꾸기"
   ]
  },
  {
   "cell_type": "code",
   "execution_count": null,
   "metadata": {},
   "outputs": [],
   "source": [
    "def solution(s):\n",
    "    \n",
    "    return int(s)"
   ]
  },
  {
   "cell_type": "markdown",
   "metadata": {},
   "source": [
    "## 시저암호"
   ]
  },
  {
   "cell_type": "code",
   "execution_count": null,
   "metadata": {},
   "outputs": [],
   "source": [
    "def solution(s, n):\n",
    "    s = list(map(str,s))\n",
    "    a = ''\n",
    "    for i in s :\n",
    "        if i == ' ':\n",
    "            a +=''.join(i)\n",
    "\n",
    "        else :\n",
    "            if ord(i) > 96 :\n",
    "                if ord(i)+n > 122:\n",
    "                    a+= chr(ord(i)+n-26)\n",
    "                else:\n",
    "                    a += chr(ord(i)+n)\n",
    "            \n",
    "            elif ord (i) < 96 :\n",
    "                if ord(i)+n > 90:\n",
    "                    a+= chr(ord(i)+n-26)\n",
    "                else:\n",
    "                    a += chr(ord(i)+n) \n",
    "\n",
    "    \n",
    "    return a"
   ]
  },
  {
   "cell_type": "markdown",
   "metadata": {},
   "source": [
    "## 약수의 합"
   ]
  },
  {
   "cell_type": "code",
   "execution_count": null,
   "metadata": {},
   "outputs": [],
   "source": [
    "def solution(n):\n",
    "    a = []\n",
    "    for i in range(1,n+1):\n",
    "        if n%i == 0:\n",
    "            a.append(i)\n",
    "    return sum(a)"
   ]
  },
  {
   "cell_type": "markdown",
   "metadata": {},
   "source": [
    "## 이상한 문자 만들기"
   ]
  },
  {
   "cell_type": "code",
   "execution_count": null,
   "metadata": {},
   "outputs": [],
   "source": [
    "def solution(s):\n",
    "    b = list(map(str, s.split(' ')))\n",
    "    c = []\n",
    "    for i in b :\n",
    "        i = list(map(str,i))\n",
    "        for j in range(len(i)):\n",
    "            if j%2 != 0:\n",
    "                i[j] = i[j].lower()\n",
    "            else :\n",
    "                i[j] = i[j].upper()\n",
    "        c.append(''.join(i))\n",
    "    \n",
    "\n",
    "    \n",
    "    return ' '.join(c)"
   ]
  },
  {
   "cell_type": "markdown",
   "metadata": {},
   "source": [
    "## 자릿수 더하기"
   ]
  },
  {
   "cell_type": "code",
   "execution_count": null,
   "metadata": {},
   "outputs": [],
   "source": [
    "def solution(n):\n",
    "    \n",
    "    return sum(list(map(int,str(n))))"
   ]
  },
  {
   "cell_type": "markdown",
   "metadata": {},
   "source": [
    "## 자연수 뒤집어 배열로 만들기"
   ]
  },
  {
   "cell_type": "code",
   "execution_count": null,
   "metadata": {},
   "outputs": [],
   "source": [
    "def solution(n):\n",
    "    \n",
    "    return list(reversed(list(map(int,str(n)))))"
   ]
  },
  {
   "cell_type": "markdown",
   "metadata": {},
   "source": [
    "## 정수 내림차순으로 배치하기"
   ]
  },
  {
   "cell_type": "code",
   "execution_count": null,
   "metadata": {},
   "outputs": [],
   "source": [
    "def solution(n):\n",
    "    answer = list(map(str,str(n)))\n",
    "    answer.sort()\n",
    "    answer.reverse()\n",
    "    return int(''.join(answer))"
   ]
  },
  {
   "cell_type": "markdown",
   "metadata": {},
   "source": [
    "## 정수 제곱근 판별"
   ]
  },
  {
   "cell_type": "code",
   "execution_count": null,
   "metadata": {},
   "outputs": [],
   "source": [
    "import math\n",
    "\n",
    "def solution(n):\n",
    "    sqrt = math.sqrt(n)\n",
    "    if sqrt - round(sqrt,2) == 0 :\n",
    "        return (sqrt+1)**2\n",
    "    else :\n",
    "        return -1\n",
    "    "
   ]
  },
  {
   "cell_type": "markdown",
   "metadata": {},
   "source": [
    "## 제일 작은 수 제거하기"
   ]
  },
  {
   "cell_type": "code",
   "execution_count": null,
   "metadata": {},
   "outputs": [],
   "source": [
    "def solution(arr):\n",
    "    arr.remove(min(arr))\n",
    "    if len(arr) == 0 :\n",
    "        return [-1]\n",
    "    else:\n",
    "        return arr    "
   ]
  },
  {
   "cell_type": "markdown",
   "metadata": {},
   "source": [
    "## 짝수와 홀수"
   ]
  },
  {
   "cell_type": "code",
   "execution_count": null,
   "metadata": {},
   "outputs": [],
   "source": [
    "def solution(num):\n",
    "    if num%2 == 1:\n",
    "        return 'Odd'\n",
    "    else :\n",
    "        return \"Even\"    "
   ]
  },
  {
   "cell_type": "markdown",
   "metadata": {},
   "source": [
    "## 최대 공약수와 최소 공배수"
   ]
  },
  {
   "cell_type": "code",
   "execution_count": 3,
   "metadata": {},
   "outputs": [],
   "source": [
    "def solution(n, m):\n",
    "    max_num = 0\n",
    "    if n > m :\n",
    "        a = m\n",
    "    else :\n",
    "        a = n \n",
    "    for i in range(1,a+1):\n",
    "        if n%i == 0 and m%i == 0:\n",
    "            max_num = i\n",
    "\n",
    "    answer = [max_num,max_num*(n//max_num)*(m//max_num)]    \n",
    "    \n",
    "    return answer"
   ]
  },
  {
   "cell_type": "markdown",
   "metadata": {},
   "source": [
    "## 콜라츠 추측"
   ]
  },
  {
   "cell_type": "code",
   "execution_count": 14,
   "metadata": {},
   "outputs": [],
   "source": [
    "def solution(num):\n",
    "    a = num\n",
    "    count = 0\n",
    "\n",
    "    while a > 1:\n",
    "        count += 1\n",
    "        a = a/2 if a%2 == 0 else (a*3)+1\n",
    "        if count >= 501:\n",
    "            break\n",
    "    if count > 500 :\n",
    "        return -1\n",
    "    else :\n",
    "        return count\n",
    "        \n",
    "    "
   ]
  },
  {
   "cell_type": "markdown",
   "metadata": {},
   "source": [
    "## 평균 구하기"
   ]
  },
  {
   "cell_type": "code",
   "execution_count": null,
   "metadata": {},
   "outputs": [],
   "source": [
    "def solution(arr):\n",
    "    \n",
    "    return sum(arr)/len(arr)"
   ]
  },
  {
   "cell_type": "markdown",
   "metadata": {},
   "source": [
    "## 하샤드 수"
   ]
  },
  {
   "cell_type": "code",
   "execution_count": 17,
   "metadata": {},
   "outputs": [],
   "source": [
    "def solution(x):\n",
    "    sum_x = sum(list(map(int,str(x))))\n",
    "    \n",
    "    if x % sum_x == 0:\n",
    "        return True\n",
    "    else :\n",
    "        return False"
   ]
  },
  {
   "cell_type": "markdown",
   "metadata": {},
   "source": [
    "## 핸드폰 번호 가리기"
   ]
  },
  {
   "cell_type": "code",
   "execution_count": 26,
   "metadata": {},
   "outputs": [
    {
     "data": {
      "text/plain": [
       "'*******4444'"
      ]
     },
     "execution_count": 26,
     "metadata": {},
     "output_type": "execute_result"
    }
   ],
   "source": [
    "def solution(phone_number):\n",
    "    phone_number = (len(phone_number)-4)*'*' +phone_number[-4:]\n",
    "    \n",
    "    return phone_number"
   ]
  },
  {
   "cell_type": "markdown",
   "metadata": {},
   "source": [
    "## 행렬의 덧셈"
   ]
  },
  {
   "cell_type": "code",
   "execution_count": 31,
   "metadata": {},
   "outputs": [],
   "source": [
    "def solution(arr1, arr2):\n",
    "    for i in range(len(arr1)):\n",
    "        for j in range(len(arr1[i])):\n",
    "            arr1[i][j] += arr2[i][j]\n",
    "    \n",
    "    return arr1"
   ]
  },
  {
   "cell_type": "markdown",
   "metadata": {},
   "source": [
    "## x만큼 간격이 있는 n개의 숫자"
   ]
  },
  {
   "cell_type": "code",
   "execution_count": 41,
   "metadata": {},
   "outputs": [],
   "source": [
    "def solution(x, n):\n",
    "    answer = []\n",
    "    for i in range(1,n+1):\n",
    "        answer.append(x*i)\n",
    "    return answer"
   ]
  },
  {
   "cell_type": "markdown",
   "metadata": {},
   "source": [
    "## 직사각형 별찍기"
   ]
  },
  {
   "cell_type": "code",
   "execution_count": 42,
   "metadata": {
    "scrolled": true
   },
   "outputs": [
    {
     "name": "stdout",
     "output_type": "stream",
     "text": [
      "5 3\n",
      "*****\n",
      "*****\n",
      "*****\n"
     ]
    }
   ],
   "source": [
    "a, b = map(int, input().strip().split(' '))\n",
    "for i in range(b):\n",
    "    print(\"*\"*a)"
   ]
  },
  {
   "cell_type": "markdown",
   "metadata": {},
   "source": [
    "## 키패드 누르기"
   ]
  },
  {
   "cell_type": "code",
   "execution_count": 26,
   "metadata": {},
   "outputs": [],
   "source": [
    "def solution(numbers, hand):\n",
    "        \n",
    "    hand = hand.upper()\n",
    "    for i in range(len(numbers)):\n",
    "        if numbers[i] == 0 :\n",
    "            numbers[i] = 11\n",
    "\n",
    "    phone = [[1,2,3],[4,5,6],[7,8,9],[10,11,12]]\n",
    "\n",
    "    left = [10]\n",
    "    right = [12]\n",
    "    answer = ''\n",
    "    for i in range(len(numbers)):\n",
    "        if numbers[i] == phone[0][0] or numbers[i] == phone[1][0] or numbers[i] ==phone[2][0]:\n",
    "            answer +='L'\n",
    "            left.append(numbers[i])\n",
    "        elif numbers[i] == phone[0][2] or numbers[i] == phone[1][2] or numbers[i] ==phone[2][2]:\n",
    "            answer+='R'\n",
    "            right.append(numbers[i])\n",
    "        elif numbers[i] == phone[0][1] or numbers[i] == phone[1][1] or numbers[i] ==phone[2][1] or numbers[i] == phone[3][1]:\n",
    "            if ((abs(left[-1]-numbers[i])//3)+(abs(left[-1]-numbers[i])%3)) > ((abs(right[-1]-numbers[i])//3)+(abs(right[-1]-numbers[i])%3)):\n",
    "                                                                              answer+='R'\n",
    "                                                                              right.append(numbers[i])\n",
    "\n",
    "            elif ((abs(left[-1]-numbers[i])//3)+(abs(left[-1]-numbers[i])%3)) < ((abs(right[-1]-numbers[i])//3)+(abs(right[-1]-numbers[i])%3)):\n",
    "                                                                              answer+='L'\n",
    "                                                                              left.append(numbers[i])\n",
    "\n",
    "            elif ((abs(left[-1]-numbers[i])//3)+(abs(left[-1]-numbers[i])%3)) == ((abs(right[-1]-numbers[i])//3)+(abs(right[-1]-numbers[i])%3)):\n",
    "                answer+=hand[0]\n",
    "                if hand[0] == 'R':\n",
    "                    right.append(numbers[i])\n",
    "                else:\n",
    "                    left.append(numbers[i])\n",
    "\n",
    "\n",
    "    \n",
    "    return answer"
   ]
  },
  {
   "cell_type": "markdown",
   "metadata": {},
   "source": [
    "## 예산"
   ]
  },
  {
   "cell_type": "code",
   "execution_count": null,
   "metadata": {},
   "outputs": [],
   "source": [
    "def solution(d, budget):\n",
    "    d.sort()\n",
    "    count = 0\n",
    "    for i in d :        \n",
    "        budget = budget - i\n",
    "        if budget < 0 :\n",
    "            break\n",
    "        count += 1       \n",
    "    \n",
    "    return count"
   ]
  },
  {
   "cell_type": "markdown",
   "metadata": {},
   "source": [
    "## 비밀지도"
   ]
  },
  {
   "cell_type": "code",
   "execution_count": 14,
   "metadata": {},
   "outputs": [],
   "source": [
    "def solution(n, arr1, arr2):\n",
    "    answer = []\n",
    "    for num1,num2 in zip(arr1,arr2):\n",
    "        a = bin(num1|num2)[2:]\n",
    "        a = a.rjust(n,'0')\n",
    "        a = a.replace('1','#')\n",
    "        a = a.replace('0',' ')\n",
    "        answer.append(a)\n",
    "    \n",
    "    return answer"
   ]
  },
  {
   "cell_type": "markdown",
   "metadata": {},
   "source": [
    "## 실패율"
   ]
  },
  {
   "cell_type": "code",
   "execution_count": 52,
   "metadata": {},
   "outputs": [],
   "source": [
    "def solution(n, stages):\n",
    "    result = {}\n",
    "    user = len(stages)\n",
    "\n",
    "    for i in range(1,n+1):\n",
    "        a = stages.count(i)\n",
    "        if user == 0:\n",
    "            result[i] = 0\n",
    "        else:\n",
    "            result[i] = a/user\n",
    "            user -= a   \n",
    "    \n",
    "    return sorted(result,key = lambda x : result[x],reverse=True)"
   ]
  },
  {
   "cell_type": "markdown",
   "metadata": {},
   "source": [
    "## 다트게임"
   ]
  },
  {
   "cell_type": "code",
   "execution_count": 92,
   "metadata": {},
   "outputs": [],
   "source": [
    "def solution(dartResult):\n",
    "    b = list(map(str,dartResult))\n",
    "    result =[0]\n",
    "    count  = 0 \n",
    "    for i in range(len(b)):\n",
    "        if b[i] =='S':\n",
    "            result[-1]=result[-1]*1\n",
    "            count = 0\n",
    "        elif b[i] == 'D':\n",
    "            result[-1]=result[-1]**2\n",
    "            count = 0\n",
    "        elif b[i] == 'T':\n",
    "            result[-1]=result[-1]**3\n",
    "            count = 0\n",
    "        elif b[i] == '*':\n",
    "            result[-1] = result[-1]*2\n",
    "            result[-2] = result[-2]*2\n",
    "            count = 0\n",
    "        elif b[i] == '#':\n",
    "            result[-1] = -result[-1]\n",
    "            count = 0\n",
    "        else:\n",
    "            if count >= 1 :\n",
    "                result[-1] = int(str(result[-1])+b[i])\n",
    "            else:\n",
    "                result.append(int(b[i]))\n",
    "                count +=1\n",
    "    \n",
    "    return sum(result)"
   ]
  }
 ],
 "metadata": {
  "kernelspec": {
   "display_name": "Python 3",
   "language": "python",
   "name": "python3"
  },
  "language_info": {
   "codemirror_mode": {
    "name": "ipython",
    "version": 3
   },
   "file_extension": ".py",
   "mimetype": "text/x-python",
   "name": "python",
   "nbconvert_exporter": "python",
   "pygments_lexer": "ipython3",
   "version": "3.8.3"
  }
 },
 "nbformat": 4,
 "nbformat_minor": 4
}
