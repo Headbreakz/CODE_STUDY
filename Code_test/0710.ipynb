{
 "cells": [
  {
   "cell_type": "code",
   "execution_count": 12,
   "id": "large-indian",
   "metadata": {},
   "outputs": [
    {
     "name": "stdout",
     "output_type": "stream",
     "text": [
      "5\n",
      "3\n",
      "2\n",
      "1\n",
      "5\n"
     ]
    }
   ],
   "source": [
    "book_list =[input() for i in range(5) ]"
   ]
  },
  {
   "cell_type": "code",
   "execution_count": 89,
   "id": "touched-tulsa",
   "metadata": {},
   "outputs": [],
   "source": [
    "def solution(arr):\n",
    "    \n",
    "    answer = book_count(arr)    \n",
    "    return answer\n",
    "            \n",
    "        \n",
    "    \n",
    "    \n",
    "def book_count(arr) :\n",
    "    max_count = 0\n",
    "    down_state = 0\n",
    "    up_state = 0\n",
    "        \n",
    "    count = 1\n",
    "    for i in range(len(arr)-1):\n",
    "        \n",
    "        # start\n",
    "        if arr[i] < arr[i+1] and up_state == 0 and down_state == 0:\n",
    "            count += 1\n",
    "            up_state = 1\n",
    "        \n",
    "        elif arr[i] > arr[i+1] and up_state ==0 and down_state ==0:\n",
    "            count += 1\n",
    "            down_state = 1\n",
    "        \n",
    "        elif arr[i] == arr[i+1] and up_state == 0 and down_state ==0 :\n",
    "            count += 1\n",
    "            \n",
    "            \n",
    "        #단조 증가, 감소\n",
    "        elif arr[i] <= arr[i+1] and up_state == 1 and down_state == 0:\n",
    "            count += 1 \n",
    "            \n",
    "        elif arr[i] >= arr[i+1] and up_state == 0 and down_state == 1 :\n",
    "            count += 1\n",
    "            \n",
    "        # 증가 후 감소\n",
    "        elif arr[i] > arr[i+1] and up_state == 1 and down_state == 0 :\n",
    "            count += 1     \n",
    "            up_state = 0       \n",
    "            down_state = 1\n",
    "        \n",
    "        elif arr[i] < arr[i+1] and up_state == 0 and down_state == 1:\n",
    "            max_count = max(max_count,count)\n",
    "            down_state = 0\n",
    "            count = 2   \n",
    "        print(count)\n",
    "    print(\"===========\")\n",
    "            \n",
    "    max_count = max(max_count,count)     \n",
    "    return max_count"
   ]
  },
  {
   "cell_type": "code",
   "execution_count": 91,
   "id": "expected-advisory",
   "metadata": {},
   "outputs": [],
   "source": [
    "arr = [5,1,2,1,4,5]"
   ]
  },
  {
   "cell_type": "code",
   "execution_count": 97,
   "id": "outdoor-stream",
   "metadata": {},
   "outputs": [],
   "source": [
    "arr = [4,1,2,3,6,9]"
   ]
  },
  {
   "cell_type": "code",
   "execution_count": 93,
   "id": "medium-constitutional",
   "metadata": {},
   "outputs": [],
   "source": [
    "arr = [7,3,4,4,8,2,5,1]"
   ]
  },
  {
   "cell_type": "code",
   "execution_count": 98,
   "id": "upper-court",
   "metadata": {},
   "outputs": [
    {
     "name": "stdout",
     "output_type": "stream",
     "text": [
      "2\n",
      "2\n",
      "3\n",
      "4\n",
      "5\n",
      "===========\n"
     ]
    },
    {
     "data": {
      "text/plain": [
       "5"
      ]
     },
     "execution_count": 98,
     "metadata": {},
     "output_type": "execute_result"
    }
   ],
   "source": [
    "solution(arr)"
   ]
  },
  {
   "cell_type": "code",
   "execution_count": 24,
   "id": "rational-blocking",
   "metadata": {},
   "outputs": [
    {
     "name": "stdout",
     "output_type": "stream",
     "text": [
      "1\n",
      "2\n",
      "3\n",
      "4\n",
      "5\n",
      "6\n"
     ]
    }
   ],
   "source": [
    "for i in range(1,7):\n",
    "    print(i)"
   ]
  },
  {
   "cell_type": "code",
   "execution_count": 22,
   "id": "monthly-lesson",
   "metadata": {},
   "outputs": [
    {
     "data": {
      "text/plain": [
       "6"
      ]
     },
     "execution_count": 22,
     "metadata": {},
     "output_type": "execute_result"
    }
   ],
   "source": [
    "len(arr)"
   ]
  },
  {
   "cell_type": "code",
   "execution_count": 21,
   "id": "civic-beatles",
   "metadata": {},
   "outputs": [
    {
     "data": {
      "text/plain": [
       "[5, 1, 2, 1, 4, 5]"
      ]
     },
     "execution_count": 21,
     "metadata": {},
     "output_type": "execute_result"
    }
   ],
   "source": [
    "arr[:6]"
   ]
  }
 ],
 "metadata": {
  "kernelspec": {
   "display_name": "Python 3",
   "language": "python",
   "name": "python3"
  },
  "language_info": {
   "codemirror_mode": {
    "name": "ipython",
    "version": 3
   },
   "file_extension": ".py",
   "mimetype": "text/x-python",
   "name": "python",
   "nbconvert_exporter": "python",
   "pygments_lexer": "ipython3",
   "version": "3.6.5"
  }
 },
 "nbformat": 4,
 "nbformat_minor": 5
}
