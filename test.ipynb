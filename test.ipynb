{
 "cells": [
  {
   "cell_type": "code",
   "execution_count": 1,
   "metadata": {},
   "outputs": [
    {
     "name": "stdout",
     "output_type": "stream",
     "text": [
      "6\n",
      "1\n",
      "\n"
     ]
    }
   ],
   "source": [
    "# -*- coding: utf-8 -*-\n",
    "# UTF-8 encoding when using korean\n",
    "n = int(input())\n",
    "\n",
    "a =[]\n",
    "for i in range(n):\n",
    "\tb = int(input())\n",
    "\tif b == 0 :\n",
    "\t\tif len(a) > 10:\n",
    "\t\t\tprint('overflow')\n",
    "\t\telse :\n",
    "\t\t\ta.append(input())\n",
    "\telif b == 1 :\n",
    "\t\tif len(a) == 0:\n",
    "\t\t\tprint('underflow')\n",
    "\t\telse :\n",
    "\t\t\ta.pop()\n",
    "\telse :\n",
    "\t\tbreak\n",
    "print(''.join(a))"
   ]
  },
  {
   "cell_type": "code",
   "execution_count": 5,
   "metadata": {
    "scrolled": true
   },
   "outputs": [
    {
     "name": "stdout",
     "output_type": "stream",
     "text": [
      "5 6 4\n",
      "[5, 6, 4]\n"
     ]
    }
   ],
   "source": [
    "a = list(map(int,input().split(' ')))\n",
    "print(a)"
   ]
  },
  {
   "cell_type": "code",
   "execution_count": 6,
   "metadata": {},
   "outputs": [
    {
     "name": "stdout",
     "output_type": "stream",
     "text": [
      "\n"
     ]
    }
   ],
   "source": [
    "import sys\n",
    "a = sys.stdin.readline()\n",
    "print(a)"
   ]
  }
 ],
 "metadata": {
  "kernelspec": {
   "display_name": "Python 3",
   "language": "python",
   "name": "python3"
  },
  "language_info": {
   "codemirror_mode": {
    "name": "ipython",
    "version": 3
   },
   "file_extension": ".py",
   "mimetype": "text/x-python",
   "name": "python",
   "nbconvert_exporter": "python",
   "pygments_lexer": "ipython3",
   "version": "3.6.5"
  }
 },
 "nbformat": 4,
 "nbformat_minor": 4
}
