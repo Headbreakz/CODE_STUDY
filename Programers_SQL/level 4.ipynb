{
 "cells": [
  {
   "cell_type": "markdown",
   "metadata": {},
   "source": [
    "## 우유와 요거트가 담긴 장바구니\n"
   ]
  },
  {
   "cell_type": "code",
   "execution_count": null,
   "metadata": {},
   "outputs": [],
   "source": [
    "SELECT\n",
    "    DISTINCT a.CART_ID    \n",
    "FROM\n",
    "    CART_PRODUCTS a, CART_PRODUCTS b\n",
    "WHERE\n",
    "    a.CART_ID = b.CART_ID and a.NAME ='Milk' and b.NAME = 'Yogurt'\n",
    "ORDER bY\n",
    "    a.CART_ID"
   ]
  }
 ],
 "metadata": {
  "kernelspec": {
   "display_name": "Python 3",
   "language": "python",
   "name": "python3"
  },
  "language_info": {
   "codemirror_mode": {
    "name": "ipython",
    "version": 3
   },
   "file_extension": ".py",
   "mimetype": "text/x-python",
   "name": "python",
   "nbconvert_exporter": "python",
   "pygments_lexer": "ipython3",
   "version": "3.6.5"
  }
 },
 "nbformat": 4,
 "nbformat_minor": 4
}
