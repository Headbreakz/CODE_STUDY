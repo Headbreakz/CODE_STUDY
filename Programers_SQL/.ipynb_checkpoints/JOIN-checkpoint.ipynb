{
 "cells": [
  {
   "cell_type": "markdown",
   "metadata": {},
   "source": [
    "## 없어진 기록 찾기"
   ]
  },
  {
   "cell_type": "code",
   "execution_count": null,
   "metadata": {},
   "outputs": [],
   "source": [
    "SELECT\n",
    "    O.ANIMAL_ID,O.NAME\n",
    "FROM\n",
    "    ANIMAL_OUTS O\n",
    "LEFT JOIN\n",
    "    ANIMAL_INS I\n",
    "ON \n",
    "    O.ANIMAL_ID = I.ANIMAL_ID\n",
    "WHERE \n",
    "    I.ANIMAL_ID IS NULL"
   ]
  },
  {
   "cell_type": "markdown",
   "metadata": {},
   "source": [
    "## 있었는데요 없었습니다"
   ]
  },
  {
   "cell_type": "code",
   "execution_count": null,
   "metadata": {},
   "outputs": [],
   "source": [
    "SELECT\n",
    "    I.ANIMAL_ID,I.NAME\n",
    "FROM\n",
    "    ANIMAL_INS I\n",
    "LEFT JOIN\n",
    "    ANIMAL_OUTS O\n",
    "ON\n",
    "    I.ANIMAL_ID = O.ANIMAL_ID\n",
    "WHERE\n",
    "    I.DATETIME > O.DATETIME\n",
    "ORDER BY\n",
    "    I.DATETIME"
   ]
  },
  {
   "cell_type": "markdown",
   "metadata": {},
   "source": [
    "## 오랜 기간 보호한 동물(1)"
   ]
  },
  {
   "cell_type": "code",
   "execution_count": null,
   "metadata": {},
   "outputs": [],
   "source": [
    "SELECT\n",
    "    I.NAME,I.DATETIME\n",
    "FROM\n",
    "    ANIMAL_INS I    \n",
    "LEFT JOIN\n",
    "    ANIMAL_OUTS O    \n",
    "ON \n",
    "    I.ANIMAL_ID = O.ANIMAL_ID\n",
    "WHERE\n",
    "    O.DATETIME IS NULL    \n",
    "ORDER BY\n",
    "    I.DATETIME\n",
    "LIMIT \n",
    "    3"
   ]
  }
 ],
 "metadata": {
  "kernelspec": {
   "display_name": "Python 3",
   "language": "python",
   "name": "python3"
  },
  "language_info": {
   "codemirror_mode": {
    "name": "ipython",
    "version": 3
   },
   "file_extension": ".py",
   "mimetype": "text/x-python",
   "name": "python",
   "nbconvert_exporter": "python",
   "pygments_lexer": "ipython3",
   "version": "3.6.5"
  }
 },
 "nbformat": 4,
 "nbformat_minor": 4
}
