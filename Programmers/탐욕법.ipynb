{
 "cells": [
  {
   "cell_type": "markdown",
   "metadata": {},
   "source": [
    "### 체육복"
   ]
  },
  {
   "cell_type": "code",
   "execution_count": null,
   "metadata": {},
   "outputs": [],
   "source": [
    "def solution(n, lost, reserve):\n",
    "    n_reserve = [j for j in reserve if j not in lost]\n",
    "    n_lost = [k for k in lost if k not in reserve]\n",
    "\n",
    "    print(n_reserve)\n",
    "    print(n_lost)\n",
    "    for i in n_reserve:\n",
    "        if (i-1) in n_lost:       \n",
    "            n_lost.remove(i-1)\n",
    "        elif i+1 in n_lost:        \n",
    "            n_lost.remove(i+1)\n",
    "\n",
    "    answer = n - len(n_lost)\n",
    "    \n",
    "    return answer"
   ]
  },
  {
   "cell_type": "markdown",
   "metadata": {},
   "source": [
    "### 조이스틱"
   ]
  },
  {
   "cell_type": "code",
   "execution_count": 74,
   "metadata": {},
   "outputs": [],
   "source": [
    "def solution(name):\n",
    "    \n",
    "    alphabet_list = ['A','B','C','D','E','F','G','H','I','J','K','L','M','N',\n",
    "                 'O','P','Q','R','S','T','U','V','W','X','Y','Z']\n",
    "\n",
    "\n",
    "    w_list = []\n",
    "\n",
    "    for i in range(len(name)):\n",
    "         w_list.append(min(alphabet_list.index(name[i]),len(alphabet_list)-alphabet_list.index(name[i])))\n",
    "\n",
    "    answer,where = 0 ,0    \n",
    "\n",
    "    while True:\n",
    "            answer += w_list[where]\n",
    "            w_list[where] = 0\n",
    "            if sum(w_list) == 0:\n",
    "                break\n",
    "            left, right = (1, 1)\n",
    "            while w_list[where - left] <= 0:\n",
    "                left += 1            \n",
    "            while w_list[where + right] <= 0:\n",
    "                right += 1\n",
    "            answer += left if left < right else right\n",
    "            where += -left if left < right else right\n",
    "\n",
    "    return answer\n",
    "\n"
   ]
  },
  {
   "cell_type": "markdown",
   "metadata": {},
   "source": [
    "## 구명보트"
   ]
  },
  {
   "cell_type": "code",
   "execution_count": null,
   "metadata": {},
   "outputs": [],
   "source": [
    "def solution(people, limit):\n",
    "    count = 0\n",
    "    people.sort()\n",
    "    b = 0\n",
    "    c = len(people)-1\n",
    "    while b < c:\n",
    "\n",
    "        if people[b]+people[c] <= limit:\n",
    "            c -=1\n",
    "            b +=1\n",
    "            count +=1\n",
    "\n",
    "        else:\n",
    "            c-=1\n",
    "    \n",
    "    return len(people)-count"
   ]
  },
  {
   "cell_type": "markdown",
   "metadata": {},
   "source": [
    "## 큰 수 만들기\n",
    "\n",
    "시간초과"
   ]
  },
  {
   "cell_type": "code",
   "execution_count": 66,
   "metadata": {},
   "outputs": [],
   "source": [
    "from itertools import combinations\n",
    "\n",
    "def solution(number, k):\n",
    "    \n",
    "    k = len(number)-k\n",
    "\n",
    "    number_list = list(combinations(number,k))\n",
    "\n",
    "    number_list.sort()    \n",
    "\n",
    "       \n",
    "    return ''.join(map(str,number_list[-1]))"
   ]
  }
 ],
 "metadata": {
  "kernelspec": {
   "display_name": "Python 3",
   "language": "python",
   "name": "python3"
  },
  "language_info": {
   "codemirror_mode": {
    "name": "ipython",
    "version": 3
   },
   "file_extension": ".py",
   "mimetype": "text/x-python",
   "name": "python",
   "nbconvert_exporter": "python",
   "pygments_lexer": "ipython3",
   "version": "3.8.3"
  }
 },
 "nbformat": 4,
 "nbformat_minor": 4
}
