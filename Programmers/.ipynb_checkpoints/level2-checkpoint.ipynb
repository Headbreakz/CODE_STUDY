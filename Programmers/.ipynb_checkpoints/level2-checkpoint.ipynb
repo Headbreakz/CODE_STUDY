{
 "cells": [
  {
   "cell_type": "markdown",
   "metadata": {},
   "source": [
    "## 프린터"
   ]
  },
  {
   "cell_type": "code",
   "execution_count": 66,
   "metadata": {},
   "outputs": [],
   "source": [
    "def solution(priorities, location):\n",
    "    num_location = [i for i in range(len(priorities))]\n",
    "    num_location_list =[]\n",
    "    num_list = []\n",
    "    while priorities:\n",
    "        a = priorities.pop(0)\n",
    "        b = num_location.pop(0) \n",
    "        count = 0    \n",
    "        for j in range(len(priorities)):\n",
    "            if a < priorities[j] :\n",
    "                priorities.append(a)\n",
    "                num_location.append(b)\n",
    "                break\n",
    "            else :\n",
    "                count += 1\n",
    "        if count == len(priorities):\n",
    "            num_list.append(a)\n",
    "            num_location_list.append(b)\n",
    "\n",
    "            \n",
    "            \n",
    "    \n",
    "    answer = num_location_list.index(location)+1\n",
    "    return answer"
   ]
  },
  {
   "cell_type": "markdown",
   "metadata": {},
   "source": [
    "## 124 나라의 숫자"
   ]
  },
  {
   "cell_type": "code",
   "execution_count": 84,
   "metadata": {},
   "outputs": [],
   "source": [
    "n = 4\n",
    "T = '412'\n",
    "q,r = divmod(n,3)"
   ]
  },
  {
   "cell_type": "code",
   "execution_count": 85,
   "metadata": {},
   "outputs": [
    {
     "name": "stdout",
     "output_type": "stream",
     "text": [
      "1\n",
      "1\n"
     ]
    }
   ],
   "source": [
    "def div_num(n):\n",
    "    num = '412'\n",
    "    answer_num = ''\n",
    "    a = n//3\n",
    "    b = n%/3\n",
    "    "
   ]
  }
 ],
 "metadata": {
  "kernelspec": {
   "display_name": "Python 3",
   "language": "python",
   "name": "python3"
  },
  "language_info": {
   "codemirror_mode": {
    "name": "ipython",
    "version": 3
   },
   "file_extension": ".py",
   "mimetype": "text/x-python",
   "name": "python",
   "nbconvert_exporter": "python",
   "pygments_lexer": "ipython3",
   "version": "3.8.3"
  }
 },
 "nbformat": 4,
 "nbformat_minor": 4
}
