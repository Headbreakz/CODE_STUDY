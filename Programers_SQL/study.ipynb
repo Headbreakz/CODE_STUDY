{
 "cells": [
  {
   "cell_type": "code",
   "execution_count": null,
   "metadata": {},
   "outputs": [],
   "source": [
    "SELECT FA.NAME AS NAME , FA.GRADE AS GRADE , FA.RATE AS RATE\n",
    "\t\t\t, CASE \n",
    "\t\t\t\t\tWHEN FA.GRADE IN ('F', 'E', 'D') THEN 'O' ELSE '' END AS TARGET\n",
    "FROM\n",
    "\t(SELECT NAME\n",
    "\t\t\t, CASE  \n",
    "\t\t\t\t\tWHEN ROUND((D_QTY/P_QTY)*100,3)>=5.0 THEN 'F'\n",
    "\t\t\t\t\tWHEN ROUND((D_QTY/P_QTY)*100,3)>=3.0 THEN 'E'\n",
    "\t\t\t\t\tWHEN ROUND((D_QTY/P_QTY)*100,3)>=1.0 THEN 'D'\n",
    "\t\t\t\t\tWHEN ROUND((D_QTY/P_QTY)*100,3)>=0.5 THEN 'C'\n",
    "\t\t\t\t\tWHEN ROUND((D_QTY/P_QTY)*100,3)>=0.1 THEN 'B'\n",
    "\t\t\t\t\tELSE 'A'\n",
    "\t\t\t\t\tEND AS GRADE\n",
    "\t\t\t\t, ROUND((D_QTY/P_QTY)*100,3) AS RATE\n",
    "\tFROM FACTORIES\n",
    "\tORDER BY GRADE, RATE, NAME limit 10000) FA\n",
    "ORDER BY CASE TARGET WHEN 'O' THEN RATE END DESC\n",
    "       , CASE TARGET WHEN '' THEN GRADE END"
   ]
  }
 ],
 "metadata": {
  "kernelspec": {
   "display_name": "Python 3",
   "language": "python",
   "name": "python3"
  },
  "language_info": {
   "codemirror_mode": {
    "name": "ipython",
    "version": 3
   },
   "file_extension": ".py",
   "mimetype": "text/x-python",
   "name": "python",
   "nbconvert_exporter": "python",
   "pygments_lexer": "ipython3",
   "version": "3.6.5"
  }
 },
 "nbformat": 4,
 "nbformat_minor": 4
}
