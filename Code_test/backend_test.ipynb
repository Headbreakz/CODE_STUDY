{
 "cells": [
  {
   "cell_type": "markdown",
   "metadata": {},
   "source": [
    "## 2"
   ]
  },
  {
   "cell_type": "code",
   "execution_count": 114,
   "metadata": {},
   "outputs": [],
   "source": [
    "def solution(p,n):\n",
    "    a,b = p.split(\" \")\n",
    "    h,m,s = map(int,b.split(':'))\n",
    "    time = 0\n",
    "    if a == 'PM' :\n",
    "        if h < 12: \n",
    "            time = ((h+12)*3600)+(m*60)+(s+n)\n",
    "        else :\n",
    "            time = ((h)*3600)+(m*60)+(s+n)\n",
    "    else :\n",
    "        if h < 12 :\n",
    "            time = (h*3600)+(m*60)+(s+n)\n",
    "        else :\n",
    "            h = h-12\n",
    "            time = (h*3600)+(m*60)+(s+n)\n",
    "        \n",
    "    \n",
    "    total_hour,total_min,total_sec = time//3600,(time%3600)//60,(time%3600)%60 \n",
    "    \n",
    "    while total_hour >=24 :\n",
    "        total_hour = total_hour - 24\n",
    "    \n",
    "        \n",
    "    answer = str(total_hour).zfill(2)+':'+str(total_min).zfill(2)+\":\"+str(total_sec).zfill(2)       \n",
    "\n",
    "   \n",
    "    return answer"
   ]
  },
  {
   "cell_type": "markdown",
   "metadata": {},
   "source": [
    "## 4"
   ]
  },
  {
   "cell_type": "code",
   "execution_count": 230,
   "metadata": {},
   "outputs": [],
   "source": [
    "def solution(votes, k):\n",
    "    votes.sort()\n",
    "    a = {}\n",
    "\n",
    "    for i in votes :\n",
    "        if a.get(i) == None :\n",
    "            a[i] =1\n",
    "        else:\n",
    "            a[i]+=1\n",
    "    b = sorted(a.items(), key=lambda x:x[1],reverse=True)\n",
    "    \n",
    "    top_num = 0\n",
    "    for i in range(k):\n",
    "        top_num += b[i][1]\n",
    "        \n",
    "    bot_num = 0\n",
    "    answer = ''\n",
    "\n",
    "    while bot_num >=0 :\n",
    "        # print(answer)\n",
    "        bot_num += b[-1][1]\n",
    "        if top_num > bot_num :\n",
    "            answer = b[-1][0]\n",
    "        else :\n",
    "            break\n",
    "        b.pop()  \n",
    "    \n",
    "    \n",
    "    \n",
    "    return answer"
   ]
  },
  {
   "cell_type": "markdown",
   "metadata": {},
   "source": [
    "## 3"
   ]
  },
  {
   "cell_type": "code",
   "execution_count": null,
   "metadata": {},
   "outputs": [],
   "source": [
    "from itertools import combinations\n",
    "\n",
    "def solution(n, groups):\n",
    "    answer = 5001\n",
    "    len_group = len(groups)\n",
    "    if len_group > 10 :\n",
    "        len_group = 10\n",
    "    for i in range(1,len_group):\n",
    "        list_ = list(combinations(groups,i))\n",
    "        for j in list_:\n",
    "            check_list = [0 for _ in range(n+1)]\n",
    "    #         print(j)\n",
    "            for z in range(len(j)):\n",
    "                a,b = j[z][0],j[z][1]\n",
    "                for c in range(a,b+1):\n",
    "                    if check_list[c] == 0 :\n",
    "                        check_list[c] = 1\n",
    "            answer_ = check_list.count(0)+i\n",
    "            answer = min(answer,answer_)         \n",
    "    \n",
    "    return answer-1"
   ]
  },
  {
   "cell_type": "code",
   "execution_count": 312,
   "metadata": {},
   "outputs": [],
   "source": [
    "from itertools import combinations\n",
    "n = 7\n",
    "groups = [[6, 7],[1, 4],[2, 4]]\n"
   ]
  },
  {
   "cell_type": "code",
   "execution_count": 305,
   "metadata": {},
   "outputs": [],
   "source": [
    "matrix = [[0]*(n+1) for _ in range(len(groups))]"
   ]
  },
  {
   "cell_type": "code",
   "execution_count": 306,
   "metadata": {},
   "outputs": [
    {
     "data": {
      "text/plain": [
       "[[0, 0, 0, 0, 0, 0, 0, 0], [0, 0, 0, 0, 0, 0, 0, 0], [0, 0, 0, 0, 0, 0, 0, 0]]"
      ]
     },
     "execution_count": 306,
     "metadata": {},
     "output_type": "execute_result"
    }
   ],
   "source": [
    "matrix"
   ]
  },
  {
   "cell_type": "code",
   "execution_count": 307,
   "metadata": {},
   "outputs": [],
   "source": [
    "for i in range(len(groups)) :\n",
    "    a,b = groups[i][0],groups[i][1]\n",
    "#     print(a)    \n",
    "    for j in range(a,b+1):\n",
    "        if matrix[i][j] == 0 :\n",
    "            matrix[i][j] = 1\n",
    "            "
   ]
  },
  {
   "cell_type": "code",
   "execution_count": 308,
   "metadata": {
    "scrolled": false
   },
   "outputs": [
    {
     "data": {
      "text/plain": [
       "[[0, 0, 0, 0, 0, 0, 1, 1], [0, 1, 1, 1, 1, 0, 0, 0], [0, 0, 1, 1, 1, 0, 0, 0]]"
      ]
     },
     "execution_count": 308,
     "metadata": {},
     "output_type": "execute_result"
    }
   ],
   "source": [
    "matrix"
   ]
  },
  {
   "cell_type": "code",
   "execution_count": 288,
   "metadata": {},
   "outputs": [
    {
     "data": {
      "text/plain": [
       "4"
      ]
     },
     "execution_count": 288,
     "metadata": {},
     "output_type": "execute_result"
    }
   ],
   "source": [
    "len(matrix)"
   ]
  },
  {
   "cell_type": "code",
   "execution_count": 309,
   "metadata": {},
   "outputs": [],
   "source": [
    "answer = [0 for _ in range(n)]"
   ]
  },
  {
   "cell_type": "code",
   "execution_count": 284,
   "metadata": {},
   "outputs": [
    {
     "data": {
      "text/plain": [
       "[0, 0, 0, 0, 0, 0, 0, 0, 0, 0]"
      ]
     },
     "execution_count": 284,
     "metadata": {},
     "output_type": "execute_result"
    }
   ],
   "source": [
    "answer"
   ]
  },
  {
   "cell_type": "code",
   "execution_count": 310,
   "metadata": {},
   "outputs": [],
   "source": [
    "for i in range(len(answer)) :\n",
    "    for j in range(len(matrix)):\n",
    "        answer[i] += matrix[j][i]"
   ]
  },
  {
   "cell_type": "code",
   "execution_count": 313,
   "metadata": {},
   "outputs": [
    {
     "data": {
      "text/plain": [
       "0"
      ]
     },
     "execution_count": 313,
     "metadata": {},
     "output_type": "execute_result"
    }
   ],
   "source": [
    "min(answer)"
   ]
  }
 ],
 "metadata": {
  "kernelspec": {
   "display_name": "Python 3",
   "language": "python",
   "name": "python3"
  },
  "language_info": {
   "codemirror_mode": {
    "name": "ipython",
    "version": 3
   },
   "file_extension": ".py",
   "mimetype": "text/x-python",
   "name": "python",
   "nbconvert_exporter": "python",
   "pygments_lexer": "ipython3",
   "version": "3.8.3"
  }
 },
 "nbformat": 4,
 "nbformat_minor": 4
}
