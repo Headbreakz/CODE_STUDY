{
 "cells": [
  {
   "cell_type": "markdown",
   "metadata": {},
   "source": [
    "## 2019 멀쩡한 사각형"
   ]
  },
  {
   "cell_type": "code",
   "execution_count": null,
   "metadata": {},
   "outputs": [],
   "source": [
    "import math\n",
    "def solution(w,h):\n",
    "    if w > h :\n",
    "        a = w\n",
    "    else :\n",
    "        a = h \n",
    "    for i in range(1,a+1):\n",
    "        if w%i == 0 and h%i == 0:\n",
    "            max_num = i\n",
    "\n",
    "    answer = (w*h)-(w+h-max_num)\n",
    "    \n",
    "    return answer"
   ]
  },
  {
   "cell_type": "markdown",
   "metadata": {},
   "source": [
    "## 2019 지형 이동"
   ]
  },
  {
   "cell_type": "code",
   "execution_count": 1,
   "metadata": {},
   "outputs": [],
   "source": [
    "land = [[10, 11, 10, 11], [2, 21, 20, 10], [1, 20, 21, 11], [2, 1, 2, 1]]\n",
    "\n",
    "height = 3\n",
    "land_len = len(land)\n",
    "\n",
    "matrix = [[0] *(land_len ) for _ in range(land_len)]\n"
   ]
  },
  {
   "cell_type": "code",
   "execution_count": null,
   "metadata": {},
   "outputs": [],
   "source": [
    "len(land)"
   ]
  },
  {
   "cell_type": "code",
   "execution_count": 26,
   "metadata": {
    "scrolled": true
   },
   "outputs": [],
   "source": [
    "from collections import defaultdict\n",
    "def solution(land, height):\n",
    "    land_len = len(land)\n",
    "    matrix = [[0] *(land_len ) for _ in range(land_len)]\n",
    "    matrix[0][0] = 1\n",
    "    \n",
    "    dx =[0,0,-1,1]\n",
    "    dy =[-1,1,0,0]\n",
    "    start = [(0,0)]\n",
    "    num = 1\n",
    "    \n",
    "    a_answer = map(start,matrix,num,land,height)\n",
    "    \n",
    "#     answer = [10001 for _ in range(max(max(a_answer))+1)]\n",
    "#     for x in range(len(a_answer)):\n",
    "#         for y in range(len(a_answer)):         \n",
    "#             for i in range(4):\n",
    "#                 nx = x +dx[i]\n",
    "#                 ny = y +dy[i]\n",
    "#                 if 0<= nx < land_len and 0 <= ny < land_len:\n",
    "#                     if a_answer[nx][ny]  > a_answer[x][y]   :                       \n",
    "#                         answer[a_answer[nx][ny]] = min(answer[a_answer[nx][ny]],abs(land[nx][ny]-land[x][y]))\n",
    "\n",
    "    \n",
    "#     answer.pop(0)\n",
    "#     answer.pop(0)\n",
    "    \n",
    "    \n",
    "    return answer\n",
    "\n",
    "\n",
    "\n",
    "def map(start,matrix,num,land,height):\n",
    "    dx =[0,0,-1,1]\n",
    "    dy =[-1,1,0,0]\n",
    "    land_len = len(land)\n",
    "    while start:\n",
    "        x,y = start.pop(0) \n",
    "        for i in range(4):\n",
    "            nx = x +dx[i]\n",
    "            ny = y +dy[i]\n",
    "            if 0<= nx < land_len and 0 <= ny < land_len:\n",
    "                if abs(land[nx][ny] - land[x][y]) <= height and matrix[nx][ny] == 0 :\n",
    "                    matrix[nx][ny] = matrix[x][y]\n",
    "                    start.append((nx,ny))\n",
    "                \n",
    "    \n",
    "    for i in range(len(matrix)):\n",
    "        for j in range(len(matrix)):\n",
    "            if matrix[i][j] == 0:                \n",
    "                start.append((i,j))\n",
    "                num += 1\n",
    "                matrix[i][j] = num\n",
    "                map(start,matrix,num,land,height)\n",
    "    return matrix\n",
    "\n"
   ]
  }
 ],
 "metadata": {
  "kernelspec": {
   "display_name": "Python 3",
   "language": "python",
   "name": "python3"
  },
  "language_info": {
   "codemirror_mode": {
    "name": "ipython",
    "version": 3
   },
   "file_extension": ".py",
   "mimetype": "text/x-python",
   "name": "python",
   "nbconvert_exporter": "python",
   "pygments_lexer": "ipython3",
   "version": "3.8.3"
  }
 },
 "nbformat": 4,
 "nbformat_minor": 4
}
