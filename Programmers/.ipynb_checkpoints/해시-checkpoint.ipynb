{
 "cells": [
  {
   "cell_type": "markdown",
   "metadata": {},
   "source": [
    "#### 해시\n",
    "\n",
    "* key-value 쌍으로 데이터를 저장하는 자료구조"
   ]
  },
  {
   "cell_type": "markdown",
   "metadata": {},
   "source": [
    "### 완주하지 못한 선수"
   ]
  },
  {
   "cell_type": "code",
   "execution_count": 1,
   "metadata": {},
   "outputs": [],
   "source": [
    "def solution(participant, completion): \n",
    "    a ={}\n",
    "    \n",
    "    for i in participant:\n",
    "        if a.get(i) == None:\n",
    "            a[i] = 1\n",
    "        else :\n",
    "            a[i] += 1\n",
    "    for j in completion:\n",
    "        if a.get(j) != None :\n",
    "            a[j] -= 1\n",
    "            if a[j] == 0:\n",
    "                del a[j]\n",
    "                \n",
    "    return list(a.keys())[0]"
   ]
  },
  {
   "cell_type": "code",
   "execution_count": null,
   "metadata": {},
   "outputs": [],
   "source": [
    "#best 풀이\n",
    "\n",
    "import collections\n",
    "\n",
    "def solution(participant, completion):\n",
    "    answer = collections.Counter(participant) - collections.Counter(completion)\n",
    "    return list(answer.keys())[0]"
   ]
  },
  {
   "cell_type": "markdown",
   "metadata": {},
   "source": [
    "### 전화번호 목록"
   ]
  },
  {
   "cell_type": "code",
   "execution_count": 3,
   "metadata": {
    "scrolled": true
   },
   "outputs": [],
   "source": [
    "def solution(phone_book):\n",
    "    \n",
    "    phone_book.sort()\n",
    "    \n",
    "    for i in range(len(phone_book) -1) :\n",
    "        if phone_book[i] in phone_book[i+1]:\n",
    "            return False\n",
    "        \n",
    "    return True"
   ]
  },
  {
   "cell_type": "code",
   "execution_count": null,
   "metadata": {},
   "outputs": [],
   "source": [
    "#best 풀이\n",
    "def solution(phoneBook):\n",
    "    phoneBook = sorted(phoneBook)\n",
    "\n",
    "    for p1, p2 in zip(phoneBook, phoneBook[1:]):\n",
    "        if p2.startswith(p1):\n",
    "            return False\n",
    "    return True"
   ]
  },
  {
   "cell_type": "markdown",
   "metadata": {},
   "source": [
    "### 위장"
   ]
  },
  {
   "cell_type": "code",
   "execution_count": 39,
   "metadata": {},
   "outputs": [],
   "source": [
    "def solution(clothes):\n",
    "    a={}\n",
    "    for i in range(len(clothes)) :\n",
    "        if a.get(clothes[i][1]) == None:\n",
    "            a[clothes[i][1]] = 1\n",
    "        else :\n",
    "            a[clothes[i][1]] +=1\n",
    "\n",
    "    clothes_count = list(a.values())\n",
    "\n",
    "    if len(clothes) == clothes_count[0]:\n",
    "        result = len(clothes)+1\n",
    "    else :\n",
    "        result = 1\n",
    "        for j in range(len(clothes_count)):\n",
    "            result = result*(clothes_count[j]+1)\n",
    "            \n",
    "    return result-1"
   ]
  },
  {
   "cell_type": "code",
   "execution_count": 33,
   "metadata": {},
   "outputs": [
    {
     "data": {
      "text/plain": [
       "[2, 1]"
      ]
     },
     "execution_count": 33,
     "metadata": {},
     "output_type": "execute_result"
    }
   ],
   "source": [
    "#best\n",
    "def solution(clothes):\n",
    "    from collections import Counter\n",
    "    from functools import reduce\n",
    "    cnt = Counter([kind for name, kind in clothes])\n",
    "    answer = reduce(lambda x, y: x*(y+1), cnt.values(), 1) - 1\n",
    "    return answer"
   ]
  }
 ],
 "metadata": {
  "kernelspec": {
   "display_name": "Python 3",
   "language": "python",
   "name": "python3"
  },
  "language_info": {
   "codemirror_mode": {
    "name": "ipython",
    "version": 3
   },
   "file_extension": ".py",
   "mimetype": "text/x-python",
   "name": "python",
   "nbconvert_exporter": "python",
   "pygments_lexer": "ipython3",
   "version": "3.8.3"
  }
 },
 "nbformat": 4,
 "nbformat_minor": 4
}
