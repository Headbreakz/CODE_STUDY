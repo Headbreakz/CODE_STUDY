{
 "cells": [
  {
   "cell_type": "markdown",
   "metadata": {},
   "source": [
    "### 모의고사"
   ]
  },
  {
   "cell_type": "code",
   "execution_count": 24,
   "metadata": {},
   "outputs": [],
   "source": [
    "def solution(answers):\n",
    "    student_1 = [1,2,3,4,5]\n",
    "    student_2 = [2,1,2,3,2,4,2,5]\n",
    "    student_3 = [3,3,1,1,2,2,4,4,5,5]    \n",
    "\n",
    "    answer=[0,0,0]\n",
    "    top=[]\n",
    "\n",
    "    for i in range(len(answers)):\n",
    "        if answers[i] == student_1[i%5]: answer[0]+=1\n",
    "        if answers[i] == student_2[i%8]: answer[1]+=1\n",
    "        if answers[i] == student_3[i%10]: answer[2]+=1\n",
    "\n",
    "    for j,k in enumerate(answer):\n",
    "        if k == max(answer):\n",
    "            top.append(j+1)    \n",
    "    \n",
    "    \n",
    "    return top"
   ]
  },
  {
   "cell_type": "markdown",
   "metadata": {},
   "source": [
    "### 소수찾기"
   ]
  },
  {
   "cell_type": "code",
   "execution_count": 109,
   "metadata": {},
   "outputs": [
    {
     "name": "stdout",
     "output_type": "stream",
     "text": [
      "[101, 11]\n"
     ]
    }
   ],
   "source": [
    "from itertools import permutations\n",
    "import math\n",
    "\n",
    "\n",
    "def solution(numbers):\n",
    "    list_numbers = list(numbers)\n",
    "    list_numbers_totol = list(map(int,numbers))\n",
    "    \n",
    "    answer = []\n",
    "    \n",
    "    for i in range(2,len(list_numbers)+1):\n",
    "        num_list = list(permutations(list_numbers,i))\n",
    "        for j in num_list :\n",
    "            list_numbers_totol.append(int(''.join(j)))\n",
    "    list_numbers_totol =list(set(list_numbers_totol))\n",
    "\n",
    "    #프로그래머스 yoon han님 코드\n",
    "    for i in list_numbers_totol:\n",
    "        count = 0\n",
    "        sqrt = int(math.sqrt(i))\n",
    "        if i != 0 and i != 1 :\n",
    "            for j in range(2, sqrt + 1):\n",
    "                if i % j == 0 :\n",
    "                    count += 1\n",
    "            if count == 0:\n",
    "                answer.append(i)   \n",
    "                \n",
    "        \n",
    "    return len(answer)"
   ]
  },
  {
   "cell_type": "markdown",
   "metadata": {},
   "source": [
    "주어진 숫자의 제곱근 이하까지만 나누어 보아도 소수인지 판별이 가능하다."
   ]
  },
  {
   "cell_type": "markdown",
   "metadata": {},
   "source": [
    "### 카펫"
   ]
  },
  {
   "cell_type": "code",
   "execution_count": 159,
   "metadata": {},
   "outputs": [],
   "source": [
    "import math\n",
    "def solution(brown, yellow):\n",
    "    total= brown+yellow    \n",
    "\n",
    "    answer_list=[]\n",
    "    \n",
    "\n",
    "    for i in range(1,brown):\n",
    "        for j in range(1,brown):\n",
    "            if i * j == total and i >= j:\n",
    "                answer_list.append([i,j])\n",
    "\n",
    "    for i in answer_list:\n",
    "        if (i[0]*2)+(i[1]*2)-4 == brown:\n",
    "            return i"
   ]
  }
 ],
 "metadata": {
  "kernelspec": {
   "display_name": "Python 3",
   "language": "python",
   "name": "python3"
  },
  "language_info": {
   "codemirror_mode": {
    "name": "ipython",
    "version": 3
   },
   "file_extension": ".py",
   "mimetype": "text/x-python",
   "name": "python",
   "nbconvert_exporter": "python",
   "pygments_lexer": "ipython3",
   "version": "3.8.3"
  }
 },
 "nbformat": 4,
 "nbformat_minor": 4
}
