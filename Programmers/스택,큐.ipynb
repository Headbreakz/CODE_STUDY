{
 "cells": [
  {
   "cell_type": "markdown",
   "metadata": {},
   "source": [
    "### 주식가격"
   ]
  },
  {
   "cell_type": "code",
   "execution_count": null,
   "metadata": {},
   "outputs": [],
   "source": [
    "def solution(prices):\n",
    "    a =[]\n",
    "    # b = 0\n",
    "    for i in range(len(prices)):\n",
    "        b = 0\n",
    "        for j in range(i+1,len(prices)):\n",
    "            if prices[i] <= prices[j]:\n",
    "                b += 1\n",
    "            elif prices[i] > prices[j]:\n",
    "                b += 1\n",
    "                break\n",
    "            # else :\n",
    "            #     b += 0\n",
    "        a.append(b)\n",
    "        # b = 0\n",
    "      \n",
    "    return a"
   ]
  },
  {
   "cell_type": "code",
   "execution_count": null,
   "metadata": {},
   "outputs": [],
   "source": [
    "#best\n",
    "def solution(prices):\n",
    "    answer = [0] * len(prices)\n",
    "    for i in range(len(prices)):\n",
    "        for j in range(i+1, len(prices)):\n",
    "            if prices[i] <= prices[j]:\n",
    "                answer[i] += 1\n",
    "            else:\n",
    "                answer[i] += 1\n",
    "                break\n",
    "    return answer"
   ]
  },
  {
   "cell_type": "markdown",
   "metadata": {},
   "source": [
    "### 기능개발"
   ]
  },
  {
   "cell_type": "code",
   "execution_count": 1,
   "metadata": {},
   "outputs": [],
   "source": [
    "def solution(progresses, speeds):\n",
    "    day = []\n",
    "    answer=[]\n",
    "    a = 0\n",
    "\n",
    "    for i,j in zip(progresses,speeds):\n",
    "        if (100-i)%j != 0:\n",
    "            day.append(((100-i)//j)+1)            \n",
    "        else :\n",
    "            day.append((100-i)//j)\n",
    "\n",
    "    print(day)\n",
    "\n",
    "    for z in range(len(day)):\n",
    "        if day[a] < day[z]:\n",
    "            answer.append(z-a)\n",
    "            a = z\n",
    "    answer.append(len(day)-a)\n",
    "\n",
    "    print(answer)\n",
    "\n",
    "    return answer"
   ]
  },
  {
   "cell_type": "markdown",
   "metadata": {},
   "source": [
    "### 다리를 지나는 트럭"
   ]
  },
  {
   "cell_type": "code",
   "execution_count": 47,
   "metadata": {
    "collapsed": true
   },
   "outputs": [
    {
     "name": "stdout",
     "output_type": "stream",
     "text": [
      "------------\n",
      "aa\n",
      "2\n",
      "[2]\n",
      "1\n",
      "4\n",
      "------------\n",
      "------------\n",
      "aa\n",
      "2\n",
      "[2, 2]\n",
      "2\n",
      "3\n",
      "------------\n",
      "------------\n",
      "2\n",
      "[2, 2]\n",
      "5\n",
      "2\n",
      "------------\n",
      "------------\n",
      "2\n",
      "[2, 2]\n",
      "7\n",
      "1\n",
      "------------\n",
      "------------\n",
      "aa\n",
      "1\n",
      "[2, 1]\n",
      "8\n",
      "5\n",
      "------------\n",
      "------------\n",
      "aa\n",
      "1\n",
      "[2, 1, 1]\n",
      "9\n",
      "4\n",
      "------------\n",
      "------------\n",
      "aa\n",
      "1\n",
      "[2, 1, 1, 1]\n",
      "10\n",
      "3\n",
      "------------\n",
      "------------\n",
      "1\n",
      "[1, 1, 1, 1]\n",
      "13\n",
      "2\n",
      "------------\n",
      "------------\n",
      "aa\n",
      "1\n",
      "[1, 1, 1, 1, 1]\n",
      "14\n",
      "1\n",
      "------------\n",
      "19\n"
     ]
    }
   ],
   "source": [
    "def solution(bridge_length, weight, truck_weights):\n",
    "    a = []\n",
    "    time = 0\n",
    "    p_time = bridge_length\n",
    "    for i in truck_weights:\n",
    "        a.append(i)\n",
    "        if i <= weight and sum(a) <= weight :\n",
    "            time += 1\n",
    "            p_time -= 1\n",
    "            if p_time == 0 :\n",
    "                a.pop(0)\n",
    "                p_time = bridge_length\n",
    "            \n",
    "\n",
    "        else :              \n",
    "            time += p_time\n",
    "            p_time -= 1\n",
    "            a.pop(0)            \n",
    "            \n",
    "            \n",
    "            \n",
    "    answer = time+bridge_length\n",
    "    return answer"
   ]
  }
 ],
 "metadata": {
  "kernelspec": {
   "display_name": "Python 3",
   "language": "python",
   "name": "python3"
  },
  "language_info": {
   "codemirror_mode": {
    "name": "ipython",
    "version": 3
   },
   "file_extension": ".py",
   "mimetype": "text/x-python",
   "name": "python",
   "nbconvert_exporter": "python",
   "pygments_lexer": "ipython3",
   "version": "3.8.3"
  }
 },
 "nbformat": 4,
 "nbformat_minor": 4
}
