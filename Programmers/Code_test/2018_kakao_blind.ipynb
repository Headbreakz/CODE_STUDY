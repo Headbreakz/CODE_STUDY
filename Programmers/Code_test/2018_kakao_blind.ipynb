{
 "cells": [
  {
   "cell_type": "markdown",
   "metadata": {},
   "source": [
    "## 추석트래픽"
   ]
  },
  {
   "cell_type": "code",
   "execution_count": 6,
   "metadata": {},
   "outputs": [],
   "source": [
    "def solution(lines):\n",
    "    z = []\n",
    "    for line in lines:\n",
    "        a, b, c = line.split()\n",
    "        h, m, s = b.split(':')\n",
    "        end = (int(h)*60*60 + int(m)*60 + float(s))*1000\n",
    "        z.append((end-float(time[:-1])*1000+1, end))\n",
    "\n",
    "    length = len(z)\n",
    "    max_num = 1\n",
    "    print(z)\n",
    "    for i in range(length-1):\n",
    "        count = 1\n",
    "        for j in range(i+1, length):\n",
    "            if z[j][1] - z[i][1] >= 4000:\n",
    "                break\n",
    "            if z[j][0] - z[i][1] < 1000:\n",
    "                count += 1\n",
    "        max_num = max(max_num, count)\n",
    "    \n",
    "    return max"
   ]
  },
  {
   "cell_type": "markdown",
   "metadata": {},
   "source": [
    "## 뉴스 클러스터링"
   ]
  },
  {
   "cell_type": "code",
   "execution_count": 60,
   "metadata": {},
   "outputs": [],
   "source": [
    "def solution(str1, str2):\n",
    "    a = str1.lower()\n",
    "    b = str2.lower()\n",
    "    a_list = []\n",
    "    b_list = []\n",
    "\n",
    "    for i in range(len(a)-1):\n",
    "        txt = a[i]+a[i+1]\n",
    "        if txt.isalpha() == True :\n",
    "            a_list.append(txt)\n",
    "\n",
    "    for i in range(len(b)-1):\n",
    "        txt = b[i]+b[i+1]\n",
    "        if txt.isalpha() == True :\n",
    "            b_list.append(txt)\n",
    "    \n",
    "    ry_list = []\n",
    "    gkq_list = a_list+b_list\n",
    "    for i in a_list:\n",
    "        for j in b_list :\n",
    "            if i == j and i not in ry_list and a_list.count(i) <= b_list.count(i) :\n",
    "                for _ in range(a_list.count(i)):\n",
    "                    ry_list.append(i)\n",
    "            elif i == j and i not in ry_list and a_list.count(i) >= b_list.count(i) :\n",
    "                for _ in range(b_list.count(i)):\n",
    "                    ry_list.append(i)\n",
    "                       \n",
    "    if  len(gkq_list)-len(ry_list) == 0 :\n",
    "        answer = 65536\n",
    "        \n",
    "    else:\n",
    "        answer = int((len(ry_list)/(len(gkq_list)-len(ry_list)))*65536)        \n",
    "    \n",
    "    return answer"
   ]
  },
  {
   "cell_type": "markdown",
   "metadata": {},
   "source": [
    "## 프렌지 4블록"
   ]
  },
  {
   "cell_type": "code",
   "execution_count": 80,
   "metadata": {},
   "outputs": [],
   "source": [
    "def pop_num(b, m, n):\n",
    "    pop_set = set()    \n",
    "    for i in range(1, n):\n",
    "        for j in range(1, m):\n",
    "            if b[i][j] == b[i-1][j-1] == b[i-1][j] == b[i][j-1] != '_':\n",
    "                pop_set |= set([(i, j), (i-1, j-1), (i-1, j), (i, j-1)])\n",
    "    # set_board\n",
    "    for i, j in pop_set:\n",
    "        b[i][j] = 0        \n",
    "    for i, row in enumerate(b):\n",
    "        empty = ['_'] * row.count(0)\n",
    "        b[i] = empty + [block for block in row if block != 0]\n",
    "    return len(pop_set)\n",
    "     \n",
    "def solution(m, n, board):\n",
    "    count = 0\n",
    "    b = list(map(list,zip(*board)))\n",
    "    while True:\n",
    "        pop = pop_num(b, m, n)\n",
    "        if pop == 0: \n",
    "            return count\n",
    "        count += pop"
   ]
  }
 ],
 "metadata": {
  "kernelspec": {
   "display_name": "Python 3",
   "language": "python",
   "name": "python3"
  },
  "language_info": {
   "codemirror_mode": {
    "name": "ipython",
    "version": 3
   },
   "file_extension": ".py",
   "mimetype": "text/x-python",
   "name": "python",
   "nbconvert_exporter": "python",
   "pygments_lexer": "ipython3",
   "version": "3.8.3"
  }
 },
 "nbformat": 4,
 "nbformat_minor": 4
}
