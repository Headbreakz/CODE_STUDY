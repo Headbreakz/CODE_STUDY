{
 "cells": [
  {
   "cell_type": "markdown",
   "metadata": {},
   "source": [
    "## 프린터"
   ]
  },
  {
   "cell_type": "code",
   "execution_count": null,
   "metadata": {},
   "outputs": [],
   "source": [
    "def solution(priorities, location):\n",
    "    num_location = [i for i in range(len(priorities))]\n",
    "    num_location_list =[]\n",
    "    num_list = []\n",
    "    while priorities:\n",
    "        a = priorities.pop(0)\n",
    "        b = num_location.pop(0) \n",
    "        count = 0    \n",
    "        for j in range(len(priorities)):\n",
    "            if a < priorities[j] :\n",
    "                priorities.append(a)\n",
    "                num_location.append(b)\n",
    "                break\n",
    "            else :\n",
    "                count += 1\n",
    "        if count == len(priorities):\n",
    "            num_list.append(a)\n",
    "            num_location_list.append(b)\n",
    "\n",
    "            \n",
    "            \n",
    "    \n",
    "    answer = num_location_list.index(location)+1\n",
    "    return answer"
   ]
  },
  {
   "cell_type": "markdown",
   "metadata": {},
   "source": [
    "## 124 나라의 숫자"
   ]
  },
  {
   "cell_type": "code",
   "execution_count": null,
   "metadata": {},
   "outputs": [],
   "source": [
    "def solution(n):\n",
    "    answer = ''\n",
    "    while n > 0:\n",
    "        n -= 1\n",
    "        answer = '124'[n%3] + answer\n",
    "        n //= 3\n",
    "    return answer\n"
   ]
  },
  {
   "cell_type": "markdown",
   "metadata": {},
   "source": [
    "## 스킬트리"
   ]
  },
  {
   "cell_type": "code",
   "execution_count": null,
   "metadata": {},
   "outputs": [],
   "source": [
    "def solution(skill, skill_trees):\n",
    "    answer = 0\n",
    "    skill_list = list(skill)\n",
    "    for i in skill_trees:\n",
    "        a = list(i)\n",
    "        txt_list = []\n",
    "        for j in range(len(a)):\n",
    "            if a[j] in skill_list :\n",
    "                txt_list.append(a[j])\n",
    "        txt_list = ''.join(txt_list)        \n",
    "        if  txt_list[:len(txt_list)] == skill[:len(txt_list)]:\n",
    "            answer += 1\n",
    "    \n",
    "    return answer"
   ]
  },
  {
   "cell_type": "markdown",
   "metadata": {},
   "source": [
    "## 올바른 괄호"
   ]
  },
  {
   "cell_type": "code",
   "execution_count": null,
   "metadata": {},
   "outputs": [],
   "source": [
    "def solution(s):\n",
    "    s = list(s)\n",
    "    count = 0\n",
    "    answer = False\n",
    "\n",
    "    for i in  range(len(s)):\n",
    "        if  s[i] == '(':\n",
    "            count += 1\n",
    "        else :\n",
    "            count -= 1\n",
    "            if count < 0 :\n",
    "                break\n",
    "    if count == 0 :\n",
    "        answer = True\n",
    "    else :\n",
    "        answer = False\n",
    "    \n",
    "    return answer"
   ]
  },
  {
   "cell_type": "markdown",
   "metadata": {},
   "source": [
    "## 다음 큰 숫자"
   ]
  },
  {
   "cell_type": "code",
   "execution_count": null,
   "metadata": {},
   "outputs": [],
   "source": [
    "def solution(n):\n",
    "    answer = 0\n",
    "    num = one_count(n)\n",
    "    a = n\n",
    "    while answer == 0 :\n",
    "        a += 1        \n",
    "        num2 = one_count(a)\n",
    "\n",
    "        if num == num2 :\n",
    "            answer = 1\n",
    "    return a\n",
    "\n",
    "def one_count(n):\n",
    "    count = 0\n",
    "    num = list(format(n,'b'))\n",
    "    for i in num :\n",
    "        if i == '1':\n",
    "            count += 1\n",
    "            \n",
    "    return count"
   ]
  },
  {
   "cell_type": "markdown",
   "metadata": {},
   "source": [
    "## 예상 대진표"
   ]
  },
  {
   "cell_type": "code",
   "execution_count": 4,
   "metadata": {},
   "outputs": [],
   "source": [
    "def solution(n,a,b):\n",
    "    answer = 0\n",
    "    while a != b:\n",
    "        answer += 1\n",
    "        a = (a+1)//2\n",
    "        b = (b+1)//2\n",
    "    \n",
    "    return answer"
   ]
  },
  {
   "cell_type": "markdown",
   "metadata": {},
   "source": [
    "## 땅따먹기"
   ]
  },
  {
   "cell_type": "code",
   "execution_count": 17,
   "metadata": {},
   "outputs": [],
   "source": [
    "def solution(land):\n",
    "    for i in range(1,len(land)):\n",
    "        land[i][0]=max(land[i][0]+land[i-1][1],land[i][0]+land[i-1][2],land[i][0]+land[i-1][3])\n",
    "        land[i][1]=max(land[i][1]+land[i-1][0],land[i][1]+land[i-1][2],land[i][1]+land[i-1][3])\n",
    "        land[i][2]=max(land[i][2]+land[i-1][0],land[i][2]+land[i-1][1],land[i][2]+land[i-1][3])\n",
    "        land[i][3]=max(land[i][3]+land[i-1][0],land[i][3]+land[i-1][1],land[i][3]+land[i-1][2])\n",
    "    return max(land[i])"
   ]
  },
  {
   "cell_type": "code",
   "execution_count": 19,
   "metadata": {},
   "outputs": [],
   "source": [
    "# best\n",
    "def solution(land):\n",
    "\n",
    "    for i in range(1, len(land)):\n",
    "        for j in range(len(land[0])):\n",
    "            land[i][j] = max(land[i -1][: j] + land[i - 1][j + 1:]) + land[i][j]\n",
    "\n",
    "    return max(land[-1])"
   ]
  },
  {
   "cell_type": "markdown",
   "metadata": {},
   "source": [
    "## 짝지어 제거하기"
   ]
  },
  {
   "cell_type": "code",
   "execution_count": 41,
   "metadata": {},
   "outputs": [],
   "source": [
    "def solution(s):\n",
    "    a  = []\n",
    "    \n",
    "    for i in s :\n",
    "        if len(a) == 0 :\n",
    "            a.append(i)\n",
    "        elif a[-1] == i :\n",
    "            a.pop()\n",
    "        else :\n",
    "            a.append(i)\n",
    "    \n",
    "    if len(a) == 0:\n",
    "        return 1\n",
    "    else :\n",
    "        return 0"
   ]
  },
  {
   "cell_type": "markdown",
   "metadata": {},
   "source": [
    "## 숫자의 표현"
   ]
  },
  {
   "cell_type": "code",
   "execution_count": 57,
   "metadata": {},
   "outputs": [],
   "source": [
    "def solution(n):\n",
    "    answer = 0\n",
    "    for i in range(1,n+1):\n",
    "        answer += sum_fn(i,n)\n",
    "    return answer\n",
    "\n",
    "def sum_fn(i,n):\n",
    "    answer_num = 0\n",
    "    count = n-i+1\n",
    "    answer = 0\n",
    "    while count > 0 :\n",
    "        answer_num += i\n",
    "        i +=1\n",
    "        if answer_num == n :\n",
    "            answer = 1\n",
    "            break\n",
    "        elif answer_num > n:\n",
    "            break\n",
    "        count -= 1\n",
    "        \n",
    "    return answer"
   ]
  },
  {
   "cell_type": "markdown",
   "metadata": {},
   "source": [
    "## 피보나치 수"
   ]
  },
  {
   "cell_type": "code",
   "execution_count": null,
   "metadata": {},
   "outputs": [],
   "source": [
    "def solution(n):\n",
    "    a,b = 0,1\n",
    "    for i in range(n):        \n",
    "        a,b = b,a+b\n",
    "        \n",
    "    return a%1234567\n",
    "    "
   ]
  },
  {
   "cell_type": "markdown",
   "metadata": {},
   "source": [
    "## 점프와 순간이동"
   ]
  },
  {
   "cell_type": "code",
   "execution_count": 11,
   "metadata": {},
   "outputs": [
    {
     "data": {
      "text/plain": [
       "0"
      ]
     },
     "execution_count": 11,
     "metadata": {},
     "output_type": "execute_result"
    }
   ],
   "source": [
    "def solution(n):\n",
    "    count = 0\n",
    "    while n >0 :\n",
    "        a = n //2\n",
    "        b = n % 2\n",
    "        n = a\n",
    "        \n",
    "        if b != 0 :\n",
    "            count += 1         \n",
    "        \n",
    "\n",
    "    return count"
   ]
  },
  {
   "cell_type": "markdown",
   "metadata": {},
   "source": [
    "## 가장 큰 정사각형 찾기"
   ]
  },
  {
   "cell_type": "code",
   "execution_count": 14,
   "metadata": {},
   "outputs": [],
   "source": [
    "def solution(board):\n",
    "    for i in range(1,len(board)):\n",
    "        for j in range(1,len(board[0])):\n",
    "            if board[i][j] == 1:\n",
    "                board[i][j] = min(board[i-1][j-1], min(board[i-1][j], board[i][j-1])) + 1    \n",
    "\n",
    "    return max([item for row in board for item in row])**2"
   ]
  },
  {
   "cell_type": "markdown",
   "metadata": {},
   "source": [
    "## 행렬의 곱셈"
   ]
  },
  {
   "cell_type": "code",
   "execution_count": 76,
   "metadata": {},
   "outputs": [],
   "source": [
    "def solution(arr1, arr2):\n",
    "    answer =[]\n",
    "    for i in range(len(arr1)):\n",
    "        num_list = []\n",
    "        for j in range(len(arr2[0])):\n",
    "            a = 0\n",
    "            for z in range(len(arr2)):\n",
    "                a += arr1[i][z]*arr2[z][j]\n",
    "            # print(a)\n",
    "            num_list.append(a)\n",
    "\n",
    "        answer.append(num_list)\n",
    "    \n",
    "    return answer"
   ]
  },
  {
   "cell_type": "markdown",
   "metadata": {},
   "source": [
    "## JadenCase 문자열 만들기"
   ]
  },
  {
   "cell_type": "code",
   "execution_count": 118,
   "metadata": {},
   "outputs": [],
   "source": [
    "def solution(s):\n",
    "    s = list(map(str,s.split(' ')))   \n",
    "\n",
    "    answer = []\n",
    "\n",
    "    for i in s:\n",
    "        answer.append(i.capitalize())\n",
    "    \n",
    "    return ' '.join(answer)"
   ]
  },
  {
   "cell_type": "markdown",
   "metadata": {},
   "source": [
    "## 최소값 만들기"
   ]
  },
  {
   "cell_type": "code",
   "execution_count": null,
   "metadata": {},
   "outputs": [],
   "source": [
    "def solution(A,B): \n",
    "    c = sorted(A)\n",
    "    d = sorted(B, reverse = True)\n",
    "        \n",
    "    answer = 0\n",
    "    \n",
    "    for i in range(len(A)):\n",
    "        answer += c[i]*d[i]\n",
    "\n",
    "\n",
    "    return answer"
   ]
  },
  {
   "cell_type": "markdown",
   "metadata": {},
   "source": [
    "## 최소값과 최대값"
   ]
  },
  {
   "cell_type": "code",
   "execution_count": null,
   "metadata": {},
   "outputs": [],
   "source": [
    "def solution(s):\n",
    "    s = list(map(int,s.split(' ')))\n",
    "    s.sort()\n",
    "    # print(s)\n",
    "    answer = ''\n",
    "    answer += str(s[0])+' '\n",
    "    answer += str(s[-1])\n",
    "    \n",
    "    return answer"
   ]
  },
  {
   "cell_type": "markdown",
   "metadata": {},
   "source": [
    "## 이진 변환 반복하기"
   ]
  },
  {
   "cell_type": "code",
   "execution_count": null,
   "metadata": {},
   "outputs": [],
   "source": [
    "def solution(s):\n",
    "    \n",
    "    zero_count = 0\n",
    "    return_count = 0\n",
    "    s = list(s)\n",
    "    \n",
    "    while s != ['1']:        \n",
    "        return_count += 1\n",
    "        \n",
    "        one_count = s.count('1')\n",
    "        zero_count += s.count('0')\n",
    "                \n",
    "        s = bin(one_count)        \n",
    "        s = list(s[2:])\n",
    "               \n",
    "        \n",
    "    answer = [return_count,zero_count]\n",
    "    \n",
    "    return answer"
   ]
  },
  {
   "cell_type": "markdown",
   "metadata": {},
   "source": [
    "## 영어 끝말잇기"
   ]
  },
  {
   "cell_type": "code",
   "execution_count": 3,
   "metadata": {},
   "outputs": [],
   "source": [
    "def solution(n, words):\n",
    "    words_list = [words[0]]\n",
    "    count = 0\n",
    "    for i in range(1,len(words)):\n",
    "        if words[i] in words_list :\n",
    "            count = i            \n",
    "            break\n",
    "        \n",
    "        if words[i][0] != words[i-1][-1] : \n",
    "            count = i\n",
    "            break\n",
    "        else:\n",
    "            words_list.append(words[i])\n",
    "    \n",
    "    if count == 0 :\n",
    "        return [0,0]\n",
    "    else :\n",
    "        if (count+1)%n == 0 :\n",
    "            people_count = n\n",
    "            order = (count+1)//n\n",
    "        else :\n",
    "            people_count = (count+1)%n\n",
    "            order = (count//n)+1\n",
    "            \n",
    "        return [people_count,order]"
   ]
  },
  {
   "cell_type": "markdown",
   "metadata": {},
   "source": [
    "## 소수만들기"
   ]
  },
  {
   "cell_type": "code",
   "execution_count": null,
   "metadata": {},
   "outputs": [],
   "source": [
    "import math\n",
    "def prime_number(n):\n",
    "    num_list = [False]+[False]+[True]*3000\n",
    "    \n",
    "    for i in range(2,int(math.sqrt(n))+1):\n",
    "        if num_list :\n",
    "            for j in range(i*i,3001,i):\n",
    "                if num_list[j] == True:\n",
    "                    num_list[j] = False\n",
    "    return num_list\n",
    "        \n",
    "    \n",
    "\n",
    "def solution(nums):\n",
    "    count = 0\n",
    "    num_list = prime_number(3010)\n",
    "    for a in range(len(nums)):\n",
    "        for b in range(a+1,len(nums)):\n",
    "            for c in range(b+1,len(nums)):\n",
    "                sum_num = nums[a]+nums[b]+nums[c]\n",
    "                if num_list[sum_num] == True:\n",
    "                    count += 1\n",
    "                \n",
    "    return count"
   ]
  },
  {
   "cell_type": "markdown",
   "metadata": {},
   "source": [
    "## N개의 최소 공배수"
   ]
  },
  {
   "cell_type": "code",
   "execution_count": 4,
   "metadata": {},
   "outputs": [],
   "source": [
    "def solution(arr):\n",
    "    answer = 0\n",
    "    for i in range(2,10897286500):\n",
    "        count = 0\n",
    "        for j in range(len(arr)):\n",
    "            if i%arr[j] == 0 :              \n",
    "                count += 1\n",
    "                continue\n",
    "            else :\n",
    "                break\n",
    "        if count == len(arr):\n",
    "            answer = i\n",
    "            break\n",
    "    \n",
    "    return answer"
   ]
  },
  {
   "cell_type": "markdown",
   "metadata": {},
   "source": [
    "## 파일명 정렬"
   ]
  },
  {
   "cell_type": "code",
   "execution_count": 18,
   "metadata": {},
   "outputs": [],
   "source": [
    "files = ['img12.png', 'img10.png', 'img02.png', 'img1.png', 'IMG01.GIF', 'img2.JPG']"
   ]
  },
  {
   "cell_type": "code",
   "execution_count": 61,
   "metadata": {},
   "outputs": [
    {
     "name": "stdout",
     "output_type": "stream",
     "text": [
      "[['img', '1', '.png'], ['IMG', '01', '.GIF'], ['img', '02', '.png'], ['img', '2', '.JPG'], ['img', '10', '.png'], ['img', '12', '.png']]\n"
     ]
    }
   ],
   "source": [
    "answer_list = []    \n",
    "for i in range(len(files)):\n",
    "    s = list(files[i])\n",
    "    new_s  = []\n",
    "    text = []\n",
    "    check_num = 0\n",
    "    for j in range(len(s)):      \n",
    "        if s[j].isdigit() ==True and check_num == 0:\n",
    "            new_s.append(''.join(s[:j]))\n",
    "            text.append(s[j])\n",
    "            check_num = 1            \n",
    "        elif s[j].isdigit() ==True and check_num == 1:\n",
    "            text.append(s[j])\n",
    "        elif s[j].isdigit() == False and check_num == 0:\n",
    "            continue\n",
    "        elif s[j].isdigit() == False and check_num == 1:\n",
    "            new_s.append(''.join(text))\n",
    "            new_s.append(''.join(s[j:]))\n",
    "            break\n",
    "            \n",
    "    answer_list.append(new_s)\n",
    "     \n",
    "answer_list.sort(key = lambda x : int(x[1]))\n",
    "print(answer_list)\n",
    "\n",
    "answer = []\n",
    "for i in answer_list :\n",
    "    answer.append(''.join(i))"
   ]
  },
  {
   "cell_type": "code",
   "execution_count": 62,
   "metadata": {
    "scrolled": true
   },
   "outputs": [
    {
     "data": {
      "text/plain": [
       "['img1.png', 'IMG01.GIF', 'img02.png', 'img2.JPG', 'img10.png', 'img12.png']"
      ]
     },
     "execution_count": 62,
     "metadata": {},
     "output_type": "execute_result"
    }
   ],
   "source": [
    "answer"
   ]
  },
  {
   "cell_type": "markdown",
   "metadata": {},
   "source": [
    "## 주식가격"
   ]
  },
  {
   "cell_type": "code",
   "execution_count": null,
   "metadata": {},
   "outputs": [],
   "source": [
    "def solution(prices):\n",
    "    a =[]\n",
    "    # b = 0\n",
    "    for i in range(len(prices)):\n",
    "        b = 0\n",
    "        for j in range(i+1,len(prices)):\n",
    "            if prices[i] <= prices[j]:\n",
    "                b += 1\n",
    "            elif prices[i] > prices[j]:\n",
    "                b += 1\n",
    "                break\n",
    "            # else :\n",
    "            #     b += 0\n",
    "        a.append(b)\n",
    "        # b = 0\n",
    "   \n",
    "\n",
    "            \n",
    "    \n",
    "    return a"
   ]
  },
  {
   "cell_type": "markdown",
   "metadata": {},
   "source": [
    "## 삼각 달팽이"
   ]
  },
  {
   "cell_type": "code",
   "execution_count": 5,
   "metadata": {},
   "outputs": [],
   "source": [
    "def solution(n):\n",
    "    matrix = [[0]*n for _ in range(n)]\n",
    "    num = 1\n",
    "    \n",
    "    add_list = [[1,0],[0,1],[-1,-1]]\n",
    "    x,y = -1,0\n",
    "    m = 0\n",
    "    \n",
    "    while n > 0 :\n",
    "        for i in range(n):\n",
    "            x += add_list[m%3][0]\n",
    "            y += add_list[m%3][1]\n",
    "            matrix[x][y] = num\n",
    "            num += 1\n",
    "        m += 1\n",
    "        n -= 1\n",
    "    \n",
    "    \n",
    "    answer = []\n",
    "    for i in matrix:        \n",
    "        for j in i :            \n",
    "            if j != 0:\n",
    "                answer.append(j)\n",
    "    return answer"
   ]
  },
  {
   "cell_type": "markdown",
   "metadata": {},
   "source": [
    "## 폰켓몬"
   ]
  },
  {
   "cell_type": "code",
   "execution_count": 4,
   "metadata": {},
   "outputs": [],
   "source": [
    "def solution(nums):\n",
    "    mon_list = []\n",
    "    count = 0\n",
    "    for i in nums:\n",
    "        if i not in mon_list :\n",
    "            mon_list.append(i)\n",
    "            count += 1\n",
    "            if count == len(nums)/2:\n",
    "                break\n",
    "        else :\n",
    "            continue\n",
    "    \n",
    "    return len(mon_list)"
   ]
  }
 ],
 "metadata": {
  "kernelspec": {
   "display_name": "Python 3",
   "language": "python",
   "name": "python3"
  },
  "language_info": {
   "codemirror_mode": {
    "name": "ipython",
    "version": 3
   },
   "file_extension": ".py",
   "mimetype": "text/x-python",
   "name": "python",
   "nbconvert_exporter": "python",
   "pygments_lexer": "ipython3",
   "version": "3.8.3"
  }
 },
 "nbformat": 4,
 "nbformat_minor": 4
}
