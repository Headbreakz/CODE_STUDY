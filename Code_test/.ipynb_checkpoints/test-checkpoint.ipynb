{
 "cells": [
  {
   "cell_type": "markdown",
   "metadata": {},
   "source": [
    "## level 1 -1"
   ]
  },
  {
   "cell_type": "code",
   "execution_count": 8,
   "metadata": {},
   "outputs": [],
   "source": [
    "def solution(n):\n",
    "    answer = ''\n",
    "    for i in range(1,n+1):\n",
    "        if i%2 == 1:\n",
    "            answer += '수'\n",
    "        else :\n",
    "            answer += '박'\n",
    "\n",
    "    return answer"
   ]
  },
  {
   "cell_type": "markdown",
   "metadata": {},
   "source": [
    "## level 1 -2"
   ]
  },
  {
   "cell_type": "code",
   "execution_count": 9,
   "metadata": {},
   "outputs": [],
   "source": [
    "def solution(participant, completion): \n",
    "    a ={}\n",
    "\n",
    "    for i in participant:\n",
    "        if a.get(i) == None:\n",
    "            a[i] = 1\n",
    "        else :\n",
    "            a[i] += 1\n",
    "    for j in completion:\n",
    "        if a.get(j) != None :\n",
    "            a[j] -= 1\n",
    "            if a[j] == 0:\n",
    "                del a[j]      \n",
    "\n",
    "\n",
    "    return list(a.keys())[0]"
   ]
  },
  {
   "cell_type": "markdown",
   "metadata": {},
   "source": [
    "## level 2 -1"
   ]
  },
  {
   "cell_type": "code",
   "execution_count": null,
   "metadata": {},
   "outputs": [],
   "source": [
    "import math\n",
    "def solution(brown, yellow):\n",
    "    total= brown+yellow    \n",
    "\n",
    "    answer_list=[]\n",
    "    \n",
    "\n",
    "    for i in range(1,brown):\n",
    "        for j in range(1,brown):\n",
    "            if i * j == total and i >= j:\n",
    "                answer_list.append([i,j])\n",
    "\n",
    "    for i in answer_list:\n",
    "        if (i[0]*2)+(i[1]*2)-4 == brown:\n",
    "            return i"
   ]
  },
  {
   "cell_type": "markdown",
   "metadata": {},
   "source": [
    "## level 2 -2"
   ]
  },
  {
   "cell_type": "code",
   "execution_count": null,
   "metadata": {},
   "outputs": [],
   "source": [
    "from re import split\n",
    "from itertools import permutations\n",
    "lst = permutations(['*','+','-']) \n",
    "\n",
    "def solution(expression):\n",
    "    answer = 0\n",
    "    for l in lst:\n",
    "        num = split('[*+-]',expression) \n",
    "        opr = split('[0-9]+',expression)[1:-1] \n",
    "        \n",
    "        for x in l[:2]:\n",
    "            while x in opr:\n",
    "                idx = opr.index(x)\n",
    "                tmp = num[idx]+opr[idx]+num[idx+1]\n",
    "                num[idx] = str(eval(tmp))\n",
    "                num.pop(idx+1)\n",
    "                opr.pop(idx)\n",
    "        \n",
    "        tmp = ''\n",
    "        for i in range(len(opr)):\n",
    "            tmp += num[i] + opr[i]\n",
    "        tmp = abs(eval(tmp + num[-1]))\n",
    "        \n",
    "        if tmp > answer:\n",
    "            answer = tmp\n",
    "    return answer"
   ]
  }
 ],
 "metadata": {
  "kernelspec": {
   "display_name": "Python 3",
   "language": "python",
   "name": "python3"
  },
  "language_info": {
   "codemirror_mode": {
    "name": "ipython",
    "version": 3
   },
   "file_extension": ".py",
   "mimetype": "text/x-python",
   "name": "python",
   "nbconvert_exporter": "python",
   "pygments_lexer": "ipython3",
   "version": "3.8.3"
  }
 },
 "nbformat": 4,
 "nbformat_minor": 4
}
