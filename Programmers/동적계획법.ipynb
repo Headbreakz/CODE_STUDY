{
 "cells": [
  {
   "cell_type": "markdown",
   "metadata": {},
   "source": [
    "## N으로 표현"
   ]
  },
  {
   "cell_type": "code",
   "execution_count": null,
   "metadata": {},
   "outputs": [],
   "source": []
  },
  {
   "cell_type": "markdown",
   "metadata": {},
   "source": [
    "## 정수 삼각형"
   ]
  },
  {
   "cell_type": "code",
   "execution_count": 30,
   "metadata": {},
   "outputs": [],
   "source": [
    "def solution(triangle):\n",
    "    a = triangle\n",
    "    for i in range(1,len(a)) :\n",
    "        for j in range(i+1):\n",
    "            if j == 0 :\n",
    "                a[i][j] += a[i-1][j]\n",
    "            elif j == i :\n",
    "                a[i][j] += a[i-1][j-1]\n",
    "            else :\n",
    "                a[i][j] += max(a[i-1][j],a[i-1][j-1])\n",
    "    \n",
    "    \n",
    "    return max(a[-1])\n",
    "\n",
    "    "
   ]
  },
  {
   "cell_type": "code",
   "execution_count": null,
   "metadata": {},
   "outputs": [],
   "source": [
    "#best \n",
    "def solution(t, l=[]):\n",
    "    for r in t: l=[max(t,y)+z for t,y,z in zip([0]+l,l+[0],r)]\n",
    "    return max(l)\n",
    "\n",
    "\n",
    "solution = lambda t, l = []: max(l) if not t else solution(t[1:], [max(x,y)+z for x,y,z in zip([0]+l, l+[0], t[0])])"
   ]
  },
  {
   "cell_type": "markdown",
   "metadata": {},
   "source": [
    "## 등교길"
   ]
  },
  {
   "cell_type": "code",
   "execution_count": 49,
   "metadata": {},
   "outputs": [],
   "source": [
    "def solution(m, n, puddles):\n",
    "    a = [[0]*(m+1) for _ in range(n+1)]\n",
    "    a[1][0] = 1\n",
    "    # print(a)\n",
    "    for i in range(1,n+1):\n",
    "        for j in range(1,m+1):        \n",
    "            if [j,i] in puddles:\n",
    "                a[i][j] = 0 \n",
    "            else :\n",
    "                a[i][j] = a[i-1][j]+ a[i][j-1]\n",
    "    \n",
    "    \n",
    "    return a[n][m]%1000000007"
   ]
  }
 ],
 "metadata": {
  "kernelspec": {
   "display_name": "Python 3",
   "language": "python",
   "name": "python3"
  },
  "language_info": {
   "codemirror_mode": {
    "name": "ipython",
    "version": 3
   },
   "file_extension": ".py",
   "mimetype": "text/x-python",
   "name": "python",
   "nbconvert_exporter": "python",
   "pygments_lexer": "ipython3",
   "version": "3.8.3"
  }
 },
 "nbformat": 4,
 "nbformat_minor": 4
}
