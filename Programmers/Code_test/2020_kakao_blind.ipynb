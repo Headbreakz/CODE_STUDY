{
 "cells": [
  {
   "cell_type": "markdown",
   "metadata": {},
   "source": [
    "## 문자열 압축"
   ]
  },
  {
   "cell_type": "code",
   "execution_count": null,
   "metadata": {},
   "outputs": [],
   "source": [
    "def solution(s):\n",
    "    answer = ''\n",
    "    answer_list = []\n",
    "    count = 1\n",
    "    \n",
    "    if len(s) == 1:\n",
    "        return 1\n",
    "    \n",
    "    \n",
    "    \n",
    "    for i in range(1,len(s)):\n",
    "        count = 1\n",
    "        for j in range(0,len(s),i):\n",
    "\n",
    "            if s[j:j+i] == s[j+i:j+i+i]:\n",
    "                count += 1\n",
    "            elif s[j:j+i] != s[j+i:j+i+i]:\n",
    "                if count == 1 :\n",
    "                    answer += s[j:j+i]\n",
    "                else :\n",
    "                    answer += str(count)\n",
    "                    answer += s[j:j+i]\n",
    "                    count = 1\n",
    "\n",
    "\n",
    "        answer_list.append(len(answer))\n",
    "        answer = ''\n",
    "    answer_list.sort()\n",
    "    \n",
    "    return answer_list[0]"
   ]
  },
  {
   "cell_type": "markdown",
   "metadata": {},
   "source": [
    "## 가사검색"
   ]
  },
  {
   "cell_type": "code",
   "execution_count": null,
   "metadata": {},
   "outputs": [],
   "source": [
    "words = [\"frodo\", \"front\", \"frost\", \"frozen\", \"frame\", \"kakao\"]\n",
    "queries = [\"fro??\", \"????o\", \"fr???\", \"fro???\", \"pro?\"]\n",
    "\n",
    "#trie 공부\n",
    "\n",
    "def solution(words, queries):\n",
    "    answer = [0 for _ in range(len(queries))]\n",
    "    for i in range(len(queries)) :\n",
    "        count = 0\n",
    "        for j in words :\n",
    "            check = 0\n",
    "            if len(queries[i]) == len(j) :            \n",
    "                for z in range(len(j)):\n",
    "                    if queries[i][z] == j[z] or queries[i][z] == '?' :\n",
    "                        check += 1\n",
    "                    else :\n",
    "                        break\n",
    "            if check == len(j):\n",
    "                answer[i] += 1\n",
    "\n",
    "\n",
    "        \n",
    "\n",
    "    \n",
    "    return answer"
   ]
  },
  {
   "cell_type": "markdown",
   "metadata": {},
   "source": [
    "## 괄호 변환"
   ]
  },
  {
   "cell_type": "code",
   "execution_count": null,
   "metadata": {},
   "outputs": [],
   "source": [
    "def solution(p):\n",
    "\n",
    "    if p ==\"\":\n",
    "        return \"\"\n",
    "    elif len(p) % 2 == 0:\n",
    "        qq = div_val(p,point_val(p))       \n",
    "        if qq == None:\n",
    "            return \"\"\n",
    "        return qq\n",
    "\n",
    "\n",
    "\n",
    "def point_val(p):\n",
    "    a = 0\n",
    "    count = 1\n",
    "    q = list(p)\n",
    "    for i in range(len(q)):\n",
    "        if q[i]==\"(\":\n",
    "            count +=2\n",
    "            if count == 1:\n",
    "                a = i\n",
    "                break\n",
    "\n",
    "        elif q[i]==\")\":\n",
    "            count -=2\n",
    "            if count == 1:\n",
    "                a = i\n",
    "                break\n",
    "    return a\n",
    "\n",
    "def div_val(p,a):\n",
    "    count = []\n",
    "    q = list(p)\n",
    "    u =q[:a+1]\n",
    "    v =p[a+1:]\n",
    "    if check_val(u) ==True :\n",
    "        return p[:a+1]+solution(v)\n",
    "    else :    \n",
    "        v = \"(\"+solution(v)+\")\"        \n",
    "        u =u[1:-1]\n",
    "        for i in range(len(u)):\n",
    "            if u[i]==\"(\":\n",
    "                u[i] = \")\"\n",
    "            elif u[i] ==\")\":\n",
    "                u[i]= \"(\"\n",
    "        u=\"\".join(u)\n",
    "\n",
    "        answer = v + u\n",
    "\n",
    "        return answer\n",
    "\n",
    "def check_val(u):\n",
    "    count=[]\n",
    "    for i in range(len(u)):\n",
    "        if u[i] == \"(\":\n",
    "            count.append(u[i])\n",
    "        elif u[i] == \")\" :\n",
    "            if len(count) == 0:\n",
    "                return False\n",
    "            else :\n",
    "                count.pop()\n",
    "\n",
    "    if len(count) != 0 :\n",
    "        return False    \n",
    "    else :\n",
    "        return True"
   ]
  },
  {
   "cell_type": "markdown",
   "metadata": {},
   "source": [
    "## 자물쇠와 열쇠"
   ]
  },
  {
   "cell_type": "code",
   "execution_count": 1,
   "metadata": {},
   "outputs": [],
   "source": [
    "lock = [[1, 1, 1], [1, 1, 0], [1, 0, 1]]\n",
    "key = [[0, 0, 0], [1, 0, 0], [0, 1, 1]]"
   ]
  },
  {
   "cell_type": "code",
   "execution_count": 25,
   "metadata": {},
   "outputs": [
    {
     "name": "stdout",
     "output_type": "stream",
     "text": [
      "sd\n",
      "[(1, 2), (2, 1)]\n",
      "[((1, 0), (2, 1)), ((1, 0), (2, 2)), ((2, 1), (2, 2))]\n"
     ]
    }
   ],
   "source": [
    "def solution(key, lock):\n",
    "    lock_check = []\n",
    "    key_check = []\n",
    "    lock_list = []\n",
    "    key_list = []\n",
    "    \n",
    "    #열쇠 \n",
    "    for i in range(len(lock)):\n",
    "        for j in range(len(lock[i])):\n",
    "            if lock[i][j] == 0:\n",
    "                lock_check.append((i,j))\n",
    "    for a,b in lock_check :\n",
    "        for c,d in lock_check :\n",
    "            if a == c and b == d :\n",
    "                continue\n",
    "            if (abs(a-c),abs(d-b)) not in lock_list :\n",
    "                lock_list.append((abs(a-c),abs(d-b)))\n",
    "    # 키\n",
    "    for i in range(len(key)):\n",
    "        for j in range(len(key[i])):\n",
    "            if key[i][j] == 1:\n",
    "                key_check.append((i,j))\n",
    "    for a,b in key_check :\n",
    "        for c,d in key_check :\n",
    "            if a == c and b == d :\n",
    "                continue\n",
    "            if (abs(a-c),abs(d-b)) not in key_list :\n",
    "                key_list.append((abs(a-c),abs(d-b)))\n",
    "                \n",
    "    #결과\n",
    "    for e in lock_list :\n",
    "        if e in key_list :\n",
    "            continue\n",
    "        else :\n",
    "            return False\n",
    "    return True"
   ]
  },
  {
   "cell_type": "markdown",
   "metadata": {},
   "source": [
    "## 기둥과 보 설치"
   ]
  },
  {
   "cell_type": "code",
   "execution_count": null,
   "metadata": {},
   "outputs": [],
   "source": []
  },
  {
   "cell_type": "markdown",
   "metadata": {},
   "source": [
    "## 외벽 점검"
   ]
  },
  {
   "cell_type": "code",
   "execution_count": 27,
   "metadata": {},
   "outputs": [
    {
     "data": {
      "text/plain": [
       "[1, 5, 6, 10, 13, 17, 18, 22]"
      ]
     },
     "execution_count": 27,
     "metadata": {},
     "output_type": "execute_result"
    }
   ],
   "source": [
    "weak = [1, 5, 6, 10]\n",
    "n = 12\n",
    "\n",
    "for i in range(len(weak)):\n",
    "    weak.append(weak[i] + n)\n",
    "weak"
   ]
  },
  {
   "cell_type": "markdown",
   "metadata": {},
   "source": [
    "## 블록 이동하기"
   ]
  },
  {
   "cell_type": "code",
   "execution_count": null,
   "metadata": {},
   "outputs": [],
   "source": []
  }
 ],
 "metadata": {
  "kernelspec": {
   "display_name": "Python 3",
   "language": "python",
   "name": "python3"
  },
  "language_info": {
   "codemirror_mode": {
    "name": "ipython",
    "version": 3
   },
   "file_extension": ".py",
   "mimetype": "text/x-python",
   "name": "python",
   "nbconvert_exporter": "python",
   "pygments_lexer": "ipython3",
   "version": "3.8.3"
  }
 },
 "nbformat": 4,
 "nbformat_minor": 4
}
