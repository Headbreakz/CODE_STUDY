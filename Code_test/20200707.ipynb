{
 "cells": [
  {
   "cell_type": "code",
   "execution_count": 115,
   "metadata": {},
   "outputs": [],
   "source": [
    "def solution(param0):\n",
    "    numbers = param0.copy()\n",
    "    for i in range(len(numbers)):\n",
    "        position = i\n",
    "        target = numbers[i]\n",
    "        while (position != 0 and numbers[position-1] > target):\n",
    "            numbers[position] = numbers[position-1]\n",
    "            position -= 1\n",
    "        numbers[position] = target        \n",
    "    \n",
    "    answer = same_list(param0,numbers)\n",
    "    return answer\n",
    "\n",
    "def same_list(list_1,list_2):\n",
    "    number_list = []\n",
    "    for index,(i,j) in enumerate(zip(list_1,list_2)):\n",
    "        if i != j :\n",
    "            number_list.append(index)\n",
    "    answer = [number_list[0],number_list[-1]]\n",
    "    return answer\n",
    "            \n",
    "\n",
    "# [1, 2, 4, 7, 10, 11, 7, 12, 6, 7, 16, 18, 19]\n",
    "# 3 9\n",
    "\n",
    "# [3, 2, 4, 2, 15, 12, 9, 16, 18, 19]\n",
    "# 0 6"
   ]
  },
  {
   "cell_type": "code",
   "execution_count": 116,
   "metadata": {},
   "outputs": [
    {
     "name": "stdout",
     "output_type": "stream",
     "text": [
      "[3, 2, 4, 2, 15, 12, 9, 16, 18, 19]\n",
      "[2, 2, 15, 12, 9, 16, 18, 19, 3, 4]\n",
      "[0]\n",
      "[0, 2]\n",
      "[0, 2, 3]\n",
      "[0, 2, 3, 4]\n",
      "[0, 2, 3, 4, 5]\n",
      "[0, 2, 3, 4, 5, 6]\n",
      "[0, 2, 3, 4, 5, 6, 7]\n",
      "[0, 2, 3, 4, 5, 6, 7, 8]\n",
      "[0, 2, 3, 4, 5, 6, 7, 8, 9]\n"
     ]
    },
    {
     "data": {
      "text/plain": [
       "[0, 9]"
      ]
     },
     "execution_count": 116,
     "metadata": {},
     "output_type": "execute_result"
    }
   ],
   "source": [
    "import sys\n",
    "import math\n",
    "\n",
    "line = int(sys.stdin.readline())\n",
    "\n",
    "\n",
    "#소수 찾기\n",
    "number_list = [False]+[False]+ [True]*(line-1)\n",
    " \n",
    "for i in range(2,int(math.sqrt(line))+1):\n",
    "    if number_list[i] == True :\n",
    "        for j in range(i+i,line,i):\n",
    "            number_list[j] = False\n",
    "\n",
    "#소수값 리스트            \n",
    "prime_number_list = [i for i in range(line+1) if number_list[i]]\n",
    "\n",
    "\n",
    "#소인수 분해\n",
    "factors = []\n",
    "\n",
    "for i in prime_number_list:\n",
    "    count = 0\n",
    "    while line % i == 0 :\n",
    "        count += 1\n",
    "        line = line//i\n",
    "    if count > 0 :\n",
    "        factors.append((i,count))\n",
    "        \n",
    "#축약식\n",
    "answer_word = ''\n",
    "answer_number = 1\n",
    "\n",
    "for i in factors:\n",
    "    answer_word += str(i[0])+'^'+str(i[1])+' * '\n",
    "    answer_number = answer_number* (i[1]+1)\n",
    "    \n",
    "#output\n",
    "print(f\"{answer_word[:-3]}\\n{answer_number}\")"
   ]
  }
 ],
 "metadata": {
  "kernelspec": {
   "display_name": "Python 3",
   "language": "python",
   "name": "python3"
  },
  "language_info": {
   "codemirror_mode": {
    "name": "ipython",
    "version": 3
   },
   "file_extension": ".py",
   "mimetype": "text/x-python",
   "name": "python",
   "nbconvert_exporter": "python",
   "pygments_lexer": "ipython3",
   "version": "3.8.3"
  }
 },
 "nbformat": 4,
 "nbformat_minor": 4
}
