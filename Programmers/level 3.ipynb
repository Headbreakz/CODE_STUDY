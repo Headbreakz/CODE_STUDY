{
 "cells": [
  {
   "cell_type": "markdown",
   "metadata": {},
   "source": [
    "## 두개 뽑아서 더하기"
   ]
  },
  {
   "cell_type": "code",
   "execution_count": 4,
   "metadata": {},
   "outputs": [],
   "source": [
    "def solution(numbers):\n",
    "    answer = []\n",
    "    for i in range(len(numbers)):\n",
    "        for j in range(len(numbers)):\n",
    "            if i == j:\n",
    "                continue\n",
    "            a = numbers[i]+numbers[j]\n",
    "\n",
    "            if a not in answer :\n",
    "                answer.append(a)\n",
    "    answer.sort()\n",
    "    return answer"
   ]
  },
  {
   "cell_type": "markdown",
   "metadata": {},
   "source": [
    "## 2 X N 타일링"
   ]
  },
  {
   "cell_type": "code",
   "execution_count": null,
   "metadata": {},
   "outputs": [],
   "source": [
    "def solution(n):   \n",
    "    \n",
    "    a,b = 1,2\n",
    "    for i in range(1,n):        \n",
    "        a,b = b,a+b\n",
    "        \n",
    "    return a%1000000007"
   ]
  },
  {
   "cell_type": "markdown",
   "metadata": {},
   "source": [
    "## 네트워크"
   ]
  },
  {
   "cell_type": "code",
   "execution_count": 5,
   "metadata": {},
   "outputs": [],
   "source": [
    "def solution(n, computers):\n",
    "    visited = [[0]*n for _ in range(n)]\n",
    "    newlist = []\n",
    "    \n",
    "    for i in range(n):\n",
    "        if set(bfs(i,computers)) not in newlist :\n",
    "            newlist.append(set(bfs(i,computers)))\n",
    "        \n",
    "            \n",
    "    return len(newlist)\n",
    "\n",
    "def bfs(start,computers):\n",
    "        queue = [start]\n",
    "        visited = [start]\n",
    "                \n",
    "        while queue :\n",
    "            n = queue.pop(0)\n",
    "            \n",
    "            for i in range(len(computers[start])):\n",
    "                if computers[n][i] == 1 and i not in visited :\n",
    "                    visited.append(i)\n",
    "                    queue.append(i)\n",
    "        return visited"
   ]
  }
 ],
 "metadata": {
  "kernelspec": {
   "display_name": "Python 3",
   "language": "python",
   "name": "python3"
  },
  "language_info": {
   "codemirror_mode": {
    "name": "ipython",
    "version": 3
   },
   "file_extension": ".py",
   "mimetype": "text/x-python",
   "name": "python",
   "nbconvert_exporter": "python",
   "pygments_lexer": "ipython3",
   "version": "3.8.3"
  }
 },
 "nbformat": 4,
 "nbformat_minor": 4
}
