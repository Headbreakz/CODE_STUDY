{
 "cells": [
  {
   "cell_type": "markdown",
   "metadata": {},
   "source": [
    "## 없어진 기록 찾기"
   ]
  },
  {
   "cell_type": "code",
   "execution_count": null,
   "metadata": {},
   "outputs": [],
   "source": [
    "SELECT\n",
    "    O.ANIMAL_ID,O.NAME\n",
    "FROM\n",
    "    ANIMAL_OUTS O\n",
    "LEFT JOIN\n",
    "    ANIMAL_INS I\n",
    "ON \n",
    "    O.ANIMAL_ID = I.ANIMAL_ID\n",
    "WHERE \n",
    "    I.ANIMAL_ID IS NULL"
   ]
  },
  {
   "cell_type": "markdown",
   "metadata": {},
   "source": [
    "## 있었는데요 없었습니다"
   ]
  },
  {
   "cell_type": "code",
   "execution_count": null,
   "metadata": {},
   "outputs": [],
   "source": [
    "SELECT\n",
    "    I.ANIMAL_ID,I.NAME\n",
    "FROM\n",
    "    ANIMAL_INS I\n",
    "LEFT JOIN\n",
    "    ANIMAL_OUTS O\n",
    "ON\n",
    "    I.ANIMAL_ID = O.ANIMAL_ID\n",
    "WHERE\n",
    "    I.DATETIME > O.DATETIME\n",
    "ORDER BY\n",
    "    I.DATETIME"
   ]
  },
  {
   "cell_type": "markdown",
   "metadata": {},
   "source": [
    "## 오랜 기간 보호한 동물(1)"
   ]
  },
  {
   "cell_type": "code",
   "execution_count": null,
   "metadata": {},
   "outputs": [],
   "source": [
    "SELECT\n",
    "    I.NAME,I.DATETIME\n",
    "FROM\n",
    "    ANIMAL_INS I    \n",
    "LEFT JOIN\n",
    "    ANIMAL_OUTS O    \n",
    "ON \n",
    "    I.ANIMAL_ID = O.ANIMAL_ID\n",
    "WHERE\n",
    "    O.DATETIME IS NULL    \n",
    "ORDER BY\n",
    "    I.DATETIME\n",
    "LIMIT \n",
    "    3"
   ]
  },
  {
   "cell_type": "markdown",
   "metadata": {},
   "source": [
    "## 보호소에서 중성화한 동물"
   ]
  },
  {
   "cell_type": "code",
   "execution_count": null,
   "metadata": {},
   "outputs": [],
   "source": [
    "SELECT\n",
    "    o.ANIMAL_ID,o.ANIMAL_TYPE,o.NAME\n",
    "FROM\n",
    "    ANIMAL_OUTS o\n",
    "RIGHT JOIN\n",
    "    ANIMAL_INS i\n",
    "ON\n",
    "    o.ANIMAL_ID = i.ANIMAL_ID\n",
    "WHERE\n",
    "     i.SEX_UPON_INTAKE like '%Intact%'\n",
    "     and (o.SEX_UPON_OUTCOME = 'Spayed Female' or o.SEX_UPON_OUTCOME = 'Neutered Male')\n",
    "ORDER BY\n",
    "    o.ANIMAL_ID\n",
    "    \n",
    "    \n"
   ]
  }
 ],
 "metadata": {
  "kernelspec": {
   "display_name": "Python 3",
   "language": "python",
   "name": "python3"
  },
  "language_info": {
   "codemirror_mode": {
    "name": "ipython",
    "version": 3
   },
   "file_extension": ".py",
   "mimetype": "text/x-python",
   "name": "python",
   "nbconvert_exporter": "python",
   "pygments_lexer": "ipython3",
   "version": "3.6.5"
  }
 },
 "nbformat": 4,
 "nbformat_minor": 4
}
