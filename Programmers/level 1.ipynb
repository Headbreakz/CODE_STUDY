{
 "cells": [
  {
   "cell_type": "markdown",
   "metadata": {},
   "source": [
    "## 2016년"
   ]
  },
  {
   "cell_type": "code",
   "execution_count": 6,
   "metadata": {},
   "outputs": [],
   "source": [
    "def solution(a, b):\n",
    "    month = [31,29,31,30,31,30,31,31,30,31,30,31]\n",
    "    week = ['FRI','SAT','SUN','MON','TUE','WED','THU']\n",
    "    day = 0\n",
    "    for i in range(a-1):\n",
    "        day += month[i]\n",
    "    day += b\n",
    "    \n",
    "    answer = week[(day%7)-1]\n",
    "    return answer"
   ]
  },
  {
   "cell_type": "markdown",
   "metadata": {},
   "source": [
    "## 가운데 글자 가져오기"
   ]
  },
  {
   "cell_type": "code",
   "execution_count": 12,
   "metadata": {},
   "outputs": [
    {
     "data": {
      "text/plain": [
       "2"
      ]
     },
     "execution_count": 12,
     "metadata": {},
     "output_type": "execute_result"
    }
   ],
   "source": [
    "def solution(s):\n",
    "    if len(s)%2 == 1:\n",
    "        answer = s[(len(s)//2)]\n",
    "    else :\n",
    "        answer = s[(len(s)//2)-1:(len(s)//2)+1]\n",
    "    \n",
    "    return answer"
   ]
  },
  {
   "cell_type": "markdown",
   "metadata": {},
   "source": [
    "## 같은 숫자는 싫어"
   ]
  },
  {
   "cell_type": "code",
   "execution_count": 23,
   "metadata": {},
   "outputs": [],
   "source": [
    "def solution(arr):\n",
    "    num = [-1]\n",
    "    for i in range(len(arr)):\n",
    "        if arr[i] != num[-1]:\n",
    "            num.append(arr[i])\n",
    "    num.pop(0)\n",
    "    \n",
    "    return num"
   ]
  },
  {
   "cell_type": "markdown",
   "metadata": {},
   "source": [
    "## 나누어 떨어지는 숫자 배열"
   ]
  },
  {
   "cell_type": "code",
   "execution_count": null,
   "metadata": {},
   "outputs": [],
   "source": [
    "def solution(arr, divisor):\n",
    "    answer = []\n",
    "    for i in arr :\n",
    "        if i%divisor == 0:\n",
    "            answer.append(i)\n",
    "    \n",
    "    answer.sort()\n",
    "            \n",
    "    if len(answer) == 0 :\n",
    "        answer = [-1]\n",
    "    return answer"
   ]
  },
  {
   "cell_type": "markdown",
   "metadata": {},
   "source": [
    "## 두 정수 사이의 합"
   ]
  },
  {
   "cell_type": "code",
   "execution_count": 9,
   "metadata": {},
   "outputs": [],
   "source": [
    "def solution(a, b):\n",
    "    answer = []\n",
    "    \n",
    "    if a > b :\n",
    "        a,b = b,a+1\n",
    "    else :\n",
    "        a,b = a,b+1\n",
    "        \n",
    "    for i in range(a,b):\n",
    "        answer.append(i)\n",
    "    \n",
    "    \n",
    "    return sum(answer)"
   ]
  },
  {
   "cell_type": "markdown",
   "metadata": {},
   "source": [
    "## 문자열 내 마음대로 정렬하기"
   ]
  },
  {
   "cell_type": "code",
   "execution_count": 14,
   "metadata": {},
   "outputs": [],
   "source": [
    "def solution(strings, n):\n",
    "    strings.sort()\n",
    "    answer = sorted(strings, key = lambda x : x[n])\n",
    "    \n",
    "    return answer"
   ]
  },
  {
   "cell_type": "markdown",
   "metadata": {},
   "source": [
    "## 문자열 내 p와 y의 개수"
   ]
  },
  {
   "cell_type": "code",
   "execution_count": 21,
   "metadata": {},
   "outputs": [],
   "source": [
    "def solution(s):\n",
    "    c = s.upper()\n",
    "    a = c.count('P')\n",
    "    b = c.count('Y')\n",
    "    \n",
    "    if a == 0 and b == 0 :\n",
    "        return True\n",
    "    \n",
    "    if a == b :\n",
    "        return True\n",
    "    else :\n",
    "        return False    \n",
    "    "
   ]
  },
  {
   "cell_type": "markdown",
   "metadata": {},
   "source": [
    "## 문자열 내림차순으로 배치하기"
   ]
  },
  {
   "cell_type": "code",
   "execution_count": 36,
   "metadata": {},
   "outputs": [],
   "source": [
    "def solution(s):\n",
    "    s = list(map(str,s))\n",
    "    s.sort()\n",
    "    s.reverse()\n",
    "    s = ''.join(s)\n",
    "        \n",
    "    return s"
   ]
  }
 ],
 "metadata": {
  "kernelspec": {
   "display_name": "Python 3",
   "language": "python",
   "name": "python3"
  },
  "language_info": {
   "codemirror_mode": {
    "name": "ipython",
    "version": 3
   },
   "file_extension": ".py",
   "mimetype": "text/x-python",
   "name": "python",
   "nbconvert_exporter": "python",
   "pygments_lexer": "ipython3",
   "version": "3.8.3"
  }
 },
 "nbformat": 4,
 "nbformat_minor": 4
}
